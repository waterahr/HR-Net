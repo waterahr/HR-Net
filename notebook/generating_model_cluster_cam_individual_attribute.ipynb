{
 "cells": [
  {
   "cell_type": "code",
   "execution_count": 1,
   "metadata": {},
   "outputs": [
    {
     "name": "stdout",
     "output_type": "stream",
     "text": [
      "['upperBodyLogo', 'lowerBodyThinStripes', 'upperBodyThinStripes', 'upperBodyThickStripes', 'accessoryHeadphone', 'carryingBabyBuggy', 'carryingBackpack', 'hairBald', 'footwearBoots', 'carryingOther', 'carryingShoppingTro', 'carryingUmbrella', 'carryingFolder', 'accessoryHairBand', 'accessoryHat', 'lowerBodyHotPants', 'upperBodyJacket', 'lowerBodyJeans', 'accessoryKerchief', 'footwearLeatherShoes', 'hairLong', 'lowerBodyLongSkirt', 'upperBodyLongSleeve', 'carryingLuggageCase', 'carryingMessengerBag', 'accessoryMuffler', 'accessoryNothing', 'carryingNothing', 'upperBodyNoSleeve', 'carryingPlasticBags', 'footwearSandals', 'footwearShoes', 'hairShort', 'lowerBodyShorts', 'upperBodyShortSleeve', 'lowerBodyShortSkirt', 'footwearSneakers', 'footwearStocking', 'upperBodySuit', 'carryingSuitcase', 'lowerBodySuits', 'accessorySunglasses', 'upperBodySweater', 'lowerBodyTrousers', 'upperBodyTshirt', 'upperBodyOther', 'upperBodyVNeck', 'personalLess15', 'personalLess30', 'personalLess45', 'personalLess60', 'personalLarger60', 'lowerBodyCapri', 'lowerBodyCasual', 'upperBodyCasual', 'personalFemale', 'lowerBodyFormal', 'upperBodyFormal', 'lowerBodyPlaid', 'personalMale', 'upperBodyPlaid']\n"
     ]
    }
   ],
   "source": [
    "attributes_list = ['upperBodyLogo', 'lowerBodyThinStripes', 'upperBodyThinStripes', 'upperBodyThickStripes', 'accessoryHeadphone', 'carryingBabyBuggy', 'carryingBackpack', 'hairBald', 'footwearBoots', 'carryingOther', 'carryingShoppingTro', 'carryingUmbrella', 'carryingFolder', 'accessoryHairBand', 'accessoryHat', 'lowerBodyHotPants', 'upperBodyJacket', 'lowerBodyJeans', 'accessoryKerchief', 'footwearLeatherShoes', 'hairLong', 'lowerBodyLongSkirt', 'upperBodyLongSleeve', 'carryingLuggageCase', 'carryingMessengerBag', 'accessoryMuffler', 'accessoryNothing', 'carryingNothing', 'upperBodyNoSleeve', 'carryingPlasticBags', 'footwearSandals', 'footwearShoes', 'hairShort', 'lowerBodyShorts', 'upperBodyShortSleeve', 'lowerBodyShortSkirt', 'footwearSneakers', 'footwearStocking', 'upperBodySuit', 'carryingSuitcase', 'lowerBodySuits', 'accessorySunglasses', 'upperBodySweater', 'lowerBodyTrousers', 'upperBodyTshirt', 'upperBodyOther', 'upperBodyVNeck', 'personalLess15', 'personalLess30', 'personalLess45', 'personalLess60', 'personalLarger60', 'lowerBodyCapri', 'lowerBodyCasual', 'upperBodyCasual', 'personalFemale', 'lowerBodyFormal', 'upperBodyFormal', 'lowerBodyPlaid', 'personalMale', 'upperBodyPlaid']\n",
    "print(attributes_list)"
   ]
  },
  {
   "cell_type": "code",
   "execution_count": 2,
   "metadata": {},
   "outputs": [
    {
     "name": "stderr",
     "output_type": "stream",
     "text": [
      "Using TensorFlow backend.\n"
     ]
    },
    {
     "name": "stdout",
     "output_type": "stream",
     "text": [
      "ImageNet...\n",
      "__________________________________________________________________________________________________\n",
      "Layer (type)                    Output Shape         Param #     Connected to                     \n",
      "==================================================================================================\n",
      "input_1 (InputLayer)            (None, 160, 75, 3)   0                                            \n",
      "__________________________________________________________________________________________________\n",
      "conv1_7x7_s2 (Conv2D)           (None, 80, 38, 64)   9472        input_1[0][0]                    \n",
      "__________________________________________________________________________________________________\n",
      "conv1_7x7_s2_bn (BatchNormaliza (None, 80, 38, 64)   256         conv1_7x7_s2[0][0]               \n",
      "__________________________________________________________________________________________________\n",
      "max_pooling2d_1 (MaxPooling2D)  (None, 40, 19, 64)   0           conv1_7x7_s2_bn[0][0]            \n",
      "__________________________________________________________________________________________________\n",
      "conv2_3x3 (Conv2D)              (None, 40, 19, 192)  110784      max_pooling2d_1[0][0]            \n",
      "__________________________________________________________________________________________________\n",
      "conv2_3x3_bn (BatchNormalizatio (None, 40, 19, 192)  768         conv2_3x3[0][0]                  \n",
      "__________________________________________________________________________________________________\n",
      "max_pooling2d_2 (MaxPooling2D)  (None, 20, 10, 192)  0           conv2_3x3_bn[0][0]               \n",
      "__________________________________________________________________________________________________\n",
      "inception_3a_3x3_reduce (Conv2D (None, 20, 10, 96)   18528       max_pooling2d_2[0][0]            \n",
      "__________________________________________________________________________________________________\n",
      "inception_3a5x5_reduce (Conv2D) (None, 20, 10, 16)   3088        max_pooling2d_2[0][0]            \n",
      "__________________________________________________________________________________________________\n",
      "inception_3a_3x3_reduce_bn (Bat (None, 20, 10, 96)   384         inception_3a_3x3_reduce[0][0]    \n",
      "__________________________________________________________________________________________________\n",
      "inception_3a5x5_reduce_bn (Batc (None, 20, 10, 16)   64          inception_3a5x5_reduce[0][0]     \n",
      "__________________________________________________________________________________________________\n",
      "max_pooling2d_3 (MaxPooling2D)  (None, 20, 10, 192)  0           max_pooling2d_2[0][0]            \n",
      "__________________________________________________________________________________________________\n",
      "inception_3a_1x1 (Conv2D)       (None, 20, 10, 64)   12352       max_pooling2d_2[0][0]            \n",
      "__________________________________________________________________________________________________\n",
      "inception_3a_3x3 (Conv2D)       (None, 20, 10, 128)  110720      inception_3a_3x3_reduce_bn[0][0] \n",
      "__________________________________________________________________________________________________\n",
      "inception_3a_5x5 (Conv2D)       (None, 20, 10, 32)   12832       inception_3a5x5_reduce_bn[0][0]  \n",
      "__________________________________________________________________________________________________\n",
      "inception_3a_pool_proj (Conv2D) (None, 20, 10, 32)   6176        max_pooling2d_3[0][0]            \n",
      "__________________________________________________________________________________________________\n",
      "inception_3a_1x1_bn (BatchNorma (None, 20, 10, 64)   256         inception_3a_1x1[0][0]           \n",
      "__________________________________________________________________________________________________\n",
      "inception_3a_3x3_bn (BatchNorma (None, 20, 10, 128)  512         inception_3a_3x3[0][0]           \n",
      "__________________________________________________________________________________________________\n",
      "inception_3a_5x5_bn (BatchNorma (None, 20, 10, 32)   128         inception_3a_5x5[0][0]           \n",
      "__________________________________________________________________________________________________\n",
      "inception_3a_pool_proj_bn (Batc (None, 20, 10, 32)   128         inception_3a_pool_proj[0][0]     \n",
      "__________________________________________________________________________________________________\n",
      "concatenate_1 (Concatenate)     (None, 20, 10, 256)  0           inception_3a_1x1_bn[0][0]        \n",
      "                                                                 inception_3a_3x3_bn[0][0]        \n",
      "                                                                 inception_3a_5x5_bn[0][0]        \n",
      "                                                                 inception_3a_pool_proj_bn[0][0]  \n",
      "__________________________________________________________________________________________________\n",
      "inception_3b_3x3_reduce (Conv2D (None, 20, 10, 128)  32896       concatenate_1[0][0]              \n",
      "__________________________________________________________________________________________________\n",
      "inception_3b5x5_reduce (Conv2D) (None, 20, 10, 32)   8224        concatenate_1[0][0]              \n",
      "__________________________________________________________________________________________________\n",
      "inception_3b_3x3_reduce_bn (Bat (None, 20, 10, 128)  512         inception_3b_3x3_reduce[0][0]    \n",
      "__________________________________________________________________________________________________\n",
      "inception_3b5x5_reduce_bn (Batc (None, 20, 10, 32)   128         inception_3b5x5_reduce[0][0]     \n",
      "__________________________________________________________________________________________________\n",
      "max_pooling2d_4 (MaxPooling2D)  (None, 20, 10, 256)  0           concatenate_1[0][0]              \n",
      "__________________________________________________________________________________________________\n",
      "inception_3b_1x1 (Conv2D)       (None, 20, 10, 128)  32896       concatenate_1[0][0]              \n",
      "__________________________________________________________________________________________________\n",
      "inception_3b_3x3 (Conv2D)       (None, 20, 10, 192)  221376      inception_3b_3x3_reduce_bn[0][0] \n",
      "__________________________________________________________________________________________________\n",
      "inception_3b_5x5 (Conv2D)       (None, 20, 10, 96)   76896       inception_3b5x5_reduce_bn[0][0]  \n",
      "__________________________________________________________________________________________________\n",
      "inception_3b_pool_proj (Conv2D) (None, 20, 10, 64)   16448       max_pooling2d_4[0][0]            \n",
      "__________________________________________________________________________________________________\n",
      "inception_3b_1x1_bn (BatchNorma (None, 20, 10, 128)  512         inception_3b_1x1[0][0]           \n",
      "__________________________________________________________________________________________________\n",
      "inception_3b_3x3_bn (BatchNorma (None, 20, 10, 192)  768         inception_3b_3x3[0][0]           \n",
      "__________________________________________________________________________________________________\n",
      "inception_3b_5x5_bn (BatchNorma (None, 20, 10, 96)   384         inception_3b_5x5[0][0]           \n",
      "__________________________________________________________________________________________________\n",
      "inception_3b_pool_proj_bn (Batc (None, 20, 10, 64)   256         inception_3b_pool_proj[0][0]     \n",
      "__________________________________________________________________________________________________\n",
      "concatenate_2 (Concatenate)     (None, 20, 10, 480)  0           inception_3b_1x1_bn[0][0]        \n",
      "                                                                 inception_3b_3x3_bn[0][0]        \n",
      "                                                                 inception_3b_5x5_bn[0][0]        \n",
      "                                                                 inception_3b_pool_proj_bn[0][0]  \n",
      "__________________________________________________________________________________________________\n",
      "max_pooling2d_5 (MaxPooling2D)  (None, 10, 5, 480)   0           concatenate_2[0][0]              \n",
      "__________________________________________________________________________________________________\n",
      "inception_4a_3x3_reduce (Conv2D (None, 10, 5, 96)    46176       max_pooling2d_5[0][0]            \n",
      "__________________________________________________________________________________________________\n",
      "inception_4a5x5_reduce (Conv2D) (None, 10, 5, 16)    7696        max_pooling2d_5[0][0]            \n",
      "__________________________________________________________________________________________________\n",
      "inception_4a_3x3_reduce_bn (Bat (None, 10, 5, 96)    384         inception_4a_3x3_reduce[0][0]    \n",
      "__________________________________________________________________________________________________\n",
      "inception_4a5x5_reduce_bn (Batc (None, 10, 5, 16)    64          inception_4a5x5_reduce[0][0]     \n",
      "__________________________________________________________________________________________________\n",
      "max_pooling2d_6 (MaxPooling2D)  (None, 10, 5, 480)   0           max_pooling2d_5[0][0]            \n",
      "__________________________________________________________________________________________________\n",
      "inception_4a_1x1 (Conv2D)       (None, 10, 5, 192)   92352       max_pooling2d_5[0][0]            \n",
      "__________________________________________________________________________________________________\n",
      "inception_4a_3x3 (Conv2D)       (None, 10, 5, 208)   179920      inception_4a_3x3_reduce_bn[0][0] \n",
      "__________________________________________________________________________________________________\n",
      "inception_4a_5x5 (Conv2D)       (None, 10, 5, 48)    19248       inception_4a5x5_reduce_bn[0][0]  \n",
      "__________________________________________________________________________________________________\n",
      "inception_4a_pool_proj (Conv2D) (None, 10, 5, 64)    30784       max_pooling2d_6[0][0]            \n",
      "__________________________________________________________________________________________________\n",
      "inception_4a_1x1_bn (BatchNorma (None, 10, 5, 192)   768         inception_4a_1x1[0][0]           \n",
      "__________________________________________________________________________________________________\n",
      "inception_4a_3x3_bn (BatchNorma (None, 10, 5, 208)   832         inception_4a_3x3[0][0]           \n",
      "__________________________________________________________________________________________________\n",
      "inception_4a_5x5_bn (BatchNorma (None, 10, 5, 48)    192         inception_4a_5x5[0][0]           \n",
      "__________________________________________________________________________________________________\n",
      "inception_4a_pool_proj_bn (Batc (None, 10, 5, 64)    256         inception_4a_pool_proj[0][0]     \n",
      "__________________________________________________________________________________________________\n",
      "concatenate_3 (Concatenate)     (None, 10, 5, 512)   0           inception_4a_1x1_bn[0][0]        \n",
      "                                                                 inception_4a_3x3_bn[0][0]        \n",
      "                                                                 inception_4a_5x5_bn[0][0]        \n",
      "                                                                 inception_4a_pool_proj_bn[0][0]  \n",
      "__________________________________________________________________________________________________\n",
      "inception_4b_3x3_reduce (Conv2D (None, 10, 5, 112)   57456       concatenate_3[0][0]              \n",
      "__________________________________________________________________________________________________\n",
      "inception_4b5x5_reduce (Conv2D) (None, 10, 5, 24)    12312       concatenate_3[0][0]              \n",
      "__________________________________________________________________________________________________\n",
      "inception_4b_3x3_reduce_bn (Bat (None, 10, 5, 112)   448         inception_4b_3x3_reduce[0][0]    \n",
      "__________________________________________________________________________________________________\n",
      "inception_4b5x5_reduce_bn (Batc (None, 10, 5, 24)    96          inception_4b5x5_reduce[0][0]     \n",
      "__________________________________________________________________________________________________\n",
      "max_pooling2d_7 (MaxPooling2D)  (None, 10, 5, 512)   0           concatenate_3[0][0]              \n",
      "__________________________________________________________________________________________________\n",
      "inception_4b_1x1 (Conv2D)       (None, 10, 5, 160)   82080       concatenate_3[0][0]              \n",
      "__________________________________________________________________________________________________\n",
      "inception_4b_3x3 (Conv2D)       (None, 10, 5, 224)   226016      inception_4b_3x3_reduce_bn[0][0] \n",
      "__________________________________________________________________________________________________\n",
      "inception_4b_5x5 (Conv2D)       (None, 10, 5, 64)    38464       inception_4b5x5_reduce_bn[0][0]  \n",
      "__________________________________________________________________________________________________\n",
      "inception_4b_pool_proj (Conv2D) (None, 10, 5, 64)    32832       max_pooling2d_7[0][0]            \n",
      "__________________________________________________________________________________________________\n",
      "inception_4b_1x1_bn (BatchNorma (None, 10, 5, 160)   640         inception_4b_1x1[0][0]           \n",
      "__________________________________________________________________________________________________\n",
      "inception_4b_3x3_bn (BatchNorma (None, 10, 5, 224)   896         inception_4b_3x3[0][0]           \n",
      "__________________________________________________________________________________________________\n",
      "inception_4b_5x5_bn (BatchNorma (None, 10, 5, 64)    256         inception_4b_5x5[0][0]           \n",
      "__________________________________________________________________________________________________\n",
      "inception_4b_pool_proj_bn (Batc (None, 10, 5, 64)    256         inception_4b_pool_proj[0][0]     \n",
      "__________________________________________________________________________________________________\n",
      "concatenate_4 (Concatenate)     (None, 10, 5, 512)   0           inception_4b_1x1_bn[0][0]        \n",
      "                                                                 inception_4b_3x3_bn[0][0]        \n",
      "                                                                 inception_4b_5x5_bn[0][0]        \n",
      "                                                                 inception_4b_pool_proj_bn[0][0]  \n",
      "__________________________________________________________________________________________________\n",
      "inception_4c_3x3_reduce (Conv2D (None, 10, 5, 128)   65664       concatenate_4[0][0]              \n",
      "__________________________________________________________________________________________________\n",
      "inception_4c5x5_reduce (Conv2D) (None, 10, 5, 24)    12312       concatenate_4[0][0]              \n",
      "__________________________________________________________________________________________________\n",
      "inception_4c_3x3_reduce_bn (Bat (None, 10, 5, 128)   512         inception_4c_3x3_reduce[0][0]    \n",
      "__________________________________________________________________________________________________\n",
      "inception_4c5x5_reduce_bn (Batc (None, 10, 5, 24)    96          inception_4c5x5_reduce[0][0]     \n",
      "__________________________________________________________________________________________________\n",
      "max_pooling2d_8 (MaxPooling2D)  (None, 10, 5, 512)   0           concatenate_4[0][0]              \n",
      "__________________________________________________________________________________________________\n",
      "inception_4c_1x1 (Conv2D)       (None, 10, 5, 128)   65664       concatenate_4[0][0]              \n",
      "__________________________________________________________________________________________________\n",
      "inception_4c_3x3 (Conv2D)       (None, 10, 5, 256)   295168      inception_4c_3x3_reduce_bn[0][0] \n",
      "__________________________________________________________________________________________________\n",
      "inception_4c_5x5 (Conv2D)       (None, 10, 5, 64)    38464       inception_4c5x5_reduce_bn[0][0]  \n",
      "__________________________________________________________________________________________________\n",
      "inception_4c_pool_proj (Conv2D) (None, 10, 5, 64)    32832       max_pooling2d_8[0][0]            \n",
      "__________________________________________________________________________________________________\n",
      "inception_4c_1x1_bn (BatchNorma (None, 10, 5, 128)   512         inception_4c_1x1[0][0]           \n",
      "__________________________________________________________________________________________________\n",
      "inception_4c_3x3_bn (BatchNorma (None, 10, 5, 256)   1024        inception_4c_3x3[0][0]           \n",
      "__________________________________________________________________________________________________\n",
      "inception_4c_5x5_bn (BatchNorma (None, 10, 5, 64)    256         inception_4c_5x5[0][0]           \n",
      "__________________________________________________________________________________________________\n",
      "inception_4c_pool_proj_bn (Batc (None, 10, 5, 64)    256         inception_4c_pool_proj[0][0]     \n",
      "__________________________________________________________________________________________________\n",
      "concatenate_5 (Concatenate)     (None, 10, 5, 512)   0           inception_4c_1x1_bn[0][0]        \n",
      "                                                                 inception_4c_3x3_bn[0][0]        \n",
      "                                                                 inception_4c_5x5_bn[0][0]        \n",
      "                                                                 inception_4c_pool_proj_bn[0][0]  \n",
      "__________________________________________________________________________________________________\n",
      "inception_4d_3x3_reduce (Conv2D (None, 10, 5, 144)   73872       concatenate_5[0][0]              \n",
      "__________________________________________________________________________________________________\n",
      "inception_4d5x5_reduce (Conv2D) (None, 10, 5, 32)    16416       concatenate_5[0][0]              \n",
      "__________________________________________________________________________________________________\n",
      "inception_4d_3x3_reduce_bn (Bat (None, 10, 5, 144)   576         inception_4d_3x3_reduce[0][0]    \n",
      "__________________________________________________________________________________________________\n",
      "inception_4d5x5_reduce_bn (Batc (None, 10, 5, 32)    128         inception_4d5x5_reduce[0][0]     \n",
      "__________________________________________________________________________________________________\n",
      "max_pooling2d_9 (MaxPooling2D)  (None, 10, 5, 512)   0           concatenate_5[0][0]              \n",
      "__________________________________________________________________________________________________\n",
      "inception_4d_1x1 (Conv2D)       (None, 10, 5, 112)   57456       concatenate_5[0][0]              \n",
      "__________________________________________________________________________________________________\n",
      "inception_4d_3x3 (Conv2D)       (None, 10, 5, 288)   373536      inception_4d_3x3_reduce_bn[0][0] \n",
      "__________________________________________________________________________________________________\n",
      "inception_4d_5x5 (Conv2D)       (None, 10, 5, 64)    51264       inception_4d5x5_reduce_bn[0][0]  \n",
      "__________________________________________________________________________________________________\n",
      "inception_4d_pool_proj (Conv2D) (None, 10, 5, 64)    32832       max_pooling2d_9[0][0]            \n",
      "__________________________________________________________________________________________________\n",
      "inception_4d_1x1_bn (BatchNorma (None, 10, 5, 112)   448         inception_4d_1x1[0][0]           \n",
      "__________________________________________________________________________________________________\n",
      "inception_4d_3x3_bn (BatchNorma (None, 10, 5, 288)   1152        inception_4d_3x3[0][0]           \n",
      "__________________________________________________________________________________________________\n",
      "inception_4d_5x5_bn (BatchNorma (None, 10, 5, 64)    256         inception_4d_5x5[0][0]           \n",
      "__________________________________________________________________________________________________\n",
      "inception_4d_pool_proj_bn (Batc (None, 10, 5, 64)    256         inception_4d_pool_proj[0][0]     \n",
      "__________________________________________________________________________________________________\n",
      "concatenate_6 (Concatenate)     (None, 10, 5, 528)   0           inception_4d_1x1_bn[0][0]        \n",
      "                                                                 inception_4d_3x3_bn[0][0]        \n",
      "                                                                 inception_4d_5x5_bn[0][0]        \n",
      "                                                                 inception_4d_pool_proj_bn[0][0]  \n",
      "__________________________________________________________________________________________________\n",
      "inception_4e_3x3_reduce (Conv2D (None, 10, 5, 160)   84640       concatenate_6[0][0]              \n",
      "__________________________________________________________________________________________________\n",
      "inception_4e5x5_reduce (Conv2D) (None, 10, 5, 32)    16928       concatenate_6[0][0]              \n",
      "__________________________________________________________________________________________________\n",
      "inception_4e_3x3_reduce_bn (Bat (None, 10, 5, 160)   640         inception_4e_3x3_reduce[0][0]    \n",
      "__________________________________________________________________________________________________\n",
      "inception_4e5x5_reduce_bn (Batc (None, 10, 5, 32)    128         inception_4e5x5_reduce[0][0]     \n",
      "__________________________________________________________________________________________________\n",
      "max_pooling2d_10 (MaxPooling2D) (None, 10, 5, 528)   0           concatenate_6[0][0]              \n",
      "__________________________________________________________________________________________________\n",
      "inception_4e_1x1 (Conv2D)       (None, 10, 5, 256)   135424      concatenate_6[0][0]              \n",
      "__________________________________________________________________________________________________\n",
      "inception_4e_3x3 (Conv2D)       (None, 10, 5, 320)   461120      inception_4e_3x3_reduce_bn[0][0] \n",
      "__________________________________________________________________________________________________\n",
      "inception_4e_5x5 (Conv2D)       (None, 10, 5, 128)   102528      inception_4e5x5_reduce_bn[0][0]  \n",
      "__________________________________________________________________________________________________\n",
      "inception_4e_pool_proj (Conv2D) (None, 10, 5, 128)   67712       max_pooling2d_10[0][0]           \n",
      "__________________________________________________________________________________________________\n",
      "inception_4e_1x1_bn (BatchNorma (None, 10, 5, 256)   1024        inception_4e_1x1[0][0]           \n",
      "__________________________________________________________________________________________________\n",
      "inception_4e_3x3_bn (BatchNorma (None, 10, 5, 320)   1280        inception_4e_3x3[0][0]           \n",
      "__________________________________________________________________________________________________\n",
      "inception_4e_5x5_bn (BatchNorma (None, 10, 5, 128)   512         inception_4e_5x5[0][0]           \n",
      "__________________________________________________________________________________________________\n",
      "inception_4e_pool_proj_bn (Batc (None, 10, 5, 128)   512         inception_4e_pool_proj[0][0]     \n",
      "__________________________________________________________________________________________________\n",
      "concatenate_7 (Concatenate)     (None, 10, 5, 832)   0           inception_4e_1x1_bn[0][0]        \n",
      "                                                                 inception_4e_3x3_bn[0][0]        \n",
      "                                                                 inception_4e_5x5_bn[0][0]        \n",
      "                                                                 inception_4e_pool_proj_bn[0][0]  \n",
      "__________________________________________________________________________________________________\n",
      "max_pooling2d_11 (MaxPooling2D) (None, 5, 3, 832)    0           concatenate_7[0][0]              \n",
      "__________________________________________________________________________________________________\n",
      "inception_5a_3x3_reduce (Conv2D (None, 5, 3, 160)    133280      max_pooling2d_11[0][0]           \n",
      "__________________________________________________________________________________________________\n",
      "inception_5a5x5_reduce (Conv2D) (None, 5, 3, 32)     26656       max_pooling2d_11[0][0]           \n",
      "__________________________________________________________________________________________________\n",
      "inception_5a_3x3_reduce_bn (Bat (None, 5, 3, 160)    640         inception_5a_3x3_reduce[0][0]    \n",
      "__________________________________________________________________________________________________\n",
      "inception_5a5x5_reduce_bn (Batc (None, 5, 3, 32)     128         inception_5a5x5_reduce[0][0]     \n",
      "__________________________________________________________________________________________________\n",
      "max_pooling2d_12 (MaxPooling2D) (None, 5, 3, 832)    0           max_pooling2d_11[0][0]           \n",
      "__________________________________________________________________________________________________\n",
      "inception_5a_1x1 (Conv2D)       (None, 5, 3, 256)    213248      max_pooling2d_11[0][0]           \n",
      "__________________________________________________________________________________________________\n",
      "inception_5a_3x3 (Conv2D)       (None, 5, 3, 320)    461120      inception_5a_3x3_reduce_bn[0][0] \n",
      "__________________________________________________________________________________________________\n",
      "inception_5a_5x5 (Conv2D)       (None, 5, 3, 128)    102528      inception_5a5x5_reduce_bn[0][0]  \n",
      "__________________________________________________________________________________________________\n",
      "inception_5a_pool_proj (Conv2D) (None, 5, 3, 128)    106624      max_pooling2d_12[0][0]           \n",
      "__________________________________________________________________________________________________\n",
      "inception_5a_1x1_bn (BatchNorma (None, 5, 3, 256)    1024        inception_5a_1x1[0][0]           \n",
      "__________________________________________________________________________________________________\n",
      "inception_5a_3x3_bn (BatchNorma (None, 5, 3, 320)    1280        inception_5a_3x3[0][0]           \n",
      "__________________________________________________________________________________________________\n",
      "inception_5a_5x5_bn (BatchNorma (None, 5, 3, 128)    512         inception_5a_5x5[0][0]           \n",
      "__________________________________________________________________________________________________\n",
      "inception_5a_pool_proj_bn (Batc (None, 5, 3, 128)    512         inception_5a_pool_proj[0][0]     \n",
      "__________________________________________________________________________________________________\n",
      "concatenate_8 (Concatenate)     (None, 5, 3, 832)    0           inception_5a_1x1_bn[0][0]        \n",
      "                                                                 inception_5a_3x3_bn[0][0]        \n",
      "                                                                 inception_5a_5x5_bn[0][0]        \n",
      "                                                                 inception_5a_pool_proj_bn[0][0]  \n",
      "__________________________________________________________________________________________________\n",
      "inception_5b_3x3_reduce (Conv2D (None, 5, 3, 192)    159936      concatenate_8[0][0]              \n",
      "__________________________________________________________________________________________________\n",
      "inception_5b5x5_reduce (Conv2D) (None, 5, 3, 48)     39984       concatenate_8[0][0]              \n",
      "__________________________________________________________________________________________________\n",
      "inception_5b_3x3_reduce_bn (Bat (None, 5, 3, 192)    768         inception_5b_3x3_reduce[0][0]    \n",
      "__________________________________________________________________________________________________\n",
      "inception_5b5x5_reduce_bn (Batc (None, 5, 3, 48)     192         inception_5b5x5_reduce[0][0]     \n",
      "__________________________________________________________________________________________________\n",
      "max_pooling2d_13 (MaxPooling2D) (None, 5, 3, 832)    0           concatenate_8[0][0]              \n",
      "__________________________________________________________________________________________________\n",
      "inception_5b_1x1 (Conv2D)       (None, 5, 3, 384)    319872      concatenate_8[0][0]              \n",
      "__________________________________________________________________________________________________\n",
      "inception_5b_3x3 (Conv2D)       (None, 5, 3, 384)    663936      inception_5b_3x3_reduce_bn[0][0] \n",
      "__________________________________________________________________________________________________\n",
      "inception_5b_5x5 (Conv2D)       (None, 5, 3, 128)    153728      inception_5b5x5_reduce_bn[0][0]  \n",
      "__________________________________________________________________________________________________\n",
      "inception_5b_pool_proj (Conv2D) (None, 5, 3, 128)    106624      max_pooling2d_13[0][0]           \n",
      "__________________________________________________________________________________________________\n",
      "inception_5b_1x1_bn (BatchNorma (None, 5, 3, 384)    1536        inception_5b_1x1[0][0]           \n",
      "__________________________________________________________________________________________________\n",
      "inception_5b_3x3_bn (BatchNorma (None, 5, 3, 384)    1536        inception_5b_3x3[0][0]           \n",
      "__________________________________________________________________________________________________\n",
      "inception_5b_5x5_bn (BatchNorma (None, 5, 3, 128)    512         inception_5b_5x5[0][0]           \n",
      "__________________________________________________________________________________________________\n",
      "inception_5b_pool_proj_bn (Batc (None, 5, 3, 128)    512         inception_5b_pool_proj[0][0]     \n",
      "__________________________________________________________________________________________________\n",
      "concatenate_9 (Concatenate)     (None, 5, 3, 1024)   0           inception_5b_1x1_bn[0][0]        \n",
      "                                                                 inception_5b_3x3_bn[0][0]        \n",
      "                                                                 inception_5b_5x5_bn[0][0]        \n",
      "                                                                 inception_5b_pool_proj_bn[0][0]  \n",
      "__________________________________________________________________________________________________\n",
      "global_average_pooling2d_1 (Glo (None, 1024)         0           concatenate_9[0][0]              \n",
      "__________________________________________________________________________________________________\n",
      "dropout_1 (Dropout)             (None, 1024)         0           global_average_pooling2d_1[0][0] \n",
      "__________________________________________________________________________________________________\n",
      "dense_1 (Dense)                 (None, 1000)         1025000     dropout_1[0][0]                  \n",
      "__________________________________________________________________________________________________\n",
      "dense_2 (Dense)                 (None, 61)           61061       dense_1[0][0]                    \n",
      "==================================================================================================\n",
      "Total params: 7,084,317\n",
      "Trainable params: 7,069,885\n",
      "Non-trainable params: 14,432\n",
      "__________________________________________________________________________________________________\n"
     ]
    }
   ],
   "source": [
    "import os\n",
    "os.environ['CUDA_VISIBLE_DEVICES'] = \"\"\n",
    "from keras.applications import InceptionV3\n",
    "from keras.applications.inception_v3 import preprocess_input\n",
    "from keras.preprocessing import image\n",
    "from keras.models import Model\n",
    "from keras.applications.imagenet_utils import decode_predictions\n",
    "import numpy as np\n",
    "import cv2\n",
    "from cv2 import *\n",
    "import matplotlib.pyplot as plt\n",
    "%matplotlib inline\n",
    "import scipy as sp\n",
    "from scipy.misc import toimage\n",
    "import sys\n",
    "sys.path.append(\"..\")\n",
    "from src.network.GoogleLenet_gap import GoogLeNet\n",
    "\n",
    "image_width = 75\n",
    "image_height = 160\n",
    "class_num = len(attributes_list)\n",
    "model = GoogLeNet.build(image_height, image_width, 3, class_num)\n",
    "model.load_weights(\"../models/imagenet_models/GoogLeNetGAP_PETA/\")\n",
    "model.summary()"
   ]
  },
  {
   "cell_type": "code",
   "execution_count": 3,
   "metadata": {},
   "outputs": [
    {
     "name": "stdout",
     "output_type": "stream",
     "text": [
      "(1024, 1000)\n",
      "(1000, 61)\n",
      "(1024, 61)\n"
     ]
    }
   ],
   "source": [
    "model_gap = Model(inputs=model.input, outputs=model.get_layer('concatenate_9').output)\n",
    "\n",
    "\"\"\"\n",
    "#print(model.get_layer('dense_1').get_weights())\n",
    "dense1_weights = np.asarray(model.get_layer('dense_1').get_weights()[0])\n",
    "print(dense1_weights.shape)\n",
    "\"\"\"\n",
    "dense2_weights = np.asarray(model.get_layer('dense_2').get_weights()[0])\n",
    "print(dense2_weights.shape)\n",
    "weights = dense2_weights#np.dot(dense1_weights, dense2_weights)\n",
    "print(weights.shape)"
   ]
  },
  {
   "cell_type": "markdown",
   "metadata": {},
   "source": [
    "# Define Func: calculate the attribute cam for one picture"
   ]
  },
  {
   "cell_type": "code",
   "execution_count": 24,
   "metadata": {},
   "outputs": [
    {
     "data": {
      "text/plain": [
       "(array([[ 3.5086713 ,  2.4629753 ,  2.57615   ],\n",
       "        [ 7.7029924 ,  4.514685  , -5.4728603 ],\n",
       "        [ 8.6590805 ,  0.60223484, -5.351776  ],\n",
       "        [ 0.7658467 , -2.334734  , -1.0856752 ],\n",
       "        [-3.426753  , -9.378852  , -3.7419767 ]], dtype=float32),\n",
       " array([[  0,   0,   0, ...,   0,   0,   0],\n",
       "        [  0,   0,   0, ...,   0,   0,   0],\n",
       "        [  0,   0,   0, ...,   0,   0,   0],\n",
       "        ...,\n",
       "        [255, 255, 255, ..., 255, 255, 255],\n",
       "        [255, 255, 255, ..., 255, 255, 255],\n",
       "        [255, 255, 255, ..., 255, 255, 255]], dtype=uint8))"
      ]
     },
     "execution_count": 24,
     "metadata": {},
     "output_type": "execute_result"
    },
    {
     "data": {
      "image/png": "[encoded data removed]",
      "text/plain": [
       "<Figure size 432x288 with 1 Axes>"
      ]
     },
     "metadata": {},
     "output_type": "display_data"
    }
   ],
   "source": [
    "from PIL import Image\n",
    "\n",
    "def cam_from_path(model_gap, img_path, img_height, img_width, weights, is_shown=False):\n",
    "    img = image.load_img(img_path, target_size=(image_height, image_width, 3))\n",
    "    img_arr = image.img_to_array(img)\n",
    "    img_arr = np.expand_dims(img_arr, axis=0)\n",
    "    #print(img_arr.shape)\n",
    "    feature_map = model_gap.predict(img_arr)\n",
    "    #print(feature_map.shape)\n",
    "    array_feature_map = np.zeros(dtype=np.float32, shape=feature_map.shape[1:3])\n",
    "    for i in range(0, feature_map.shape[3]):\n",
    "        array_feature_map += weights[i] * feature_map[0, :, :, i]   \n",
    "    array_feature_map -= np.average(array_feature_map)\n",
    "    img_feature_map = Image.fromarray(array_feature_map.astype('uint8'))\n",
    "    img_feature_map = img_feature_map.resize((image_width, image_height), Image.ANTIALIAS)\n",
    "    if is_shown:\n",
    "        plt.imshow(img_feature_map)\n",
    "    return array_feature_map, np.asarray(img_feature_map)\n",
    "\n",
    "def cam_from_array(model_gap, img_arr, img_height, img_width, weights, is_shown=False):\n",
    "    img_arr = np.expand_dims(img_arr, axis=0)\n",
    "    #print(img_arr.shape)\n",
    "    feature_map = model_gap.predict(img_arr)\n",
    "    #print(feature_map.shape)\n",
    "    array_feature_map = np.zeros(dtype=np.float32, shape=feature_map.shape[1:3])\n",
    "    for i in range(0, feature_map.shape[3]):\n",
    "        array_feature_map += weights[i] * feature_map[0, :, :, i]   \n",
    "    array_feature_map -= np.average(array_feature_map)\n",
    "    img_feature_map = Image.fromarray(array_feature_map.astype('uint8'))\n",
    "    img_feature_map = img_feature_map.resize((image_width, image_height), Image.ANTIALIAS)\n",
    "    if is_shown:\n",
    "        plt.imshow(img_feature_map)\n",
    "    return array_feature_map, np.asarray(img_feature_map)\n",
    "    \n",
    "img_path = '/home/anhaoran/data/pedestrian_attributes_PETA/PETA/MIT/archive/00044_male_fore.jpg'\n",
    "cam_from_path(model_gap, img_path, image_height, image_width, weights[:, 3], True)"
   ]
  },
  {
   "cell_type": "markdown",
   "metadata": {},
   "source": [
    "# All Samples "
   ]
  },
  {
   "cell_type": "code",
   "execution_count": 19,
   "metadata": {},
   "outputs": [
    {
     "name": "stderr",
     "output_type": "stream",
     "text": [
      "100% |########################################################################|\n"
     ]
    },
    {
     "name": "stdout",
     "output_type": "stream",
     "text": [
      "The shape of the X is:  (19000, 160, 75, 3)\n",
      "The shape of the y is:  (19000, 61)\n",
      "(19000, 61)\n"
     ]
    }
   ],
   "source": [
    "import pandas as pd\n",
    "from progressbar import *\n",
    "\n",
    "progress = ProgressBar()\n",
    "\n",
    "filename = r\"../results/PETA.csv\"\n",
    "data = np.array(pd.read_csv(filename))[:, 1:]\n",
    "length = len(data)\n",
    "data_x = np.zeros((length, image_height, image_width, 3))\n",
    "data_y = np.zeros((length, class_num))\n",
    "for i in progress(range(length)):\n",
    "    #img = image.load_img(path + m)\n",
    "    img = image.load_img(data[i, 0], target_size=(image_height, image_width, 3))\n",
    "    data_x[i] = image.img_to_array(img)\n",
    "    data_y[i] = np.array(data[i, 1:1+61], dtype=\"float32\")\n",
    "print(\"The shape of the X is: \", data_x.shape)\n",
    "print(\"The shape of the y is: \", data_y.shape)\n",
    "predictions_prob = model.predict(data_x)\n",
    "print(predictions_prob.shape)"
   ]
  },
  {
   "cell_type": "markdown",
   "metadata": {},
   "source": [
    "## 5*3"
   ]
  },
  {
   "cell_type": "code",
   "execution_count": null,
   "metadata": {},
   "outputs": [
    {
     "name": "stderr",
     "output_type": "stream",
     "text": [
      " 17%|█▋        | 3228/19000 [2:00:56<9:50:57,  2.25s/it] "
     ]
    }
   ],
   "source": [
    "import tqdm\n",
    "\n",
    "## 5*3 for all dataset weighted by prediction prob\n",
    "data_cam = np.zeros((class_num, 5, 3))\n",
    "data_cam_train = np.zeros((class_num, 5, 3))\n",
    "for i in tqdm.tqdm(range(length)):\n",
    "    for attribute in range(data_y.shape[1]):\n",
    "        if i==11400: data_cam_train[attribute] = data_cam[attribute]\n",
    "        data_cam[attribute] += predictions_prob[i][attribute] * cam_from_array(model_gap, data_x[i], image_height, image_width, weights[:, attribute])[0]\n",
    "np.save(\"../results/orig_feature_maps_dataset_weighted_by_predprob.npy\", data_cam)\n",
    "np.save(\"../results/orig_feature_maps_trainset_weighted_by_predprob.npy\", data_cam_train)"
   ]
  },
  {
   "cell_type": "code",
   "execution_count": null,
   "metadata": {},
   "outputs": [],
   "source": [
    "## 5*3 for all dataset weighted by label\n",
    "data_cam = np.zeros((class_num, 5, 3))\n",
    "data_cam_train = np.zeros((class_num, 5, 3))\n",
    "for i in tqdm.tqdm(range(length)):\n",
    "    for attribute in range(data_y.shape[1]):\n",
    "        if i==11400: data_cam_train[attribute] = data_cam[attribute]\n",
    "        data_cam[attribute] += data_y[i][attribute] * cam_from_array(model_gap, data_x[i], image_height, image_width, weights[:, attribute])[0]\n",
    "np.save(\"../results/orig_feature_maps_dataset_weighted_by_label.npy\", data_cam)\n",
    "np.save(\"../results/orig_feature_maps_trainset_weighted_by_label.npy\", data_cam_train)"
   ]
  },
  {
   "cell_type": "markdown",
   "metadata": {},
   "source": [
    "## 160*75"
   ]
  },
  {
   "cell_type": "code",
   "execution_count": null,
   "metadata": {},
   "outputs": [],
   "source": [
    "## 160*75 for all dataset weighted by prediction prob\n",
    "data_cam = np.zeros((class_num, 160, 75))\n",
    "data_cam_train = np.zeros((class_num, 160, 75))\n",
    "for i in tqdm.tqdm(range(length)):\n",
    "    for attribute in range(data_y.shape[1]):\n",
    "        if i == 11400: data_cam_train[attribute] = data_cam[attribute]\n",
    "        data_cam[attribute] += predictions_prob[i][attribute] * cam_from_array(model_gap, data_x[i], image_height, image_width, weights[:, attribute])[1]\n",
    "np.save(\"../results/resize_feature_maps_dataset_weighted_by_predprob.npy\", data_cam)\n",
    "np.save(\"../results/resize_feature_maps_trainset_weighted_by_predprob.npy\", data_cam_train)"
   ]
  },
  {
   "cell_type": "code",
   "execution_count": null,
   "metadata": {},
   "outputs": [],
   "source": [
    "## 160*75 for all dataset weighted by label\n",
    "data_cam = np.zeros((class_num, 160, 75))\n",
    "data_cam_train = np.zeros((class_num, 160, 75))\n",
    "for i in tqdm.tqdm(range(length)):\n",
    "    for attribute in range(data_y.shape[1]):\n",
    "        if i == 11400: data_cam_train[attribute] = data_cam[attribute]\n",
    "        data_cam[attribute] += data_y[i][attribute] * cam_from_array(model_gap, data_x[i], image_height, image_width, weights[:, attribute])[1]\n",
    "np.save(\"../results/resize_feature_maps_dataset_weighted_by_label.npy\", data_cam)\n",
    "np.save(\"../results/resize_feature_maps_trainset_weighted_by_label.npy\", data_cam_train)"
   ]
  },
  {
   "cell_type": "markdown",
   "metadata": {},
   "source": [
    "# Cluster"
   ]
  },
  {
   "cell_type": "code",
   "execution_count": 124,
   "metadata": {},
   "outputs": [
    {
     "data": {
      "image/png": "[encoded data removed]",
      "text/plain": [
       "<Figure size 432x288 with 1 Axes>"
      ]
     },
     "metadata": {},
     "output_type": "display_data"
    },
    {
     "data": {
      "image/png": "[encoded data removed]",
      "text/plain": [
       "<Figure size 432x288 with 1 Axes>"
      ]
     },
     "metadata": {},
     "output_type": "display_data"
    },
    {
     "data": {
      "image/png": "[encoded data removed]",
      "text/plain": [
       "<Figure size 432x288 with 1 Axes>"
      ]
     },
     "metadata": {},
     "output_type": "display_data"
    },
    {
     "data": {
      "image/png": "[encoded data removed]",
      "text/plain": [
       "<Figure size 432x288 with 1 Axes>"
      ]
     },
     "metadata": {},
     "output_type": "display_data"
    },
    {
     "data": {
      "image/png": "[encoded data removed]",
      "text/plain": [
       "<Figure size 432x288 with 1 Axes>"
      ]
     },
     "metadata": {},
     "output_type": "display_data"
    },
    {
     "data": {
      "image/png": "[encoded data removed]",
      "text/plain": [
       "<Figure size 432x288 with 1 Axes>"
      ]
     },
     "metadata": {},
     "output_type": "display_data"
    },
    {
     "data": {
      "image/png": "[encoded data removed]",
      "text/plain": [
       "<Figure size 432x288 with 1 Axes>"
      ]
     },
     "metadata": {},
     "output_type": "display_data"
    },
    {
     "data": {
      "image/png": "[encoded data removed]",
      "text/plain": [
       "<Figure size 432x288 with 1 Axes>"
      ]
     },
     "metadata": {},
     "output_type": "display_data"
    },
    {
     "data": {
      "image/png": "[encoded data removed]",
      "text/plain": [
       "<Figure size 432x288 with 1 Axes>"
      ]
     },
     "metadata": {},
     "output_type": "display_data"
    },
    {
     "data": {
      "image/png": "[encoded data removed]",
      "text/plain": [
       "<Figure size 432x288 with 1 Axes>"
      ]
     },
     "metadata": {},
     "output_type": "display_data"
    },
    {
     "data": {
      "image/png": "[encoded data removed]",
      "text/plain": [
       "<Figure size 432x288 with 1 Axes>"
      ]
     },
     "metadata": {},
     "output_type": "display_data"
    },
    {
     "data": {
      "image/png": "[encoded data removed]",
      "text/plain": [
       "<Figure size 432x288 with 1 Axes>"
      ]
     },
     "metadata": {},
     "output_type": "display_data"
    },
    {
     "data": {
      "image/png": "[encoded data removed]",
      "text/plain": [
       "<Figure size 432x288 with 1 Axes>"
      ]
     },
     "metadata": {},
     "output_type": "display_data"
    },
    {
     "data": {
      "image/png": "[encoded data removed]",
      "text/plain": [
       "<Figure size 432x288 with 1 Axes>"
      ]
     },
     "metadata": {},
     "output_type": "display_data"
    },
    {
     "data": {
      "image/png": "[encoded data removed]",
      "text/plain": [
       "<Figure size 432x288 with 1 Axes>"
      ]
     },
     "metadata": {},
     "output_type": "display_data"
    },
    {
     "data": {
      "image/png": "[encoded data removed]",
      "text/plain": [
       "<Figure size 432x288 with 1 Axes>"
      ]
     },
     "metadata": {},
     "output_type": "display_data"
    },
    {
     "data": {
      "image/png": "[encoded data removed]",
      "text/plain": [
       "<Figure size 432x288 with 1 Axes>"
      ]
     },
     "metadata": {},
     "output_type": "display_data"
    },
    {
     "data": {
      "image/png": "[encoded data removed]",
      "text/plain": [
       "<Figure size 432x288 with 1 Axes>"
      ]
     },
     "metadata": {},
     "output_type": "display_data"
    },
    {
     "data": {
      "image/png": "[encoded data removed]",
      "text/plain": [
       "<Figure size 432x288 with 1 Axes>"
      ]
     },
     "metadata": {},
     "output_type": "display_data"
    },
    {
     "data": {
      "image/png": "[encoded data removed]",
      "text/plain": [
       "<Figure size 432x288 with 1 Axes>"
      ]
     },
     "metadata": {},
     "output_type": "display_data"
    },
    {
     "data": {
      "image/png": "[encoded data removed]",
      "text/plain": [
       "<Figure size 432x288 with 1 Axes>"
      ]
     },
     "metadata": {},
     "output_type": "display_data"
    },
    {
     "data": {
      "image/png": "[encoded data removed]",
      "text/plain": [
       "<Figure size 432x288 with 1 Axes>"
      ]
     },
     "metadata": {},
     "output_type": "display_data"
    },
    {
     "data": {
      "image/png": "[encoded data removed]",
      "text/plain": [
       "<Figure size 432x288 with 1 Axes>"
      ]
     },
     "metadata": {},
     "output_type": "display_data"
    },
    {
     "data": {
      "image/png": "[encoded data removed]",
      "text/plain": [
       "<Figure size 432x288 with 1 Axes>"
      ]
     },
     "metadata": {},
     "output_type": "display_data"
    },
    {
     "data": {
      "image/png": "[encoded data removed]",
      "text/plain": [
       "<Figure size 432x288 with 1 Axes>"
      ]
     },
     "metadata": {},
     "output_type": "display_data"
    },
    {
     "data": {
      "image/png": "[encoded data removed]",
      "text/plain": [
       "<Figure size 432x288 with 1 Axes>"
      ]
     },
     "metadata": {},
     "output_type": "display_data"
    },
    {
     "data": {
      "image/png": "[encoded data removed]",
      "text/plain": [
       "<Figure size 432x288 with 1 Axes>"
      ]
     },
     "metadata": {},
     "output_type": "display_data"
    },
    {
     "data": {
      "image/png": "[encoded data removed]",
      "text/plain": [
       "<Figure size 432x288 with 1 Axes>"
      ]
     },
     "metadata": {},
     "output_type": "display_data"
    },
    {
     "data": {
      "image/png": "[encoded data removed]",
      "text/plain": [
       "<Figure size 432x288 with 1 Axes>"
      ]
     },
     "metadata": {},
     "output_type": "display_data"
    },
    {
     "data": {
      "image/png": "[encoded data removed]",
      "text/plain": [
       "<Figure size 432x288 with 1 Axes>"
      ]
     },
     "metadata": {},
     "output_type": "display_data"
    },
    {
     "data": {
      "image/png": "[encoded data removed]",
      "text/plain": [
       "<Figure size 432x288 with 1 Axes>"
      ]
     },
     "metadata": {},
     "output_type": "display_data"
    },
    {
     "data": {
      "image/png": "[encoded data removed]",
      "text/plain": [
       "<Figure size 432x288 with 1 Axes>"
      ]
     },
     "metadata": {},
     "output_type": "display_data"
    },
    {
     "data": {
      "image/png": "[encoded data removed]",
      "text/plain": [
       "<Figure size 432x288 with 1 Axes>"
      ]
     },
     "metadata": {},
     "output_type": "display_data"
    },
    {
     "data": {
      "image/png": "[encoded data removed]",
      "text/plain": [
       "<Figure size 432x288 with 1 Axes>"
      ]
     },
     "metadata": {},
     "output_type": "display_data"
    },
    {
     "data": {
      "image/png": "[encoded data removed]",
      "text/plain": [
       "<Figure size 432x288 with 1 Axes>"
      ]
     },
     "metadata": {},
     "output_type": "display_data"
    },
    {
     "data": {
      "image/png": "[encoded data removed]",
      "text/plain": [
       "<Figure size 432x288 with 1 Axes>"
      ]
     },
     "metadata": {},
     "output_type": "display_data"
    },
    {
     "data": {
      "image/png": "[encoded data removed]",
      "text/plain": [
       "<Figure size 432x288 with 1 Axes>"
      ]
     },
     "metadata": {},
     "output_type": "display_data"
    },
    {
     "data": {
      "image/png": "[encoded data removed]",
      "text/plain": [
       "<Figure size 432x288 with 1 Axes>"
      ]
     },
     "metadata": {},
     "output_type": "display_data"
    },
    {
     "data": {
      "image/png": "[encoded data removed]",
      "text/plain": [
       "<Figure size 432x288 with 1 Axes>"
      ]
     },
     "metadata": {},
     "output_type": "display_data"
    },
    {
     "data": {
      "image/png": "[encoded data removed]",
      "text/plain": [
       "<Figure size 432x288 with 1 Axes>"
      ]
     },
     "metadata": {},
     "output_type": "display_data"
    },
    {
     "data": {
      "image/png": "[encoded data removed]",
      "text/plain": [
       "<Figure size 432x288 with 1 Axes>"
      ]
     },
     "metadata": {},
     "output_type": "display_data"
    },
    {
     "data": {
      "image/png": "[encoded data removed]",
      "text/plain": [
       "<Figure size 432x288 with 1 Axes>"
      ]
     },
     "metadata": {},
     "output_type": "display_data"
    },
    {
     "data": {
      "image/png": "[encoded data removed]",
      "text/plain": [
       "<Figure size 432x288 with 1 Axes>"
      ]
     },
     "metadata": {},
     "output_type": "display_data"
    },
    {
     "data": {
      "image/png": "[encoded data removed]",
      "text/plain": [
       "<Figure size 432x288 with 1 Axes>"
      ]
     },
     "metadata": {},
     "output_type": "display_data"
    },
    {
     "data": {
      "image/png": "[encoded data removed]",
      "text/plain": [
       "<Figure size 432x288 with 1 Axes>"
      ]
     },
     "metadata": {},
     "output_type": "display_data"
    },
    {
     "data": {
      "image/png": "[encoded data removed]",
      "text/plain": [
       "<Figure size 432x288 with 1 Axes>"
      ]
     },
     "metadata": {},
     "output_type": "display_data"
    },
    {
     "data": {
      "image/png": "[encoded data removed]",
      "text/plain": [
       "<Figure size 432x288 with 1 Axes>"
      ]
     },
     "metadata": {},
     "output_type": "display_data"
    },
    {
     "data": {
      "image/png": "[encoded data removed]",
      "text/plain": [
       "<Figure size 432x288 with 1 Axes>"
      ]
     },
     "metadata": {},
     "output_type": "display_data"
    },
    {
     "data": {
      "image/png": "[encoded data removed]",
      "text/plain": [
       "<Figure size 432x288 with 1 Axes>"
      ]
     },
     "metadata": {},
     "output_type": "display_data"
    },
    {
     "data": {
      "image/png": "[encoded data removed]",
      "text/plain": [
       "<Figure size 432x288 with 1 Axes>"
      ]
     },
     "metadata": {},
     "output_type": "display_data"
    },
    {
     "data": {
      "image/png": "[encoded data removed]",
      "text/plain": [
       "<Figure size 432x288 with 1 Axes>"
      ]
     },
     "metadata": {},
     "output_type": "display_data"
    },
    {
     "data": {
      "image/png": "[encoded data removed]",
      "text/plain": [
       "<Figure size 432x288 with 1 Axes>"
      ]
     },
     "metadata": {},
     "output_type": "display_data"
    },
    {
     "data": {
      "image/png": "[encoded data removed]",
      "text/plain": [
       "<Figure size 432x288 with 1 Axes>"
      ]
     },
     "metadata": {},
     "output_type": "display_data"
    },
    {
     "data": {
      "image/png": "[encoded data removed]",
      "text/plain": [
       "<Figure size 432x288 with 1 Axes>"
      ]
     },
     "metadata": {},
     "output_type": "display_data"
    },
    {
     "data": {
      "image/png": "[encoded data removed]",
      "text/plain": [
       "<Figure size 432x288 with 1 Axes>"
      ]
     },
     "metadata": {},
     "output_type": "display_data"
    },
    {
     "data": {
      "image/png": "[encoded data removed]",
      "text/plain": [
       "<Figure size 432x288 with 1 Axes>"
      ]
     },
     "metadata": {},
     "output_type": "display_data"
    },
    {
     "data": {
      "image/png": "[encoded data removed]",
      "text/plain": [
       "<Figure size 432x288 with 1 Axes>"
      ]
     },
     "metadata": {},
     "output_type": "display_data"
    },
    {
     "data": {
      "image/png": "[encoded data removed]",
      "text/plain": [
       "<Figure size 432x288 with 1 Axes>"
      ]
     },
     "metadata": {},
     "output_type": "display_data"
    },
    {
     "data": {
      "image/png": "[encoded data removed]",
      "text/plain": [
       "<Figure size 432x288 with 1 Axes>"
      ]
     },
     "metadata": {},
     "output_type": "display_data"
    },
    {
     "data": {
      "image/png": "[encoded data removed]",
      "text/plain": [
       "<Figure size 432x288 with 1 Axes>"
      ]
     },
     "metadata": {},
     "output_type": "display_data"
    },
    {
     "data": {
      "image/png": "[encoded data removed]",
      "text/plain": [
       "<Figure size 432x288 with 1 Axes>"
      ]
     },
     "metadata": {},
     "output_type": "display_data"
    },
    {
     "name": "stdout",
     "output_type": "stream",
     "text": [
      "(61, 15)\n"
     ]
    }
   ],
   "source": [
    "#acc_features = np.load(\"../results/orig_feature_maps_dataset_weighted_by_label.npy\")\n",
    "#acc_features = np.load(\"../results/orig_feature_maps_dataset_weighted_by_predprob.npy\")\n",
    "#acc_features = np.load(\"../results/orig_feature_maps_trainset_weighted_by_label.npy\")\n",
    "acc_features = np.load(\"../results/orig_feature_maps_trainset_weighted_by_predprob.npy\")\n",
    "#acc_features = np.load(\"../results/resize_feature_maps_dataset_weighted_by_label.npy\")\n",
    "#acc_features = np.load(\"../results/resize_feature_maps_dataset_weighted_by_predprob.npy\")\n",
    "#acc_features = np.load(\"../results/resize_feature_maps_trainset_weighted_by_label.npy\")\n",
    "#acc_features = np.load(\"../results/resize_feature_maps_trainset_weighted_by_predprob.npy\")\n",
    "img_arr = acc_features - np.average(acc_features)\n",
    "for img in img_arr:\n",
    "    img = Image.fromarray(img.astype('uint8'))\n",
    "    plt.imshow(img)\n",
    "    plt.show()\n",
    "acc_features = acc_features.reshape((61, -1))\n",
    "print(acc_features.shape)"
   ]
  },
  {
   "cell_type": "code",
   "execution_count": 125,
   "metadata": {},
   "outputs": [
    {
     "data": {
      "image/png": "[encoded data removed]",
      "text/plain": [
       "<Figure size 432x288 with 1 Axes>"
      ]
     },
     "metadata": {},
     "output_type": "display_data"
    },
    {
     "name": "stdout",
     "output_type": "stream",
     "text": [
      "Original cluster by hierarchy clustering:\n",
      " [ 6  4 16 19  9 12  1 14  1 10  4 17  3  7 20 20 19  1 15 15  1  9  8 12\n",
      " 19  8 19  6 18  1 20  3  3  4 21 17 10 21 14  1  4 12  2 16 21  2 15 10\n",
      "  9  1  5 11  8 11 12  8  5 18 13 19  5]\n"
     ]
    }
   ],
   "source": [
    "import scipy\n",
    "import scipy.cluster.hierarchy as sch\n",
    "from scipy.cluster.vq import vq,kmeans,whiten\n",
    "import matplotlib.pyplot as plt\n",
    "\n",
    "#1. 层次聚类\n",
    "#生成点与点之间的距离矩阵,这里用的欧氏距离:\n",
    "disMat = sch.distance.pdist(acc_features,'euclidean') \n",
    "#进行层次聚类:\n",
    "Z=sch.linkage(disMat,method='average') \n",
    "#将层级聚类结果以树状图表示出来并保存为plot_dendrogram.pn\n",
    "P=sch.dendrogram(Z)\n",
    "plt.show()\n",
    "#根据linkage matrix Z得到聚类结果:\n",
    "cluster= sch.fcluster(Z, t=1, criterion='inconsistent') \n",
    "\n",
    "print(\"Original cluster by hierarchy clustering:\\n\",cluster)"
   ]
  },
  {
   "cell_type": "code",
   "execution_count": 126,
   "metadata": {},
   "outputs": [
    {
     "name": "stdout",
     "output_type": "stream",
     "text": [
      "Final clustering by k-means:\n",
      " [0 0 1 1 0 0 0 1 0 0 0 1 0 0 2 2 2 0 1 1 0 0 0 0 1 0 1 0 1 0 2 0 0 0 2 1 0\n",
      " 2 1 0 0 0 0 1 2 0 1 0 0 0 0 0 0 0 0 0 0 1 0 1 0]\n"
     ]
    }
   ],
   "source": [
    "#使用kmeans函数进行聚类,输入第一维为数据,第二维为聚类个数k.\n",
    "#有些时候我们可能不知道最终究竟聚成多少类,一个办法是用层次聚类的结果进行初始化.当然也可以直接输入某个数值. \n",
    "#k-means最后输出的结果其实是两维的,第一维是聚类中心,第二维是损失distortion,我们在这里只取第一维,所以最后有个[0]\n",
    "cluster_number = 3#np.max(cluster)\n",
    "centroid=kmeans(acc_features, cluster_number)[0]#max(cluster)\n",
    "\n",
    "#使用vq函数根据聚类中心对所有数据进行分类,vq的输出也是两维的,[0]表示的是所有数据的label\n",
    "label=vq(acc_features, centroid)[0] \n",
    "\n",
    "print(\"Final clustering by k-means:\\n\",label)"
   ]
  },
  {
   "cell_type": "code",
   "execution_count": 127,
   "metadata": {},
   "outputs": [
    {
     "name": "stdout",
     "output_type": "stream",
     "text": [
      "['upperBodyLogo', 'lowerBodyThinStripes', 'accessoryHeadphone', 'carryingBabyBuggy', 'carryingBackpack', 'footwearBoots', 'carryingOther', 'carryingShoppingTro', 'carryingFolder', 'accessoryHairBand', 'lowerBodyJeans', 'hairLong', 'lowerBodyLongSkirt', 'upperBodyLongSleeve', 'carryingLuggageCase', 'accessoryMuffler', 'carryingNothing', 'carryingPlasticBags', 'footwearShoes', 'hairShort', 'lowerBodyShorts', 'footwearSneakers', 'carryingSuitcase', 'lowerBodySuits', 'accessorySunglasses', 'upperBodySweater', 'upperBodyOther', 'personalLess15', 'personalLess30', 'personalLess45', 'personalLess60', 'personalLarger60', 'lowerBodyCapri', 'lowerBodyCasual', 'upperBodyCasual', 'personalFemale', 'lowerBodyFormal', 'lowerBodyPlaid', 'upperBodyPlaid']\n",
      "['upperBodyThinStripes', 'upperBodyThickStripes', 'hairBald', 'carryingUmbrella', 'accessoryKerchief', 'footwearLeatherShoes', 'carryingMessengerBag', 'accessoryNothing', 'upperBodyNoSleeve', 'lowerBodyShortSkirt', 'upperBodySuit', 'lowerBodyTrousers', 'upperBodyVNeck', 'upperBodyFormal', 'personalMale']\n",
      "['accessoryHat', 'lowerBodyHotPants', 'upperBodyJacket', 'footwearSandals', 'upperBodyShortSleeve', 'footwearStocking', 'upperBodyTshirt']\n",
      "[[0, 1, 4, 5, 6, 8, 9, 10, 12, 13, 17, 20, 21, 22, 23, 25, 27, 29, 31, 32, 33, 36, 39, 40, 41, 42, 45, 47, 48, 49, 50, 51, 52, 53, 54, 55, 56, 58, 60], [2, 3, 7, 11, 18, 19, 24, 26, 28, 35, 38, 43, 46, 57, 59], [14, 15, 16, 30, 34, 37, 44]]\n"
     ]
    }
   ],
   "source": [
    "levels = []\n",
    "indexs = []\n",
    "for i in range(cluster_number):\n",
    "    levels.append(list())\n",
    "    indexs.append(list())\n",
    "for i in range(61):\n",
    "    levels[label[i]].append(attributes_list[i])\n",
    "    indexs[label[i]].append(i)\n",
    "for level in levels:\n",
    "    print(level)\n",
    "print(indexs)"
   ]
  },
  {
   "cell_type": "code",
   "execution_count": null,
   "metadata": {},
   "outputs": [],
   "source": []
  }
 ],
 "metadata": {
  "kernelspec": {
   "display_name": "Python 3",
   "language": "python",
   "name": "python3"
  },
  "language_info": {
   "codemirror_mode": {
    "name": "ipython",
    "version": 3
   },
   "file_extension": ".py",
   "mimetype": "text/x-python",
   "name": "python",
   "nbconvert_exporter": "python",
   "pygments_lexer": "ipython3",
   "version": "3.6.5"
  }
 },
 "nbformat": 4,
 "nbformat_minor": 2
}

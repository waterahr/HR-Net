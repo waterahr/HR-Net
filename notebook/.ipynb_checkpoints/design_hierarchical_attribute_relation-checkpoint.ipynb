{
 "cells": [
  {
   "cell_type": "code",
   "execution_count": 1,
   "metadata": {},
   "outputs": [
    {
     "name": "stdout",
     "output_type": "stream",
     "text": [
      "The total attributes labeled:  61\n",
      "['upperBodyLogo', 'lowerBodyThinStripes', 'upperBodyThinStripes', 'upperBodyThickStripes', 'accessoryHeadphone', 'carryingBabyBuggy', 'carryingBackpack', 'hairBald', 'footwearBoots', 'carryingOther', 'carryingShoppingTro', 'carryingUmbrella', 'carryingFolder', 'accessoryHairBand', 'accessoryHat', 'lowerBodyHotPants', 'upperBodyJacket', 'lowerBodyJeans', 'accessoryKerchief', 'footwearLeatherShoes', 'hairLong', 'lowerBodyLongSkirt', 'upperBodyLongSleeve', 'carryingLuggageCase', 'carryingMessengerBag', 'accessoryMuffler', 'accessoryNothing', 'carryingNothing', 'upperBodyNoSleeve', 'carryingPlasticBags', 'footwearSandals', 'footwearShoes', 'hairShort', 'lowerBodyShorts', 'upperBodyShortSleeve', 'lowerBodyShortSkirt', 'footwearSneakers', 'footwearStocking', 'upperBodySuit', 'carryingSuitcase', 'lowerBodySuits', 'accessorySunglasses', 'upperBodySweater', 'lowerBodyTrousers', 'upperBodyTshirt', 'upperBodyOther', 'upperBodyVNeck', 'personalLess15', 'personalLess30', 'personalLess45', 'personalLess60', 'personalLarger60', 'lowerBodyCapri', 'lowerBodyCasual', 'upperBodyCasual', 'personalFemale', 'lowerBodyFormal', 'upperBodyFormal', 'lowerBodyPlaid', 'personalMale', 'upperBodyPlaid']\n"
     ]
    }
   ],
   "source": [
    "import pandas as pd\n",
    "import numpy as np\n",
    "import os\n",
    "os.environ['CUDA_VISIBLE_DEVICES'] = \"\"\n",
    "\n",
    "all_data = pd.read_csv(\"../results/PETA_labels_pd.csv\")\n",
    "#all_data = all_data.set_index('0')\n",
    "all_data\n",
    "\n",
    "labels_list_file = r\"/home/anhaoran/data/pedestrian_attributes_PETA/PETA/labels.txt\" \n",
    "labels_list_data = open(labels_list_file)\n",
    "lines = labels_list_data.readlines()\n",
    "attributes_list = []\n",
    "for line in lines:\n",
    "    data = line.split()\n",
    "    #print(attr)\n",
    "    attributes_list.append(data[1])\n",
    "low_level = [27, 32, 50, 56]\n",
    "mid_level = [0, 6, 7, 8, 9, 11, 12, 13, 17, 20, 21, 22, 23, 24, 25, 26, 28, 29, 30, 33, 35, 36, 37, 38, 39, 41, 42, 43, 44, 45, 46, 47, 48, 49, 51, 52, 53, 54, 55, 57, 58, 59, 60]\n",
    "high_level = [1, 2, 3, 4, 5, 10, 14, 15, 16, 18, 19, 31, 34, 40]\n",
    "attributes_list = list(np.array(attributes_list)[list(np.hstack((low_level, mid_level, high_level)))])\n",
    "print(\"The total attributes labeled: \", len(attributes_list))\n",
    "print(attributes_list)"
   ]
  },
  {
   "cell_type": "code",
   "execution_count": 2,
   "metadata": {},
   "outputs": [],
   "source": [
    "relation_dict = {'personalLess15': [], \n",
    "                 'personalLess30': ['lowerBodyHotPants'], \n",
    "                 'personalLess45': [], \n",
    "                 'personalLess60': [], \n",
    "                 'personalLarger60': ['hairBald'], \n",
    "                 'lowerBodyCapri': [], \n",
    "                 'lowerBodyCasual': ['lowerBodyThinStripes', 'lowerBodyHotPants', 'lowerBodyJeans', 'lowerBodyShortSkirt'], \n",
    "                 'upperBodyCasual': ['upperBodyLogo', 'upperBodyThinStripes', 'upperBodyThickStripes', 'upperBodyJacket', 'upperBodyNoSleeve', 'upperBodyTshirt'], \n",
    "                 'personalFemale': ['footwearBoots', 'hairLong', 'lowerBodyLongSkirt', 'lowerBodyShortSkirt', 'footwearStocking'], \n",
    "                 'lowerBodyFormal': ['footwearLeatherShoes', 'lowerBodySuits'], \n",
    "                 'upperBodyFormal': ['footwearLeatherShoes', 'upperBodySuit'], \n",
    "                 'lowerBodyPlaid': [], \n",
    "                 'personalMale': ['hairBald'], \n",
    "                 'upperBodyPlaid': []}"
   ]
  },
  {
   "cell_type": "code",
   "execution_count": 3,
   "metadata": {},
   "outputs": [],
   "source": [
    "relation_array = np.zeros((61, 61))\n",
    "for key, items in relation_dict.items():\n",
    "    idx = attributes_list.index(key)\n",
    "    for item in items:\n",
    "        idy = attributes_list.index(item)\n",
    "        relation_array[idx][idy] = 1"
   ]
  },
  {
   "cell_type": "code",
   "execution_count": 4,
   "metadata": {},
   "outputs": [
    {
     "name": "stdout",
     "output_type": "stream",
     "text": [
      "22.0\n"
     ]
    }
   ],
   "source": [
    "print(relation_array.sum())"
   ]
  },
  {
   "cell_type": "code",
   "execution_count": 5,
   "metadata": {},
   "outputs": [],
   "source": [
    "np.save(\"../results/relation_array.npy\", relation_array)"
   ]
  },
  {
   "cell_type": "markdown",
   "metadata": {},
   "source": [
    "# state_transition_matrix.npy"
   ]
  },
  {
   "cell_type": "code",
   "execution_count": 8,
   "metadata": {},
   "outputs": [],
   "source": [
    "state_transition_matrix = np.ones((47, 14), dtype=\"float64\")"
   ]
  },
  {
   "cell_type": "code",
   "execution_count": null,
   "metadata": {},
   "outputs": [],
   "source": []
  },
  {
   "cell_type": "code",
   "execution_count": 9,
   "metadata": {},
   "outputs": [],
   "source": [
    "np.save(\"../results/state_transition_matrix.npy\", state_transition_matrix)"
   ]
  }
 ],
 "metadata": {
  "kernelspec": {
   "display_name": "Python 3",
   "language": "python",
   "name": "python3"
  },
  "language_info": {
   "codemirror_mode": {
    "name": "ipython",
    "version": 3
   },
   "file_extension": ".py",
   "mimetype": "text/x-python",
   "name": "python",
   "nbconvert_exporter": "python",
   "pygments_lexer": "ipython3",
   "version": "3.6.5"
  }
 },
 "nbformat": 4,
 "nbformat_minor": 2
}

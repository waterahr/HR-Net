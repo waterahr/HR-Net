{
 "cells": [
  {
   "cell_type": "code",
   "execution_count": 1,
   "metadata": {},
   "outputs": [
    {
     "name": "stdout",
     "output_type": "stream",
     "text": [
      "GoogLeNet_binary61_feature_imagenet_all.npy\n",
      "GoogLeNet_binary61_feature_imagenet_test7600.npy\n",
      "googlenet_weights.npy\n",
      "logs\n",
      "metrics\n",
      "models\n",
      "OEDCWPAL_PETA_features_all.pickle\n",
      "PETA_coarse_to_fine_labels_pd.csv\n",
      "PETA.csv\n",
      "PETA_labels_pd.csv\n",
      "PETA_lowerBody_labels_pd.csv\n",
      "PETA_ratio_positive_samples_for_attributes.json\n",
      "predictions\n",
      "relation_array.npy\n",
      "samples\n",
      "state_transition_matrix.npy\n",
      "The total attributes labeled:  65\n",
      "['accessoryHeadphone', 'personalLess15', 'personalLess30', 'personalLess45', 'personalLess60', 'personalLarger60', 'carryingBabyBuggy', 'carryingBackpack', 'hairBald', 'footwearBoots', 'lowerBodyCapri', 'carryingOther', 'carryingShoppingTro', 'carryingUmbrella', 'lowerBodyCasual', 'upperBodyCasual', 'personalFemale', 'carryingFolder', 'lowerBodyFormal', 'upperBodyFormal', 'accessoryHairBand', 'accessoryHat', 'lowerBodyHotPants', 'upperBodyJacket', 'lowerBodyJeans', 'accessoryKerchief', 'footwearLeatherShoes', 'upperBodyLogo', 'hairLong', 'lowerBodyLongSkirt', 'upperBodyLongSleeve', 'lowerBodyPlaid', 'lowerBodyThinStripes', 'carryingLuggageCase', 'personalMale', 'carryingMessengerBag', 'accessoryMuffler', 'accessoryNothing', 'carryingNothing', 'upperBodyNoSleeve', 'upperBodyPlaid', 'carryingPlasticBags', 'footwearSandals', 'footwearShoes', 'hairShort', 'lowerBodyShorts', 'upperBodyShortSleeve', 'lowerBodyShortSkirt', 'footwearSneakers', 'footwearStocking', 'upperBodyThinStripes', 'upperBodySuit', 'carryingSuitcase', 'lowerBodySuits', 'accessorySunglasses', 'upperBodySweater', 'upperBodyThickStripes', 'lowerBodyTrousers', 'upperBodyTshirt', 'upperBodyOther', 'upperBodyVNeck', 'footwear', 'hair', 'lowerbody', 'upperbody']\n",
      "The shape of the y_test is:  (19000, 61)\n"
     ]
    }
   ],
   "source": [
    "import numpy as np\n",
    "import pandas as pd\n",
    "from sklearn.metrics import accuracy_score, roc_curve, recall_score, auc, roc_auc_score\n",
    "from skimage.transform import rotate\n",
    "from skimage.feature import local_binary_pattern\n",
    "from skimage import data, io\n",
    "from skimage.color import label2rgb\n",
    "import skimage\n",
    "import matplotlib.pyplot as plt\n",
    "%matplotlib inline\n",
    "from PIL import Image\n",
    "import cv2\n",
    "\n",
    "!ls ../results\n",
    "\n",
    "labels_list_file = r\"/home/anhaoran/data/pedestrian_attributes_PETA/PETA/labels.txt\" \n",
    "labels_list_data = open(labels_list_file)\n",
    "lines = labels_list_data.readlines()\n",
    "attributes_list = []\n",
    "for line in lines:\n",
    "    data = line.split()\n",
    "    #print(attr)\n",
    "    attributes_list.append(data[1])\n",
    "print(\"The total attributes labeled: \", len(attributes_list))\n",
    "print(attributes_list)\n",
    "\n",
    "filename = r\"../results/PETA.csv\"\n",
    "data = np.array(pd.read_csv(filename))[:, 1:]\n",
    "length = len(data)\n",
    "data_y = np.zeros((length, 61))\n",
    "for i in range(length):\n",
    "    data_y[i] = np.array(data[i, 1:1+61], dtype=\"float32\")\n",
    "y_test = data_y#[11400:]\n",
    "print(\"The shape of the y_test is: \", y_test.shape)"
   ]
  },
  {
   "cell_type": "markdown",
   "metadata": {},
   "source": [
    "# LBP"
   ]
  },
  {
   "cell_type": "code",
   "execution_count": 2,
   "metadata": {},
   "outputs": [
    {
     "name": "stdout",
     "output_type": "stream",
     "text": [
      "(19000, 12000)\n"
     ]
    }
   ],
   "source": [
    "data_x = []\n",
    "radius = 3\n",
    "n_points = 8 * radius\n",
    "for i in range(length):\n",
    "    image = cv2.imread(data[i, 0])\n",
    "    image = cv2.resize(image,(160, 75))\n",
    "    image = cv2.cvtColor(image, cv2.COLOR_BGR2GRAY)\n",
    "    lbp = local_binary_pattern(image, n_points, radius)\n",
    "    #print(lbp.shape)#(75, 160)\n",
    "    data_x.append(np.reshape(lbp, (-1,)))\n",
    "data_x = np.asarray(data_x)\n",
    "print(data_x.shape)"
   ]
  },
  {
   "cell_type": "code",
   "execution_count": 3,
   "metadata": {},
   "outputs": [
    {
     "data": {
      "text/plain": [
       "KNeighborsClassifier(algorithm='auto', leaf_size=30, metric='minkowski',\n",
       "           metric_params=None, n_jobs=1, n_neighbors=5, p=2,\n",
       "           weights='uniform')"
      ]
     },
     "execution_count": 3,
     "metadata": {},
     "output_type": "execute_result"
    }
   ],
   "source": [
    "from sklearn.model_selection import train_test_split\n",
    "from sklearn.neighbors import KNeighborsClassifier\n",
    "\n",
    "X_train, X_test, Y_train ,Y_test = train_test_split(data_x, data_y, test_size=0.2)\n",
    "neigh_lbp = KNeighborsClassifier(n_neighbors=5)\n",
    "neigh_lbp.fit(X_train, Y_train)\n",
    "#print(neigh_lbp.score(X_test, Y_test))"
   ]
  },
  {
   "cell_type": "code",
   "execution_count": 4,
   "metadata": {},
   "outputs": [],
   "source": [
    "pred_lbp = neigh_lbp.predict(X_test)"
   ]
  },
  {
   "cell_type": "code",
   "execution_count": 17,
   "metadata": {},
   "outputs": [
    {
     "name": "stdout",
     "output_type": "stream",
     "text": [
      "0.8742063492063492\n",
      "0.9827826433121019\n",
      "0.9199383332673972\n",
      "0.9123022205729445\n",
      "0.8975185928201652\n",
      "0.942073325332567\n",
      "0.9575694802660488\n",
      "0.9234153327103485\n",
      "0.9399651650700658\n",
      "0.9520323804505808\n",
      "0.916394337467949\n",
      "0.9134983318052008\n",
      "0.8998682476943347\n",
      "0.9059857293868923\n",
      "0.9009148367113716\n",
      "0.9059203483124358\n",
      "0.9066130543214979\n",
      "0.9143470441664026\n",
      "0.8993903857787705\n",
      "0.9060969068478455\n",
      "0.9488024283871173\n",
      "0.9244859998367327\n",
      "0.9806207265154168\n",
      "0.9121272750742223\n",
      "0.9085708036495438\n",
      "0.9668133072005067\n",
      "0.9127167788203402\n",
      "0.880885749822317\n",
      "0.9127206591585031\n",
      "0.9267857980394916\n",
      "0.9037263824522407\n",
      "0.9997368421052631\n",
      "1.0\n",
      "0.9834566495921078\n",
      "0.9066130543214979\n",
      "0.9164621678008299\n",
      "0.9474983221113251\n",
      "0.9123521132118537\n",
      "0.896914553307465\n",
      "0.9445851101634684\n",
      "0.9598161509926216\n",
      "0.9164092807962538\n",
      "0.8629162191192266\n",
      "0.9107277969059056\n",
      "0.9135655498565733\n",
      "0.8687219322733342\n",
      "0.8982768468814317\n",
      "0.8981060980502753\n",
      "0.9048968876752931\n",
      "0.9410022959385639\n",
      "0.9360403397027601\n",
      "0.8775562874221343\n",
      "0.8367626549199098\n",
      "0.8722443030759756\n",
      "0.8914189056389153\n",
      "0.9547822734720025\n",
      "0.9985495780590717\n",
      "0.9080642444231656\n",
      "0.8871138236959668\n",
      "0.9111295162821768\n",
      "0.9046643763213531\n"
     ]
    }
   ],
   "source": [
    "def mA(y_pred, y_true):\n",
    "    M = len(y_pred)\n",
    "    res = 0\n",
    "    P = sum(y_true)\n",
    "    N = M - P\n",
    "    TP = sum(y_pred*y_true)\n",
    "    TN = list(y_pred+y_true == 0).count(True)\n",
    "    if P != 0:\n",
    "        res += TP/P + TN/N\n",
    "    else:\n",
    "        res += 1 + TN/N\n",
    "    return res / 2\n",
    "\n",
    "diction_lbp = {}\n",
    "for i in range(61):\n",
    "    print(mA(Y_test[:, i], pred_lbp[:, i]))#attributes_list[i], ': ', \n",
    "    diction_lbp.update({attributes_list[i]:mA(Y_test[:, i], pred_lbp[:, i])})"
   ]
  },
  {
   "cell_type": "code",
   "execution_count": 6,
   "metadata": {},
   "outputs": [
    {
     "name": "stdout",
     "output_type": "stream",
     "text": [
      "[('lowerBodyThinStripes', 1.0), ('lowerBodyPlaid', 0.9997368421052631), ('upperBodyThickStripes', 0.9985495780590717), ('carryingLuggageCase', 0.9834566495921078), ('personalLess15', 0.9827826433121019), ('lowerBodyHotPants', 0.9806207265154168), ('accessoryKerchief', 0.9668133072005067), ('upperBodyPlaid', 0.9598161509926216), ('carryingBabyBuggy', 0.9575694802660488), ('upperBodySweater', 0.9547822734720025), ('footwearBoots', 0.9520323804505808), ('accessoryHairBand', 0.9488024283871173), ('accessoryMuffler', 0.9474983221113251), ('upperBodyNoSleeve', 0.9445851101634684), ('personalLarger60', 0.942073325332567), ('footwearStocking', 0.9410022959385639), ('hairBald', 0.9399651650700658), ('upperBodyThinStripes', 0.9360403397027601), ('lowerBodyLongSkirt', 0.9267857980394916), ('accessoryHat', 0.9244859998367327), ('carryingBackpack', 0.9234153327103485), ('personalLess30', 0.9199383332673972), ('carryingMessengerBag', 0.9164621678008299), ('carryingPlasticBags', 0.9164092807962538), ('lowerBodyCapri', 0.916394337467949), ('carryingFolder', 0.9143470441664026), ('hairShort', 0.9135655498565733), ('carryingOther', 0.9134983318052008), ('hairLong', 0.9127206591585031), ('footwearLeatherShoes', 0.9127167788203402), ('accessoryNothing', 0.9123521132118537), ('personalLess45', 0.9123022205729445), ('upperBodyJacket', 0.9121272750742223), ('upperBodyOther', 0.9111295162821768), ('footwearShoes', 0.9107277969059056), ('lowerBodyJeans', 0.9085708036495438), ('lowerBodyTrousers', 0.9080642444231656), ('personalFemale', 0.9066130543214979), ('personalMale', 0.9066130543214979), ('upperBodyFormal', 0.9060969068478455), ('carryingUmbrella', 0.9059857293868923), ('upperBodyCasual', 0.9059203483124358), ('footwearSneakers', 0.9048968876752931), ('upperBodyVNeck', 0.9046643763213531), ('upperBodyLongSleeve', 0.9037263824522407), ('lowerBodyCasual', 0.9009148367113716), ('carryingShoppingTro', 0.8998682476943347), ('lowerBodyFormal', 0.8993903857787705), ('upperBodyShortSleeve', 0.8982768468814317), ('lowerBodyShortSkirt', 0.8981060980502753), ('personalLess60', 0.8975185928201652), ('carryingNothing', 0.896914553307465), ('accessorySunglasses', 0.8914189056389153), ('upperBodyTshirt', 0.8871138236959668), ('upperBodyLogo', 0.880885749822317), ('upperBodySuit', 0.8775562874221343), ('accessoryHeadphone', 0.8742063492063492), ('lowerBodySuits', 0.8722443030759756), ('lowerBodyShorts', 0.8687219322733342), ('footwearSandals', 0.8629162191192266), ('carryingSuitcase', 0.8367626549199098)]\n"
     ]
    }
   ],
   "source": [
    "diction_lbp = sorted(diction_lbp.items(), key=lambda item:item[1], reverse=True)\n",
    "print(diction_lbp)"
   ]
  },
  {
   "cell_type": "code",
   "execution_count": 7,
   "metadata": {},
   "outputs": [
    {
     "name": "stdout",
     "output_type": "stream",
     "text": [
      "0.9971052631578947\n",
      "0.996578947368421\n",
      "0.9181578947368421\n",
      "0.915\n",
      "0.96\n",
      "0.9852631578947368\n",
      "0.9939473684210526\n",
      "0.9502631578947368\n",
      "0.995\n",
      "0.9860526315789474\n",
      "0.993421052631579\n",
      "0.9371052631578948\n",
      "0.9994736842105263\n",
      "0.9986842105263158\n",
      "0.9555263157894737\n",
      "0.9565789473684211\n",
      "0.9076315789473685\n",
      "0.9897368421052631\n",
      "0.9552631578947368\n",
      "0.9578947368421052\n",
      "0.9886842105263158\n",
      "0.9605263157894737\n",
      "0.9952631578947368\n",
      "0.978421052631579\n",
      "0.9192105263157895\n",
      "0.9976315789473684\n",
      "0.9184210526315789\n",
      "0.9881578947368421\n",
      "0.9223684210526316\n",
      "0.991578947368421\n",
      "0.9536842105263158\n",
      "0.9994736842105263\n",
      "1.0\n",
      "0.9952631578947368\n",
      "0.9076315789473685\n",
      "0.93\n",
      "0.9757894736842105\n",
      "0.9178947368421052\n",
      "0.9231578947368421\n",
      "0.9921052631578947\n",
      "0.9960526315789474\n",
      "0.9760526315789474\n",
      "0.9839473684210527\n",
      "0.9178947368421052\n",
      "0.9213157894736842\n",
      "0.988421052631579\n",
      "0.9607894736842105\n",
      "0.9810526315789474\n",
      "0.9376315789473684\n",
      "0.9857894736842105\n",
      "0.9960526315789474\n",
      "0.9802631578947368\n",
      "0.988421052631579\n",
      "0.9773684210526316\n",
      "0.965\n",
      "0.9936842105263158\n",
      "0.9971052631578947\n",
      "0.908157894736842\n",
      "0.9655263157894737\n",
      "0.9134210526315789\n",
      "0.9960526315789474\n"
     ]
    }
   ],
   "source": [
    "for i in range(61):\n",
    "    print(accuracy_score(Y_test[:, i], pred_lbp[:, i]))"
   ]
  },
  {
   "cell_type": "markdown",
   "metadata": {},
   "source": [
    "# HOG"
   ]
  },
  {
   "cell_type": "code",
   "execution_count": 8,
   "metadata": {},
   "outputs": [
    {
     "name": "stderr",
     "output_type": "stream",
     "text": [
      "/home/anhaoran/anaconda3/lib/python3.6/site-packages/skimage/feature/_hog.py:119: skimage_deprecation: Default value of `block_norm`==`L1` is deprecated and will be changed to `L2-Hys` in v0.15\n",
      "  'be changed to `L2-Hys` in v0.15', skimage_deprecation)\n"
     ]
    },
    {
     "name": "stdout",
     "output_type": "stream",
     "text": [
      "(19000, 320)\n"
     ]
    }
   ],
   "source": [
    "from skimage.feature import hog\n",
    "\n",
    "data_x = []\n",
    "for i in range(length):\n",
    "    image = cv2.imread(data[i, 0])\n",
    "    image = cv2.resize(image,(160, 75))\n",
    "    image = cv2.cvtColor(image, cv2.COLOR_BGR2GRAY)\n",
    "    fea = hog(image, orientations=8, pixels_per_cell=(16, 16), cells_per_block=(1, 1), feature_vector=True)\n",
    "    data_x.append(fea)\n",
    "data_x = np.asarray(data_x)\n",
    "print(data_x.shape)"
   ]
  },
  {
   "cell_type": "code",
   "execution_count": 9,
   "metadata": {},
   "outputs": [],
   "source": [
    "from sklearn.neighbors import KNeighborsClassifier\n",
    "\n",
    "neigh_hog = KNeighborsClassifier(n_neighbors=5)\n",
    "neigh_hog.fit(X_train, Y_train)\n",
    "#print(neigh_hog.score(X_test, Y_test))\n",
    "pred_hog = neigh_hog.predict(X_test)"
   ]
  },
  {
   "cell_type": "code",
   "execution_count": 18,
   "metadata": {},
   "outputs": [
    {
     "name": "stdout",
     "output_type": "stream",
     "text": [
      "0.8742063492063492\n",
      "0.9827826433121019\n",
      "0.9199383332673972\n",
      "0.9123022205729445\n",
      "0.8975185928201652\n",
      "0.942073325332567\n",
      "0.9575694802660488\n",
      "0.9234153327103485\n",
      "0.9399651650700658\n",
      "0.9520323804505808\n",
      "0.916394337467949\n",
      "0.9134983318052008\n",
      "0.8998682476943347\n",
      "0.9059857293868923\n",
      "0.9009148367113716\n",
      "0.9059203483124358\n",
      "0.9066130543214979\n",
      "0.9143470441664026\n",
      "0.8993903857787705\n",
      "0.9060969068478455\n",
      "0.9488024283871173\n",
      "0.9244859998367327\n",
      "0.9806207265154168\n",
      "0.9121272750742223\n",
      "0.9085708036495438\n",
      "0.9668133072005067\n",
      "0.9127167788203402\n",
      "0.880885749822317\n",
      "0.9127206591585031\n",
      "0.9267857980394916\n",
      "0.9037263824522407\n",
      "0.9997368421052631\n",
      "1.0\n",
      "0.9834566495921078\n",
      "0.9066130543214979\n",
      "0.9164621678008299\n",
      "0.9474983221113251\n",
      "0.9123521132118537\n",
      "0.896914553307465\n",
      "0.9445851101634684\n",
      "0.9598161509926216\n",
      "0.9164092807962538\n",
      "0.8629162191192266\n",
      "0.9107277969059056\n",
      "0.9135655498565733\n",
      "0.8687219322733342\n",
      "0.8982768468814317\n",
      "0.8981060980502753\n",
      "0.9048968876752931\n",
      "0.9410022959385639\n",
      "0.9360403397027601\n",
      "0.8775562874221343\n",
      "0.8367626549199098\n",
      "0.8722443030759756\n",
      "0.8914189056389153\n",
      "0.9547822734720025\n",
      "0.9985495780590717\n",
      "0.9080642444231656\n",
      "0.8871138236959668\n",
      "0.9111295162821768\n",
      "0.9046643763213531\n"
     ]
    }
   ],
   "source": [
    "diction_hog = {}\n",
    "for i in range(61):\n",
    "    print( mA(Y_test[:, i], pred_hog[:, i]))#attributes_list[i], ': ',\n",
    "    diction_hog.update({attributes_list[i]:mA(Y_test[:, i], pred_hog[:, i])})"
   ]
  },
  {
   "cell_type": "code",
   "execution_count": 11,
   "metadata": {},
   "outputs": [
    {
     "name": "stdout",
     "output_type": "stream",
     "text": [
      "[('lowerBodyThinStripes', 1.0), ('lowerBodyPlaid', 0.9997368421052631), ('upperBodyThickStripes', 0.9985495780590717), ('carryingLuggageCase', 0.9834566495921078), ('personalLess15', 0.9827826433121019), ('lowerBodyHotPants', 0.9806207265154168), ('accessoryKerchief', 0.9668133072005067), ('upperBodyPlaid', 0.9598161509926216), ('carryingBabyBuggy', 0.9575694802660488), ('upperBodySweater', 0.9547822734720025), ('footwearBoots', 0.9520323804505808), ('accessoryHairBand', 0.9488024283871173), ('accessoryMuffler', 0.9474983221113251), ('upperBodyNoSleeve', 0.9445851101634684), ('personalLarger60', 0.942073325332567), ('footwearStocking', 0.9410022959385639), ('hairBald', 0.9399651650700658), ('upperBodyThinStripes', 0.9360403397027601), ('lowerBodyLongSkirt', 0.9267857980394916), ('accessoryHat', 0.9244859998367327), ('carryingBackpack', 0.9234153327103485), ('personalLess30', 0.9199383332673972), ('carryingMessengerBag', 0.9164621678008299), ('carryingPlasticBags', 0.9164092807962538), ('lowerBodyCapri', 0.916394337467949), ('carryingFolder', 0.9143470441664026), ('hairShort', 0.9135655498565733), ('carryingOther', 0.9134983318052008), ('hairLong', 0.9127206591585031), ('footwearLeatherShoes', 0.9127167788203402), ('accessoryNothing', 0.9123521132118537), ('personalLess45', 0.9123022205729445), ('upperBodyJacket', 0.9121272750742223), ('upperBodyOther', 0.9111295162821768), ('footwearShoes', 0.9107277969059056), ('lowerBodyJeans', 0.9085708036495438), ('lowerBodyTrousers', 0.9080642444231656), ('personalFemale', 0.9066130543214979), ('personalMale', 0.9066130543214979), ('upperBodyFormal', 0.9060969068478455), ('carryingUmbrella', 0.9059857293868923), ('upperBodyCasual', 0.9059203483124358), ('footwearSneakers', 0.9048968876752931), ('upperBodyVNeck', 0.9046643763213531), ('upperBodyLongSleeve', 0.9037263824522407), ('lowerBodyCasual', 0.9009148367113716), ('carryingShoppingTro', 0.8998682476943347), ('lowerBodyFormal', 0.8993903857787705), ('upperBodyShortSleeve', 0.8982768468814317), ('lowerBodyShortSkirt', 0.8981060980502753), ('personalLess60', 0.8975185928201652), ('carryingNothing', 0.896914553307465), ('accessorySunglasses', 0.8914189056389153), ('upperBodyTshirt', 0.8871138236959668), ('upperBodyLogo', 0.880885749822317), ('upperBodySuit', 0.8775562874221343), ('accessoryHeadphone', 0.8742063492063492), ('lowerBodySuits', 0.8722443030759756), ('lowerBodyShorts', 0.8687219322733342), ('footwearSandals', 0.8629162191192266), ('carryingSuitcase', 0.8367626549199098)]\n"
     ]
    }
   ],
   "source": [
    "diction_hog = sorted(diction_hog.items(), key=lambda item:item[1], reverse=True)\n",
    "print(diction_hog)"
   ]
  },
  {
   "cell_type": "code",
   "execution_count": 12,
   "metadata": {},
   "outputs": [
    {
     "name": "stdout",
     "output_type": "stream",
     "text": [
      "0.9971052631578947\n",
      "0.996578947368421\n",
      "0.9181578947368421\n",
      "0.915\n",
      "0.96\n",
      "0.9852631578947368\n",
      "0.9939473684210526\n",
      "0.9502631578947368\n",
      "0.995\n",
      "0.9860526315789474\n",
      "0.993421052631579\n",
      "0.9371052631578948\n",
      "0.9994736842105263\n",
      "0.9986842105263158\n",
      "0.9555263157894737\n",
      "0.9565789473684211\n",
      "0.9076315789473685\n",
      "0.9897368421052631\n",
      "0.9552631578947368\n",
      "0.9578947368421052\n",
      "0.9886842105263158\n",
      "0.9605263157894737\n",
      "0.9952631578947368\n",
      "0.978421052631579\n",
      "0.9192105263157895\n",
      "0.9976315789473684\n",
      "0.9184210526315789\n",
      "0.9881578947368421\n",
      "0.9223684210526316\n",
      "0.991578947368421\n",
      "0.9536842105263158\n",
      "0.9994736842105263\n",
      "1.0\n",
      "0.9952631578947368\n",
      "0.9076315789473685\n",
      "0.93\n",
      "0.9757894736842105\n",
      "0.9178947368421052\n",
      "0.9231578947368421\n",
      "0.9921052631578947\n",
      "0.9960526315789474\n",
      "0.9760526315789474\n",
      "0.9839473684210527\n",
      "0.9178947368421052\n",
      "0.9213157894736842\n",
      "0.988421052631579\n",
      "0.9607894736842105\n",
      "0.9810526315789474\n",
      "0.9376315789473684\n",
      "0.9857894736842105\n",
      "0.9960526315789474\n",
      "0.9802631578947368\n",
      "0.988421052631579\n",
      "0.9773684210526316\n",
      "0.965\n",
      "0.9936842105263158\n",
      "0.9971052631578947\n",
      "0.908157894736842\n",
      "0.9655263157894737\n",
      "0.9134210526315789\n",
      "0.9960526315789474\n"
     ]
    }
   ],
   "source": [
    "for i in range(61):\n",
    "    print(accuracy_score(Y_test[:, i], pred_hog[:, i]))"
   ]
  },
  {
   "cell_type": "markdown",
   "metadata": {},
   "source": [
    "# GoogLenet"
   ]
  },
  {
   "cell_type": "code",
   "execution_count": 13,
   "metadata": {},
   "outputs": [],
   "source": [
    "features = np.load(\"../results/GoogLeNet_binary61_feature_imagenet_all.npy\")\n",
    "X_train_, X_test_, Y_train_ ,Y_test_ = train_test_split(features, data_y, test_size=0.2)\n",
    "\n",
    "from sklearn.neighbors import KNeighborsClassifier\n",
    "\n",
    "neigh_goo = KNeighborsClassifier(n_neighbors=5)\n",
    "neigh_goo.fit(X_train_, Y_train_)\n",
    "#print(neigh_hog.score(X_test, Y_test))\n",
    "pred_goo = neigh_goo.predict(X_test_)"
   ]
  },
  {
   "cell_type": "code",
   "execution_count": 19,
   "metadata": {},
   "outputs": [
    {
     "name": "stdout",
     "output_type": "stream",
     "text": [
      "0.9992071881606766\n",
      "0.9863031914893616\n",
      "0.9716386288551238\n",
      "0.9697867647452473\n",
      "0.9760882754029356\n",
      "0.9927072098232805\n",
      "0.9839027944945264\n",
      "0.9554507538202281\n",
      "0.9934666038970732\n",
      "0.9807090239410681\n",
      "0.9833134288747346\n",
      "0.9497238840312932\n",
      "0.9998683864174782\n",
      "0.9996045346691274\n",
      "0.9773702338157306\n",
      "0.9813467110639822\n",
      "0.9635345310305521\n",
      "0.9696965207884594\n",
      "0.9773433658259983\n",
      "0.98101786503679\n",
      "0.9582724899331829\n",
      "0.9639169882156637\n",
      "0.9924214096593507\n",
      "0.9757110898050496\n",
      "0.9684790758019364\n",
      "0.9857142857142858\n",
      "0.9661583937420416\n",
      "0.8934346126510305\n",
      "0.9664398318146203\n",
      "0.9945046656966288\n",
      "0.9702567916944846\n",
      "0.9997368421052631\n",
      "0.9998684210526316\n",
      "0.9331472620946306\n",
      "0.9635289708209556\n",
      "0.9646871818314044\n",
      "0.9803592900360929\n",
      "0.9536375463417092\n",
      "0.95347924803343\n",
      "0.9709916251972326\n",
      "0.9513224713013018\n",
      "0.9865895846899533\n",
      "0.9826791536032874\n",
      "0.9483267996932598\n",
      "0.9676338403109068\n",
      "0.9708789740849586\n",
      "0.9646723442456072\n",
      "0.9779493511064431\n",
      "0.947407581453634\n",
      "0.9808447879181169\n",
      "0.9080321478415708\n",
      "0.973318320871331\n",
      "0.9671835909459672\n",
      "0.9697144279668551\n",
      "0.9503320623320091\n",
      "0.9696863968475495\n",
      "0.9279111010489773\n",
      "0.9620000798807115\n",
      "0.974545171365403\n",
      "0.9607931118357136\n",
      "0.8844833539842782\n"
     ]
    }
   ],
   "source": [
    "diction_goo = {}\n",
    "for i in range(61):\n",
    "    print(mA(Y_test_[:, i], pred_goo[:, i]))#attributes_list[i], ': ', \n",
    "    diction_goo.update({attributes_list[i]:mA(Y_test_[:, i], pred_goo[:, i])})"
   ]
  },
  {
   "cell_type": "code",
   "execution_count": 15,
   "metadata": {},
   "outputs": [
    {
     "name": "stdout",
     "output_type": "stream",
     "text": [
      "[('lowerBodyThinStripes', 0.9998684210526316), ('carryingShoppingTro', 0.9998683864174782), ('lowerBodyPlaid', 0.9997368421052631), ('carryingUmbrella', 0.9996045346691274), ('accessoryHeadphone', 0.9992071881606766), ('lowerBodyLongSkirt', 0.9945046656966288), ('hairBald', 0.9934666038970732), ('personalLarger60', 0.9927072098232805), ('lowerBodyHotPants', 0.9924214096593507), ('carryingPlasticBags', 0.9865895846899533), ('personalLess15', 0.9863031914893616), ('accessoryKerchief', 0.9857142857142858), ('carryingBabyBuggy', 0.9839027944945264), ('lowerBodyCapri', 0.9833134288747346), ('footwearSandals', 0.9826791536032874), ('upperBodyCasual', 0.9813467110639822), ('upperBodyFormal', 0.98101786503679), ('footwearStocking', 0.9808447879181169), ('footwearBoots', 0.9807090239410681), ('accessoryMuffler', 0.9803592900360929), ('lowerBodyShortSkirt', 0.9779493511064431), ('lowerBodyCasual', 0.9773702338157306), ('lowerBodyFormal', 0.9773433658259983), ('personalLess60', 0.9760882754029356), ('upperBodyJacket', 0.9757110898050496), ('upperBodyTshirt', 0.974545171365403), ('upperBodySuit', 0.973318320871331), ('personalLess30', 0.9716386288551238), ('upperBodyNoSleeve', 0.9709916251972326), ('lowerBodyShorts', 0.9708789740849586), ('upperBodyLongSleeve', 0.9702567916944846), ('personalLess45', 0.9697867647452473), ('lowerBodySuits', 0.9697144279668551), ('carryingFolder', 0.9696965207884594), ('upperBodySweater', 0.9696863968475495), ('lowerBodyJeans', 0.9684790758019364), ('hairShort', 0.9676338403109068), ('carryingSuitcase', 0.9671835909459672), ('hairLong', 0.9664398318146203), ('footwearLeatherShoes', 0.9661583937420416), ('carryingMessengerBag', 0.9646871818314044), ('upperBodyShortSleeve', 0.9646723442456072), ('accessoryHat', 0.9639169882156637), ('personalFemale', 0.9635345310305521), ('personalMale', 0.9635289708209556), ('lowerBodyTrousers', 0.9620000798807115), ('upperBodyOther', 0.9607931118357136), ('accessoryHairBand', 0.9582724899331829), ('carryingBackpack', 0.9554507538202281), ('accessoryNothing', 0.9536375463417092), ('carryingNothing', 0.95347924803343), ('upperBodyPlaid', 0.9513224713013018), ('accessorySunglasses', 0.9503320623320091), ('carryingOther', 0.9497238840312932), ('footwearShoes', 0.9483267996932598), ('footwearSneakers', 0.947407581453634), ('carryingLuggageCase', 0.9331472620946306), ('upperBodyThickStripes', 0.9279111010489773), ('upperBodyThinStripes', 0.9080321478415708), ('upperBodyLogo', 0.8934346126510305), ('upperBodyVNeck', 0.8844833539842782)]\n"
     ]
    }
   ],
   "source": [
    "diction_goo = sorted(diction_goo.items(), key=lambda item:item[1], reverse=True)\n",
    "print(diction_goo)"
   ]
  },
  {
   "cell_type": "code",
   "execution_count": 16,
   "metadata": {},
   "outputs": [
    {
     "name": "stdout",
     "output_type": "stream",
     "text": [
      "0.998421052631579\n",
      "0.9973684210526316\n",
      "0.973421052631579\n",
      "0.9702631578947368\n",
      "0.9871052631578947\n",
      "0.996578947368421\n",
      "0.9973684210526316\n",
      "0.973421052631579\n",
      "0.9973684210526316\n",
      "0.993421052631579\n",
      "0.9976315789473684\n",
      "0.9623684210526315\n",
      "0.9997368421052631\n",
      "0.9992105263157894\n",
      "0.9886842105263158\n",
      "0.9876315789473684\n",
      "0.9639473684210527\n",
      "0.9931578947368421\n",
      "0.9889473684210527\n",
      "0.9886842105263158\n",
      "0.9910526315789474\n",
      "0.9826315789473684\n",
      "0.9986842105263158\n",
      "0.9857894736842105\n",
      "0.9736842105263158\n",
      "0.9997368421052631\n",
      "0.966842105263158\n",
      "0.9926315789473684\n",
      "0.9686842105263158\n",
      "0.9973684210526316\n",
      "0.9815789473684211\n",
      "0.9994736842105263\n",
      "0.9997368421052631\n",
      "0.996578947368421\n",
      "0.9639473684210527\n",
      "0.9671052631578947\n",
      "0.9939473684210526\n",
      "0.9602631578947368\n",
      "0.9628947368421052\n",
      "0.9957894736842106\n",
      "0.9973684210526316\n",
      "0.9907894736842106\n",
      "0.9923684210526316\n",
      "0.9515789473684211\n",
      "0.9686842105263158\n",
      "0.9936842105263158\n",
      "0.9810526315789474\n",
      "0.9952631578947368\n",
      "0.9731578947368421\n",
      "0.9955263157894737\n",
      "0.9968421052631579\n",
      "0.9939473684210526\n",
      "0.9968421052631579\n",
      "0.9931578947368421\n",
      "0.985\n",
      "0.9963157894736843\n",
      "0.9981578947368421\n",
      "0.9621052631578947\n",
      "0.9855263157894737\n",
      "0.9610526315789474\n",
      "0.9989473684210526\n"
     ]
    }
   ],
   "source": [
    "for i in range(61):\n",
    "    print(accuracy_score(Y_test_[:, i], pred_goo[:, i]))"
   ]
  },
  {
   "cell_type": "markdown",
   "metadata": {},
   "source": [
    "# Group"
   ]
  },
  {
   "cell_type": "code",
   "execution_count": 30,
   "metadata": {},
   "outputs": [],
   "source": [
    "lbp_better = []\n",
    "hog_better = []\n",
    "goo_better = []\n",
    "for i in range(61):\n",
    "    att = attributes_list[i]\n",
    "    if diction_goo[att] - diction_hog[att] >= 0 and diction_goo[att] - diction_lbp[att] >= 0:\n",
    "        goo_better.append(att)\n",
    "    if diction_hog[att] - diction_goo[att] >= 0:\n",
    "        hog_better.append(att)\n",
    "    if diction_lbp[att] - diction_goo[att] >= 0:\n",
    "        lbp_better.append(att)"
   ]
  },
  {
   "cell_type": "code",
   "execution_count": 31,
   "metadata": {},
   "outputs": [
    {
     "name": "stdout",
     "output_type": "stream",
     "text": [
      "LBP better:\n",
      "['lowerBodyPlaid', 'lowerBodyThinStripes', 'carryingLuggageCase', 'upperBodyPlaid', 'upperBodyThinStripes', 'upperBodyThickStripes', 'upperBodyVNeck']\n",
      "HOG better:\n",
      "['lowerBodyPlaid', 'lowerBodyThinStripes', 'carryingLuggageCase', 'upperBodyPlaid', 'upperBodyThinStripes', 'upperBodyThickStripes', 'upperBodyVNeck']\n",
      "GoogLeNet better:\n",
      "['accessoryHeadphone', 'personalLess15', 'personalLess30', 'personalLess45', 'personalLess60', 'personalLarger60', 'carryingBabyBuggy', 'carryingBackpack', 'hairBald', 'footwearBoots', 'lowerBodyCapri', 'carryingOther', 'carryingShoppingTro', 'carryingUmbrella', 'lowerBodyCasual', 'upperBodyCasual', 'personalFemale', 'carryingFolder', 'lowerBodyFormal', 'upperBodyFormal', 'accessoryHairBand', 'accessoryHat', 'lowerBodyHotPants', 'upperBodyJacket', 'lowerBodyJeans', 'accessoryKerchief', 'footwearLeatherShoes', 'upperBodyLogo', 'hairLong', 'lowerBodyLongSkirt', 'upperBodyLongSleeve', 'lowerBodyPlaid', 'personalMale', 'carryingMessengerBag', 'accessoryMuffler', 'accessoryNothing', 'carryingNothing', 'upperBodyNoSleeve', 'carryingPlasticBags', 'footwearSandals', 'footwearShoes', 'hairShort', 'lowerBodyShorts', 'upperBodyShortSleeve', 'lowerBodyShortSkirt', 'footwearSneakers', 'footwearStocking', 'upperBodySuit', 'carryingSuitcase', 'lowerBodySuits', 'accessorySunglasses', 'upperBodySweater', 'lowerBodyTrousers', 'upperBodyTshirt', 'upperBodyOther']\n"
     ]
    }
   ],
   "source": [
    "print(\"LBP better:\")\n",
    "print(lbp_better)\n",
    "print(\"HOG better:\")\n",
    "print(hog_better)\n",
    "print(\"GoogLeNet better:\")\n",
    "print(goo_better)"
   ]
  },
  {
   "cell_type": "code",
   "execution_count": null,
   "metadata": {},
   "outputs": [],
   "source": []
  }
 ],
 "metadata": {
  "kernelspec": {
   "display_name": "Python 3",
   "language": "python",
   "name": "python3"
  },
  "language_info": {
   "codemirror_mode": {
    "name": "ipython",
    "version": 3
   },
   "file_extension": ".py",
   "mimetype": "text/x-python",
   "name": "python",
   "nbconvert_exporter": "python",
   "pygments_lexer": "ipython3",
   "version": "3.6.5"
  }
 },
 "nbformat": 4,
 "nbformat_minor": 2
}

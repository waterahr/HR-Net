{
 "cells": [
  {
   "cell_type": "code",
   "execution_count": 2,
   "metadata": {},
   "outputs": [
    {
     "name": "stdout",
     "output_type": "stream",
     "text": [
      "The shape of the X_test is:  (4001, 420, 210, 3)\n",
      "The shape of the y_test is:  (4001, 9)\n",
      "The shape of the y_test is:  (4001, 9)\n"
     ]
    }
   ],
   "source": [
    "from keras.preprocessing import image\n",
    "import numpy as np\n",
    "import pandas as pd\n",
    "from sklearn.metrics import accuracy_score, roc_curve, recall_score, auc, roc_auc_score\n",
    "\n",
    "low_level = [1]\n",
    "mid_level = [2,3,4,5,6,7,8]\n",
    "high_level = [0]\n",
    "filename = r\"../results/berk-test.csv\"\n",
    "data = np.array(pd.read_csv(filename))[:, 1:]\n",
    "length = len(data)\n",
    "data_x = np.zeros((length, 420, 210, 3))\n",
    "data_y = np.zeros((length, 9))\n",
    "for i in range(length):\n",
    "    #img = image.load_img(path + m)\n",
    "    img = image.load_img(data[i, 0], target_size=(420, 210, 3))\n",
    "    data_x[i] = image.img_to_array(img)\n",
    "    data_y[i] = np.array(data[i, 1:10], dtype=\"float32\")\n",
    "data_y_hiar = data_y[:, list(np.hstack((low_level, mid_level, high_level)))]\n",
    "X_test = data_x\n",
    "y_test = data_y\n",
    "y_test_hiar = data_y_hiar\n",
    "print(\"The shape of the X_test is: \", X_test.shape)\n",
    "print(\"The shape of the y_test is: \", y_test.shape)\n",
    "print(\"The shape of the y_test is: \", y_test_hiar.shape)"
   ]
  },
  {
   "cell_type": "code",
   "execution_count": null,
   "metadata": {},
   "outputs": [],
   "source": [
    "!ls ../results"
   ]
  },
  {
   "cell_type": "code",
   "execution_count": null,
   "metadata": {},
   "outputs": [],
   "source": [
    "attributes_list = ['is_male', 'has_long_hair', 'has_glasses', 'has_hat', 'has_t-shirt', 'has_long_sleeves', 'has_shorts', 'has_jeans', 'has_long_pants']\n",
    "predictions_prob = np.load(\"../results/predictions/GoogLeNet_binary9\")\n",
    "predictions = np.array(predictions_prob >= 0.5, dtype=\"float64\")\n",
    "label = y_test\n",
    "\n",
    "print(predictions)\n",
    "print(label)\n",
    "\n",
    "for i in range(label.shape[1]):\n",
    "    print(attributes_list[i], end=\":\")\n",
    "    print(accuracy_score(predictions[:, i], label[:, i]))"
   ]
  },
  {
   "cell_type": "code",
   "execution_count": null,
   "metadata": {},
   "outputs": [],
   "source": [
    "attributes_list_hiar = list(np.array(attributes_list)[list(np.hstack((low_level, mid_level, high_level)))])\n",
    "predictions_prob = np.load(\"../results/predictions/hiarBayesGoogLeNet_binary9\")\n",
    "predictions = np.array(predictions_prob >= 0.5, dtype=\"float64\")\n",
    "label = y_test_hiar\n",
    "\n",
    "print(predictions)\n",
    "print(label)\n",
    "\n",
    "for i in range(label.shape[1]):\n",
    "    print(attributes_list_hiar[i], end=\":\")\n",
    "    print(accuracy_score(predictions[:, i], label[:, i]))"
   ]
  }
 ],
 "metadata": {
  "kernelspec": {
   "display_name": "Python 3",
   "language": "python",
   "name": "python3"
  },
  "language_info": {
   "codemirror_mode": {
    "name": "ipython",
    "version": 3
   },
   "file_extension": ".py",
   "mimetype": "text/x-python",
   "name": "python",
   "nbconvert_exporter": "python",
   "pygments_lexer": "ipython3",
   "version": "3.6.5"
  }
 },
 "nbformat": 4,
 "nbformat_minor": 2
}

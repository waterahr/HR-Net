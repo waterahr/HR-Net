{
 "cells": [
  {
   "cell_type": "code",
   "execution_count": null,
   "metadata": {},
   "outputs": [],
   "source": [
    "!ls ../results"
   ]
  },
  {
   "cell_type": "code",
   "execution_count": null,
   "metadata": {},
   "outputs": [],
   "source": [
    "import pickle\n",
    "\n",
    "fdata = open(\"../results/\", 'rb')\n",
    "features_dict = pickle.load(fdata)\n",
    "fdata.close()\n",
    "features_all = features_dict['features_all']\n",
    "labels_all = features_dict['labels_all']\n",
    "\n",
    "print(\"The shape of features_all is : \", features_all.shape)\n",
    "print(\"The shape of labels_all is : \", np.shape(labels_all))"
   ]
  },
  {
   "cell_type": "code",
   "execution_count": null,
   "metadata": {},
   "outputs": [],
   "source": [
    "from sklearn.decomposition import PCA\n",
    "\n",
    "pca = PCA(n_components=2)\n",
    "features_all_pca = pca.fit_transform(features_all)\n",
    "print(\"The shape of features_all_pca is : \", features_all_pca.shape)"
   ]
  },
  {
   "cell_type": "markdown",
   "metadata": {},
   "source": [
    "# Visualization the coarse classification - feature angular"
   ]
  },
  {
   "cell_type": "code",
   "execution_count": null,
   "metadata": {},
   "outputs": [],
   "source": [
    "import matplotlib.pyplot as plt\n",
    "%matplotli inline\n",
    "\n",
    "fig = plt.figure()\n",
    "fig.plot(features_all_pca[:, 0], features_all_pca[:, 1], color = 'red', marker = 'o')\n",
    "plt.show()\n",
    "#fig.savefig(\"../results/visulization_features_coarse\", dpi=250)"
   ]
  },
  {
   "cell_type": "code",
   "execution_count": null,
   "metadata": {},
   "outputs": [],
   "source": []
  }
 ],
 "metadata": {
  "kernelspec": {
   "display_name": "Python 3",
   "language": "python",
   "name": "python3"
  },
  "language_info": {
   "codemirror_mode": {
    "name": "ipython",
    "version": 3
   },
   "file_extension": ".py",
   "mimetype": "text/x-python",
   "name": "python",
   "nbconvert_exporter": "python",
   "pygments_lexer": "ipython3",
   "version": "3.6.5"
  }
 },
 "nbformat": 4,
 "nbformat_minor": 2
}

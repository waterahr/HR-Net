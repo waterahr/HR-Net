{
 "cells": [
  {
   "cell_type": "code",
   "execution_count": 1,
   "metadata": {},
   "outputs": [
    {
     "name": "stdout",
     "output_type": "stream",
     "text": [
      "1.jpg\r\n",
      "berk.csv\r\n",
      "berk-test.csv\r\n",
      "GoogLeNet_binary61_feature_imagenet_all.npy\r\n",
      "GoogLeNet_binary61_feature_imagenet_test7600.npy\r\n",
      "googlenet_weights.npy\r\n",
      "logs\r\n",
      "metrics\r\n",
      "models\r\n",
      "OEDCWPAL_PETA_features_all.pickle\r\n",
      "PETA_coarse_to_fine_labels_pd.csv\r\n",
      "PETA.csv\r\n",
      "PETA_labels_pd.csv\r\n",
      "PETA_lowerBody_labels_pd.csv\r\n",
      "PETA_ratio_positive_samples_for_attributes.json\r\n",
      "predictions\r\n",
      "RAP_labels_pd.csv\r\n",
      "RAP_partion.npy\r\n",
      "RAP_partion.txt\r\n",
      "relation_array.npy\r\n",
      "samples\r\n",
      "state_transition_matrix.npy\r\n"
     ]
    }
   ],
   "source": [
    "import numpy as np\n",
    "import pandas as pd\n",
    "from sklearn.metrics import accuracy_score, roc_curve, recall_score, auc, roc_auc_score\n",
    "\n",
    "!ls ../results"
   ]
  },
  {
   "cell_type": "code",
   "execution_count": 2,
   "metadata": {},
   "outputs": [
    {
     "name": "stdout",
     "output_type": "stream",
     "text": [
      "The total attributes labeled:  65\n",
      "['accessoryHeadphone', 'personalLess15', 'personalLess30', 'personalLess45', 'personalLess60', 'personalLarger60', 'carryingBabyBuggy', 'carryingBackpack', 'hairBald', 'footwearBoots', 'lowerBodyCapri', 'carryingOther', 'carryingShoppingTro', 'carryingUmbrella', 'lowerBodyCasual', 'upperBodyCasual', 'personalFemale', 'carryingFolder', 'lowerBodyFormal', 'upperBodyFormal', 'accessoryHairBand', 'accessoryHat', 'lowerBodyHotPants', 'upperBodyJacket', 'lowerBodyJeans', 'accessoryKerchief', 'footwearLeatherShoes', 'upperBodyLogo', 'hairLong', 'lowerBodyLongSkirt', 'upperBodyLongSleeve', 'lowerBodyPlaid', 'lowerBodyThinStripes', 'carryingLuggageCase', 'personalMale', 'carryingMessengerBag', 'accessoryMuffler', 'accessoryNothing', 'carryingNothing', 'upperBodyNoSleeve', 'upperBodyPlaid', 'carryingPlasticBags', 'footwearSandals', 'footwearShoes', 'hairShort', 'lowerBodyShorts', 'upperBodyShortSleeve', 'lowerBodyShortSkirt', 'footwearSneakers', 'footwearStocking', 'upperBodyThinStripes', 'upperBodySuit', 'carryingSuitcase', 'lowerBodySuits', 'accessorySunglasses', 'upperBodySweater', 'upperBodyThickStripes', 'lowerBodyTrousers', 'upperBodyTshirt', 'upperBodyOther', 'upperBodyVNeck', 'footwear', 'hair', 'lowerbody', 'upperbody']\n"
     ]
    }
   ],
   "source": [
    "labels_list_file = r\"/home/anhaoran/data/pedestrian_attributes_PETA/PETA/labels.txt\" \n",
    "labels_list_data = open(labels_list_file)\n",
    "lines = labels_list_data.readlines()\n",
    "attributes_list = []\n",
    "for line in lines:\n",
    "    data = line.split()\n",
    "    #print(attr)\n",
    "    attributes_list.append(data[1])\n",
    "print(\"The total attributes labeled: \", len(attributes_list))\n",
    "print(attributes_list)"
   ]
  },
  {
   "cell_type": "code",
   "execution_count": 3,
   "metadata": {},
   "outputs": [
    {
     "name": "stdout",
     "output_type": "stream",
     "text": [
      "The total attributes labeled:  61\n",
      "['upperBodyLogo', 'lowerBodyPlaid', 'lowerBodyThinStripes', 'upperBodyPlaid', 'upperBodyThinStripes', 'upperBodyThickStripes', 'upperBodyVNeck', 'accessoryHeadphone', 'carryingBabyBuggy', 'carryingBackpack', 'hairBald', 'footwearBoots', 'carryingOther', 'carryingShoppingTro', 'carryingUmbrella', 'carryingFolder', 'accessoryHairBand', 'accessoryHat', 'lowerBodyHotPants', 'upperBodyJacket', 'lowerBodyJeans', 'accessoryKerchief', 'footwearLeatherShoes', 'hairLong', 'lowerBodyLongSkirt', 'upperBodyLongSleeve', 'carryingLuggageCase', 'carryingMessengerBag', 'accessoryMuffler', 'accessoryNothing', 'carryingNothing', 'upperBodyNoSleeve', 'carryingPlasticBags', 'footwearSandals', 'footwearShoes', 'hairShort', 'lowerBodyShorts', 'upperBodyShortSleeve', 'lowerBodyShortSkirt', 'footwearSneakers', 'footwearStocking', 'upperBodySuit', 'carryingSuitcase', 'lowerBodySuits', 'accessorySunglasses', 'upperBodySweater', 'lowerBodyTrousers', 'upperBodyTshirt', 'upperBodyOther', 'personalLess15', 'personalLess30', 'personalLess45', 'personalLess60', 'personalLarger60', 'lowerBodyCapri', 'lowerBodyCasual', 'upperBodyCasual', 'personalFemale', 'lowerBodyFormal', 'upperBodyFormal', 'personalMale']\n"
     ]
    }
   ],
   "source": [
    "low_level = [27, 31, 32, 40, 50, 56, 60]#, 61, 62, 63, 64\n",
    "mid_level = [0, 6, 7, 8, 9, 11, 12, 13, 17, 20, 21, 22, 23, 24, 25, 26, 28, 29, 30, 33, 35, 36, 37, 38, 39, 41, 42, 43, 44, 45, 46, 47, 48, 49, 51, 52, 53, 54, 55, 57, 58, 59]\n",
    "high_level = [1, 2, 3, 4, 5, 10, 14, 15, 16, 18, 19, 34]\n",
    "attributes_list_hiar = list(np.array(attributes_list)[list(np.hstack((low_level, mid_level, high_level)))])\n",
    "print(\"The total attributes labeled: \", len(attributes_list_hiar))\n",
    "print(attributes_list_hiar)\n",
    "data_dict = {\"attributes\": attributes_list_hiar}"
   ]
  },
  {
   "cell_type": "code",
   "execution_count": 6,
   "metadata": {},
   "outputs": [
    {
     "name": "stdout",
     "output_type": "stream",
     "text": [
      "The shape of the X_test is:  (7600,)\n",
      "The shape of the y_test is:  (7600, 61)\n",
      "The shape of the y_test is:  (7600, 61)\n"
     ]
    }
   ],
   "source": [
    "filename = r\"../results/PETA.csv\"\n",
    "data = np.array(pd.read_csv(filename))[:, 1:]\n",
    "length = len(data)\n",
    "data_x = []\n",
    "data_y = np.zeros((length, 61))\n",
    "for i in range(length):\n",
    "    data_x.append(data[i, 0])\n",
    "    data_y[i] = np.array(data[i, 1:1+61], dtype=\"float32\")\n",
    "data_y_hiar = data_y[:, list(np.hstack((low_level, mid_level, high_level)))]\n",
    "X_test = np.array(data_x[11400:])\n",
    "y_test = data_y[11400:]\n",
    "y_test_hiar = data_y_hiar[11400:]\n",
    "print(\"The shape of the X_test is: \", X_test.shape)\n",
    "print(\"The shape of the y_test is: \", y_test.shape)\n",
    "print(\"The shape of the y_test is: \", y_test_hiar.shape)\n",
    "\n",
    "predictions_prob = np.load(\"../results/predictions/hiarBayesGoogLeNet_binary61_multi_500_predictions_imagenet_test7600.npy\")\n",
    "predictions = np.array(predictions_prob >= 0.5, dtype=\"float64\")"
   ]
  },
  {
   "cell_type": "code",
   "execution_count": 21,
   "metadata": {},
   "outputs": [
    {
     "name": "stdout",
     "output_type": "stream",
     "text": [
      "/home/anhaoran/data/pedestrian_attributes_PETA/PETA/VIPeR/archive/833_0_1.bmp\n",
      "/home/anhaoran/data/pedestrian_attributes_PETA/PETA/TownCentre/archive/28_493.jpg\n",
      "/home/anhaoran/data/pedestrian_attributes_PETA/PETA/TownCentre/archive/168_3365.jpg\n",
      "/home/anhaoran/data/pedestrian_attributes_PETA/PETA/VIPeR/archive/322_135_2.bmp\n",
      "/home/anhaoran/data/pedestrian_attributes_PETA/PETA/VIPeR/archive/212_0_1.bmp\n",
      "/home/anhaoran/data/pedestrian_attributes_PETA/PETA/TownCentre/archive/185_3804.jpg\n",
      "/home/anhaoran/data/pedestrian_attributes_PETA/PETA/TownCentre/archive/201_4351.jpg\n",
      "/home/anhaoran/data/pedestrian_attributes_PETA/PETA/PRID/archive/1263_b.png\n",
      "/home/anhaoran/data/pedestrian_attributes_PETA/PETA/TownCentre/archive/63_1204.jpg\n",
      "/home/anhaoran/data/pedestrian_attributes_PETA/PETA/PRID/archive/0019_b.png\n",
      "/home/anhaoran/data/pedestrian_attributes_PETA/PETA/VIPeR/archive/208_0_1.bmp\n",
      "/home/anhaoran/data/pedestrian_attributes_PETA/PETA/PRID/archive/0159_a.png\n",
      "/home/anhaoran/data/pedestrian_attributes_PETA/PETA/TownCentre/archive/166_3243.jpg\n",
      "/home/anhaoran/data/pedestrian_attributes_PETA/PETA/PRID/archive/0052_a.png\n",
      "/home/anhaoran/data/pedestrian_attributes_PETA/PETA/TownCentre/archive/32_420.jpg\n",
      "/home/anhaoran/data/pedestrian_attributes_PETA/PETA/PRID/archive/0365_a.png\n",
      "/home/anhaoran/data/pedestrian_attributes_PETA/PETA/TownCentre/archive/144_2877.jpg\n",
      "/home/anhaoran/data/pedestrian_attributes_PETA/PETA/PRID/archive/0142_b.png\n"
     ]
    }
   ],
   "source": [
    "for i in range(7600):\n",
    "    if sum(predictions[i, [7,6,23,18]])>=2:\n",
    "        print(data_x[i])"
   ]
  },
  {
   "cell_type": "code",
   "execution_count": 32,
   "metadata": {},
   "outputs": [
    {
     "name": "stdout",
     "output_type": "stream",
     "text": [
      "/home/anhaoran/data/pedestrian_attributes_PETA/PETA/TownCentre/archive/207_4012.jpg\n",
      "/home/anhaoran/data/pedestrian_attributes_PETA/PETA/PRID/archive/0309_a.png\n",
      "/home/anhaoran/data/pedestrian_attributes_PETA/PETA/TownCentre/archive/43_677.jpg\n",
      "/home/anhaoran/data/pedestrian_attributes_PETA/PETA/TownCentre/archive/219_4218.jpg\n",
      "/home/anhaoran/data/pedestrian_attributes_PETA/PETA/PRID/archive/0352_a.png\n",
      "/home/anhaoran/data/pedestrian_attributes_PETA/PETA/PRID/archive/1259_b.png\n",
      "/home/anhaoran/data/pedestrian_attributes_PETA/PETA/TownCentre/archive/161_3390.jpg\n",
      "/home/anhaoran/data/pedestrian_attributes_PETA/PETA/TownCentre/archive/201_4351.jpg\n",
      "/home/anhaoran/data/pedestrian_attributes_PETA/PETA/TownCentre/archive/118_2068.jpg\n",
      "/home/anhaoran/data/pedestrian_attributes_PETA/PETA/PRID/archive/0043_a.png\n",
      "/home/anhaoran/data/pedestrian_attributes_PETA/PETA/PRID/archive/0241_a.png\n",
      "/home/anhaoran/data/pedestrian_attributes_PETA/PETA/TownCentre/archive/185_3750.jpg\n",
      "/home/anhaoran/data/pedestrian_attributes_PETA/PETA/PRID/archive/0546_b.png\n",
      "/home/anhaoran/data/pedestrian_attributes_PETA/PETA/PRID/archive/0410_b.png\n",
      "/home/anhaoran/data/pedestrian_attributes_PETA/PETA/PRID/archive/0452_b.png\n",
      "/home/anhaoran/data/pedestrian_attributes_PETA/PETA/PRID/archive/0186_b.png\n",
      "/home/anhaoran/data/pedestrian_attributes_PETA/PETA/PRID/archive/0057_a.png\n",
      "/home/anhaoran/data/pedestrian_attributes_PETA/PETA/PRID/archive/0192_b.png\n",
      "/home/anhaoran/data/pedestrian_attributes_PETA/PETA/TownCentre/archive/95_1617.jpg\n",
      "/home/anhaoran/data/pedestrian_attributes_PETA/PETA/VIPeR/archive/522_0_1.bmp\n",
      "/home/anhaoran/data/pedestrian_attributes_PETA/PETA/CUHK/archive/2980.png\n",
      "/home/anhaoran/data/pedestrian_attributes_PETA/PETA/PRID/archive/0473_b.png\n",
      "/home/anhaoran/data/pedestrian_attributes_PETA/PETA/PRID/archive/0076_a.png\n",
      "/home/anhaoran/data/pedestrian_attributes_PETA/PETA/PRID/archive/0514_b.png\n",
      "/home/anhaoran/data/pedestrian_attributes_PETA/PETA/PRID/archive/1340_b.png\n",
      "/home/anhaoran/data/pedestrian_attributes_PETA/PETA/TownCentre/archive/208_4034.jpg\n",
      "/home/anhaoran/data/pedestrian_attributes_PETA/PETA/PRID/archive/0354_a.png\n",
      "/home/anhaoran/data/pedestrian_attributes_PETA/PETA/PRID/archive/0724_b.png\n",
      "/home/anhaoran/data/pedestrian_attributes_PETA/PETA/TownCentre/archive/57_1065.jpg\n",
      "/home/anhaoran/data/pedestrian_attributes_PETA/PETA/PRID/archive/0342_a.png\n",
      "/home/anhaoran/data/pedestrian_attributes_PETA/PETA/TownCentre/archive/131_2495.jpg\n"
     ]
    }
   ],
   "source": [
    "for i in range(7600):\n",
    "    if predictions[i, 46]==1:\n",
    "        print(data_x[i])"
   ]
  },
  {
   "cell_type": "code",
   "execution_count": null,
   "metadata": {},
   "outputs": [],
   "source": []
  }
 ],
 "metadata": {
  "kernelspec": {
   "display_name": "Python 3",
   "language": "python",
   "name": "python3"
  },
  "language_info": {
   "codemirror_mode": {
    "name": "ipython",
    "version": 3
   },
   "file_extension": ".py",
   "mimetype": "text/x-python",
   "name": "python",
   "nbconvert_exporter": "python",
   "pygments_lexer": "ipython3",
   "version": "3.6.5"
  }
 },
 "nbformat": 4,
 "nbformat_minor": 2
}

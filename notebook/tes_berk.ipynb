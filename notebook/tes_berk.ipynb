{
 "cells": [
  {
   "cell_type": "code",
   "execution_count": 2,
   "metadata": {},
   "outputs": [
    {
     "name": "stdout",
     "output_type": "stream",
     "text": [
      "The shape of the X_test is:  (4001, 420, 210, 3)\n",
      "The shape of the y_test is:  (4001, 9)\n",
      "The shape of the y_test is:  (4001, 9)\n"
     ]
    }
   ],
   "source": [
    "from keras.preprocessing import image\n",
    "import numpy as np\n",
    "import pandas as pd\n",
    "from sklearn.metrics import accuracy_score, roc_curve, recall_score, auc, roc_auc_score\n",
    "\n",
    "low_level = [1]\n",
    "mid_level = [2,3,4,5,6,7,8]\n",
    "high_level = [0]\n",
    "filename = r\"../results/berk-test.csv\"\n",
    "data = np.array(pd.read_csv(filename))[:, 1:]\n",
    "length = len(data)\n",
    "data_x = np.zeros((length, 420, 210, 3))\n",
    "data_y = np.zeros((length, 9))\n",
    "for i in range(length):\n",
    "    #img = image.load_img(path + m)\n",
    "    img = image.load_img(data[i, 0], target_size=(420, 210, 3))\n",
    "    data_x[i] = image.img_to_array(img)\n",
    "    data_y[i] = np.array(data[i, 1:10], dtype=\"float32\")\n",
    "data_y_hiar = data_y[:, list(np.hstack((low_level, mid_level, high_level)))]\n",
    "X_test = data_x\n",
    "y_test = data_y\n",
    "y_test_hiar = data_y_hiar\n",
    "print(\"The shape of the X_test is: \", X_test.shape)\n",
    "print(\"The shape of the y_test is: \", y_test.shape)\n",
    "print(\"The shape of the y_test is: \", y_test_hiar.shape)"
   ]
  },
  {
   "cell_type": "code",
   "execution_count": 3,
   "metadata": {},
   "outputs": [
    {
     "name": "stdout",
     "output_type": "stream",
     "text": [
      "1.jpg\r\n",
      "berk.csv\r\n",
      "berk-test.csv\r\n",
      "GoogLeNet_binary61_feature_imagenet_all.npy\r\n",
      "GoogLeNet_binary61_feature_imagenet_test7600.npy\r\n",
      "googlenet_weights.npy\r\n",
      "logs\r\n",
      "metrics\r\n",
      "models\r\n",
      "OEDCWPAL_PETA_features_all.pickle\r\n",
      "PETA_coarse_to_fine_labels_pd.csv\r\n",
      "PETA.csv\r\n",
      "PETA_labels_pd.csv\r\n",
      "PETA_lowerBody_labels_pd.csv\r\n",
      "PETA_ratio_positive_samples_for_attributes.json\r\n",
      "predictions\r\n",
      "relation_array.npy\r\n",
      "samples\r\n",
      "state_transition_matrix.npy\r\n"
     ]
    }
   ],
   "source": [
    "!ls ../results"
   ]
  },
  {
   "cell_type": "code",
   "execution_count": 4,
   "metadata": {},
   "outputs": [
    {
     "name": "stdout",
     "output_type": "stream",
     "text": [
      "[[0. 0. 0. ... 0. 0. 0.]\n",
      " [0. 0. 0. ... 0. 0. 0.]\n",
      " [0. 0. 0. ... 0. 0. 0.]\n",
      " ...\n",
      " [0. 0. 0. ... 0. 0. 1.]\n",
      " [0. 0. 0. ... 0. 0. 0.]\n",
      " [0. 0. 0. ... 0. 0. 0.]]\n",
      "[[0. 0. 0. ... 0. 0. 0.]\n",
      " [1. 0. 0. ... 0. 0. 1.]\n",
      " [0. 0. 0. ... 0. 0. 0.]\n",
      " ...\n",
      " [0. 0. 0. ... 0. 1. 1.]\n",
      " [1. 0. 1. ... 0. 0. 1.]\n",
      " [0. 0. 0. ... 0. 1. 1.]]\n",
      "is_male:0.5851037240689827\n",
      "has_long_hair:0.8145463634091478\n",
      "has_glasses:0.8572856785803549\n",
      "has_hat:0.8647838040489878\n",
      "has_t-shirt:0.8742814296425894\n",
      "has_long_sleeves:0.6328417895526118\n",
      "has_shorts:0.9465133716570857\n",
      "has_jeans:0.9077730567358161\n",
      "has_long_pants:0.7313171707073232\n"
     ]
    }
   ],
   "source": [
    "attributes_list = ['is_male', 'has_long_hair', 'has_glasses', 'has_hat', 'has_t-shirt', 'has_long_sleeves', 'has_shorts', 'has_jeans', 'has_long_pants']\n",
    "predictions_prob = np.load(\"../results/predictions/GoogLeNet_binary9-depth9_predictions_imagenet_berk.npy\")\n",
    "predictions = np.array(predictions_prob >= 0.5, dtype=\"float64\")\n",
    "label = y_test\n",
    "\n",
    "print(predictions)\n",
    "print(label)\n",
    "\n",
    "for i in range(label.shape[1]):\n",
    "    print(attributes_list[i], end=\":\")\n",
    "    print(accuracy_score(predictions[:, i], label[:, i]))"
   ]
  },
  {
   "cell_type": "code",
   "execution_count": 7,
   "metadata": {},
   "outputs": [
    {
     "name": "stdout",
     "output_type": "stream",
     "text": [
      "[[0. 0. 0. ... 0. 0. 0.]\n",
      " [0. 0. 1. ... 0. 0. 1.]\n",
      " [0. 0. 0. ... 0. 0. 0.]\n",
      " ...\n",
      " [0. 0. 0. ... 0. 0. 0.]\n",
      " [0. 1. 0. ... 0. 1. 1.]\n",
      " [1. 0. 0. ... 0. 0. 0.]]\n",
      "[[0. 0. 0. ... 0. 0. 0.]\n",
      " [0. 0. 0. ... 0. 1. 1.]\n",
      " [0. 0. 0. ... 0. 0. 0.]\n",
      " ...\n",
      " [0. 0. 0. ... 1. 1. 0.]\n",
      " [0. 1. 0. ... 0. 1. 1.]\n",
      " [0. 0. 0. ... 1. 1. 0.]]\n",
      "has_long_hair:0.7595601099725069\n",
      "has_glasses:0.786303424143964\n",
      "has_hat:0.8675331167208198\n",
      "has_t-shirt:0.849787553111722\n",
      "has_long_sleeves:0.6778305423644089\n",
      "has_shorts:0.9432641839540115\n",
      "has_jeans:0.8960259935016246\n",
      "has_long_pants:0.7488127968007998\n",
      "is_male:0.6003499125218695\n"
     ]
    }
   ],
   "source": [
    "attributes_list_hiar = list(np.array(attributes_list)[list(np.hstack((low_level, mid_level, high_level)))])\n",
    "predictions_prob = np.load(\"../results/predictions/hiarBayesGoogLeNet_binary9_predictions500_imagenet_berk.npy\")\n",
    "predictions = np.array(predictions_prob >= 0.5, dtype=\"float64\")\n",
    "label = y_test_hiar\n",
    "610\n",
    "print(predictions)\n",
    "print(label)\n",
    "\n",
    "for i in range(label.shape[1]):\n",
    "    print(attributes_list_hiar[i], end=\":\")\n",
    "    print(accuracy_score(predictions[:, i], label[:, i]))"
   ]
  },
  {
   "cell_type": "code",
   "execution_count": null,
   "metadata": {},
   "outputs": [],
   "source": []
  }
 ],
 "metadata": {
  "kernelspec": {
   "display_name": "Python 3",
   "language": "python",
   "name": "python3"
  },
  "language_info": {
   "codemirror_mode": {
    "name": "ipython",
    "version": 3
   },
   "file_extension": ".py",
   "mimetype": "text/x-python",
   "name": "python",
   "nbconvert_exporter": "python",
   "pygments_lexer": "ipython3",
   "version": "3.6.5"
  }
 },
 "nbformat": 4,
 "nbformat_minor": 2
}

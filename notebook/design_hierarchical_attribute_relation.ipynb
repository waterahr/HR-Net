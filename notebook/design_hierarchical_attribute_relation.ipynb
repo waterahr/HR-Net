{
 "cells": [
  {
   "cell_type": "code",
   "execution_count": 1,
   "metadata": {},
   "outputs": [
    {
     "name": "stdout",
     "output_type": "stream",
     "text": [
      "The total attributes labeled:  61\n",
      "['upperBodyLogo', 'lowerBodyThinStripes', 'upperBodyThinStripes', 'upperBodyThickStripes', 'accessoryHeadphone', 'carryingBabyBuggy', 'carryingBackpack', 'hairBald', 'footwearBoots', 'carryingOther', 'carryingShoppingTro', 'carryingUmbrella', 'carryingFolder', 'accessoryHairBand', 'accessoryHat', 'lowerBodyHotPants', 'upperBodyJacket', 'lowerBodyJeans', 'accessoryKerchief', 'footwearLeatherShoes', 'hairLong', 'lowerBodyLongSkirt', 'upperBodyLongSleeve', 'carryingLuggageCase', 'carryingMessengerBag', 'accessoryMuffler', 'accessoryNothing', 'carryingNothing', 'upperBodyNoSleeve', 'carryingPlasticBags', 'footwearSandals', 'footwearShoes', 'hairShort', 'lowerBodyShorts', 'upperBodyShortSleeve', 'lowerBodyShortSkirt', 'footwearSneakers', 'footwearStocking', 'upperBodySuit', 'carryingSuitcase', 'lowerBodySuits', 'accessorySunglasses', 'upperBodySweater', 'lowerBodyTrousers', 'upperBodyTshirt', 'upperBodyOther', 'upperBodyVNeck', 'personalLess15', 'personalLess30', 'personalLess45', 'personalLess60', 'personalLarger60', 'lowerBodyCapri', 'lowerBodyCasual', 'upperBodyCasual', 'personalFemale', 'lowerBodyFormal', 'upperBodyFormal', 'lowerBodyPlaid', 'personalMale', 'upperBodyPlaid']\n"
     ]
    }
   ],
   "source": [
    "import pandas as pd\n",
    "import numpy as np\n",
    "import os\n",
    "os.environ['CUDA_VISIBLE_DEVICES'] = \"\"\n",
    "\n",
    "all_data = pd.read_csv(\"../results/PETA_labels_pd.csv\")\n",
    "#all_data = all_data.set_index('0')\n",
    "all_data\n",
    "\n",
    "labels_list_file = r\"/home/anhaoran/data/pedestrian_attributes_PETA/PETA/labels.txt\" \n",
    "labels_list_data = open(labels_list_file)\n",
    "lines = labels_list_data.readlines()\n",
    "attributes_list = []\n",
    "for line in lines:\n",
    "    data = line.split()\n",
    "    #print(attr)\n",
    "    attributes_list.append(data[1])\n",
    "low_level = [27, 32, 50, 56]\n",
    "mid_level = [0, 6, 7, 8, 9, 11, 12, 13, 17, 20, 21, 22, 23, 24, 25, 26, 28, 29, 30, 33, 35, 36, 37, 38, 39, 41, 42, 43, 44, 45, 46, 47, 48, 49, 51, 52, 53, 54, 55, 57, 58, 59, 60]\n",
    "high_level = [1, 2, 3, 4, 5, 10, 14, 15, 16, 18, 19, 31, 34, 40]\n",
    "attributes_list = list(np.array(attributes_list)[list(np.hstack((low_level, mid_level, high_level)))])\n",
    "print(\"The total attributes labeled: \", len(attributes_list))\n",
    "print(attributes_list)"
   ]
  },
  {
   "cell_type": "code",
   "execution_count": 2,
   "metadata": {},
   "outputs": [],
   "source": [
    "relation_dict = {'personalLess15': [], \n",
    "                 'personalLess30': ['lowerBodyHotPants'], \n",
    "                 'personalLess45': [], \n",
    "                 'personalLess60': [], \n",
    "                 'personalLarger60': ['hairBald'], \n",
    "                 'lowerBodyCapri': [], \n",
    "                 'lowerBodyCasual': ['lowerBodyThinStripes', 'lowerBodyHotPants', 'lowerBodyJeans', 'lowerBodyShortSkirt'], \n",
    "                 'upperBodyCasual': ['upperBodyLogo', 'upperBodyThinStripes', 'upperBodyThickStripes', 'upperBodyJacket', 'upperBodyNoSleeve', 'upperBodyTshirt'], \n",
    "                 'personalFemale': ['footwearBoots', 'hairLong', 'lowerBodyLongSkirt', 'lowerBodyShortSkirt', 'footwearStocking'], \n",
    "                 'lowerBodyFormal': ['footwearLeatherShoes', 'lowerBodySuits'], \n",
    "                 'upperBodyFormal': ['footwearLeatherShoes', 'upperBodySuit'], \n",
    "                 'lowerBodyPlaid': [], \n",
    "                 'personalMale': ['hairBald'], \n",
    "                 'upperBodyPlaid': []}"
   ]
  },
  {
   "cell_type": "code",
   "execution_count": 3,
   "metadata": {},
   "outputs": [],
   "source": [
    "relation_array = np.zeros((61, 61))\n",
    "for key, items in relation_dict.items():\n",
    "    idx = attributes_list.index(key)\n",
    "    for item in items:\n",
    "        idy = attributes_list.index(item)\n",
    "        relation_array[idx][idy] = 1"
   ]
  },
  {
   "cell_type": "code",
   "execution_count": 4,
   "metadata": {},
   "outputs": [
    {
     "name": "stdout",
     "output_type": "stream",
     "text": [
      "22.0\n"
     ]
    }
   ],
   "source": [
    "print(relation_array.sum())"
   ]
  },
  {
   "cell_type": "code",
   "execution_count": 5,
   "metadata": {},
   "outputs": [],
   "source": [
    "np.save(\"../results/relation_array.npy\", relation_array)"
   ]
  },
  {
   "cell_type": "markdown",
   "metadata": {},
   "source": [
    "# state_transition_matrix.npy"
   ]
  },
  {
   "cell_type": "code",
   "execution_count": 16,
   "metadata": {},
   "outputs": [],
   "source": [
    "state_transition_matrix = np.zeros((47, 14), dtype=\"float64\") + 0.001"
   ]
  },
  {
   "cell_type": "code",
   "execution_count": 17,
   "metadata": {},
   "outputs": [
    {
     "name": "stdout",
     "output_type": "stream",
     "text": [
      "upperBodyLogo + upperBodyCasual\n",
      "lowerBodyThinStripes + lowerBodyCasual\n",
      "lowerBodyThinStripes + lowerBodyPlaid\n",
      "upperBodyThinStripes + upperBodyCasual\n",
      "upperBodyThinStripes + upperBodyPlaid\n",
      "upperBodyThickStripes + upperBodyPlaid\n",
      "upperBodyThickStripes + upperBodyCasual\n",
      "hairBald + personalMale\n",
      "footwearBoots + personalFemale\n",
      "accessoryHairBand + personalFemale\n",
      "accessoryHat + lowerBodyCasual\n",
      "accessoryHat + upperBodyCasual\n",
      "lowerBodyHotPants + lowerBodyCasual\n",
      "upperBodyJacket + upperBodyCasual\n",
      "lowerBodyJeans + lowerBodyCasual\n",
      "accessoryKerchief + personalFemale\n",
      "footwearLeatherShoes + upperBodyFormal\n",
      "footwearLeatherShoes + lowerBodyFormal\n",
      "hairLong + personalFemale\n",
      "lowerBodyLongSkirt + personalFemale\n",
      "upperBodyLongSleeve + upperBodyFormal\n",
      "upperBodyNoSleeve + upperBodyCasual\n",
      "footwearSandals + lowerBodyCasual\n",
      "footwearSandals + upperBodyCasual\n",
      "hairShort + personalMale\n",
      "lowerBodyShorts + lowerBodyCasual\n",
      "lowerBodyShortSkirt + lowerBodyCasual\n",
      "lowerBodyShortSkirt + personalFemale\n",
      "footwearSneakers + lowerBodyCasual\n",
      "footwearSneakers + upperBodyCasual\n",
      "upperBodySuit + upperBodyFormal\n",
      "lowerBodySuits + lowerBodyFormal\n",
      "lowerBodyTrousers + lowerBodyFormal\n",
      "upperBodyLogo - upperBodyFormal\n",
      "lowerBodyThinStripes - lowerBodyFormal\n",
      "upperBodyThinStripes - upperBodyFormal\n",
      "upperBodyThickStripes - upperBodyFormal\n",
      "hairBald - personalFemale\n",
      "footwearBoots - personalMale\n",
      "accessoryHairBand - lowerBodyFormal\n",
      "accessoryHairBand - upperBodyFormal\n",
      "accessoryHairBand - personalMale\n",
      "accessoryHat - upperBodyFormal\n",
      "accessoryHat - lowerBodyFormal\n",
      "lowerBodyHotPants - lowerBodyFormal\n",
      "upperBodyJacket - upperBodyFormal\n",
      "lowerBodyJeans - lowerBodyFormal\n",
      "accessoryKerchief - lowerBodyFormal\n",
      "accessoryKerchief - upperBodyFormal\n",
      "accessoryKerchief - personalMale\n",
      "hairLong - personalMale\n",
      "lowerBodyLongSkirt - personalMale\n",
      "upperBodyNoSleeve - upperBodyFormal\n",
      "footwearSandals - lowerBodyFormal\n",
      "footwearSandals - upperBodyFormal\n",
      "hairShort - personalFemale\n",
      "lowerBodyShorts - lowerBodyFormal\n",
      "lowerBodyShortSkirt - lowerBodyFormal\n",
      "lowerBodyShortSkirt - personalMale\n",
      "footwearSneakers - lowerBodyFormal\n",
      "footwearSneakers - upperBodyFormal\n",
      "upperBodySuit - upperBodyCasual\n",
      "lowerBodySuits - lowerBodyCasual\n",
      "upperBodyTshirt - upperBodyFormal\n"
     ]
    }
   ],
   "source": [
    "positive = [(0,7),(1,6),(1,11),(2,7),(2,13),(3,13),(3,7),(7,12),(8,8),(13,8),(14,6),(14,7),(15,6),(16,7),(17,6),(18,8),(19,10),(19,9),(20,8),(21,8),(22,10),(28,7),(30,6),(30,7),(32,12),(33,6),(35,6),(35,8),(36,6),(36,7),(38,10),(40,9),(43,9)]\n",
    "negative = [(0,10),(1,9),(2,10),(3,10),(7,8),(8,12),(13,9),(13,10),(13,12),(14,10),(14,9),(15,9),(16,10),(17,9),(18,9),(18,10),(18,12),(20,12),(21,12),(28,10),(30,9),(30,10),(32,8),(33,9),(35,9),(35,12),(36,9),(36,10),(38,7),(40,6),(44,10)]\n",
    "\n",
    "for (src, dst) in positive:\n",
    "    print(attributes_list[src], '+', attributes_list[dst+47])\n",
    "for (src, dst) in negative:\n",
    "    print(attributes_list[src], '-', attributes_list[dst+47])"
   ]
  },
  {
   "cell_type": "code",
   "execution_count": 18,
   "metadata": {},
   "outputs": [],
   "source": [
    "for (src, dst) in positive:\n",
    "    state_transition_matrix[src][dst] = 1\n",
    "for (src, dst) in negative:\n",
    "    state_transition_matrix[src][dst] = -1"
   ]
  },
  {
   "cell_type": "code",
   "execution_count": 19,
   "metadata": {},
   "outputs": [],
   "source": [
    "np.save(\"../results/state_transition_matrix.npy\", state_transition_matrix)"
   ]
  },
  {
   "cell_type": "code",
   "execution_count": null,
   "metadata": {},
   "outputs": [],
   "source": []
  }
 ],
 "metadata": {
  "kernelspec": {
   "display_name": "Python 3",
   "language": "python",
   "name": "python3"
  },
  "language_info": {
   "codemirror_mode": {
    "name": "ipython",
    "version": 3
   },
   "file_extension": ".py",
   "mimetype": "text/x-python",
   "name": "python",
   "nbconvert_exporter": "python",
   "pygments_lexer": "ipython3",
   "version": "3.6.5"
  }
 },
 "nbformat": 4,
 "nbformat_minor": 2
}

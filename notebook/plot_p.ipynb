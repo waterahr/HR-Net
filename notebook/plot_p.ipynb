{
 "cells": [
  {
   "cell_type": "code",
   "execution_count": 1,
   "metadata": {},
   "outputs": [
    {
     "name": "stdout",
     "output_type": "stream",
     "text": [
      "The total attributes labeled:  65\n",
      "['accessoryHeadphone', 'personalLess15', 'personalLess30', 'personalLess45', 'personalLess60', 'personalLarger60', 'carryingBabyBuggy', 'carryingBackpack', 'hairBald', 'footwearBoots', 'lowerBodyCapri', 'carryingOther', 'carryingShoppingTro', 'carryingUmbrella', 'lowerBodyCasual', 'upperBodyCasual', 'personalFemale', 'carryingFolder', 'lowerBodyFormal', 'upperBodyFormal', 'accessoryHairBand', 'accessoryHat', 'lowerBodyHotPants', 'upperBodyJacket', 'lowerBodyJeans', 'accessoryKerchief', 'footwearLeatherShoes', 'upperBodyLogo', 'hairLong', 'lowerBodyLongSkirt', 'upperBodyLongSleeve', 'lowerBodyPlaid', 'lowerBodyThinStripes', 'carryingLuggageCase', 'personalMale', 'carryingMessengerBag', 'accessoryMuffler', 'accessoryNothing', 'carryingNothing', 'upperBodyNoSleeve', 'upperBodyPlaid', 'carryingPlasticBags', 'footwearSandals', 'footwearShoes', 'hairShort', 'lowerBodyShorts', 'upperBodyShortSleeve', 'lowerBodyShortSkirt', 'footwearSneakers', 'footwearStocking', 'upperBodyThinStripes', 'upperBodySuit', 'carryingSuitcase', 'lowerBodySuits', 'accessorySunglasses', 'upperBodySweater', 'upperBodyThickStripes', 'lowerBodyTrousers', 'upperBodyTshirt', 'upperBodyOther', 'upperBodyVNeck', 'footwear', 'hair', 'lowerbody', 'upperbody']\n"
     ]
    }
   ],
   "source": [
    "labels_list_file = r\"/home/anhaoran/data/pedestrian_attributes_PETA/PETA/labels.txt\" \n",
    "labels_list_data = open(labels_list_file)\n",
    "lines = labels_list_data.readlines()\n",
    "attributes_list = []\n",
    "for line in lines:\n",
    "    data = line.split()\n",
    "    #print(attr)\n",
    "    attributes_list.append(data[1])\n",
    "print(\"The total attributes labeled: \", len(attributes_list))\n",
    "print(attributes_list)"
   ]
  },
  {
   "cell_type": "code",
   "execution_count": 3,
   "metadata": {},
   "outputs": [
    {
     "name": "stdout",
     "output_type": "stream",
     "text": [
      "The total attributes labeled:  61\n",
      "['upperBodyLogo', 'lowerBodyThinStripes', 'upperBodyThinStripes', 'upperBodyThickStripes', 'accessoryHeadphone', 'carryingBabyBuggy', 'carryingBackpack', 'hairBald', 'footwearBoots', 'carryingOther', 'carryingShoppingTro', 'carryingUmbrella', 'carryingFolder', 'accessoryHairBand', 'accessoryHat', 'lowerBodyHotPants', 'upperBodyJacket', 'lowerBodyJeans', 'accessoryKerchief', 'footwearLeatherShoes', 'hairLong', 'lowerBodyLongSkirt', 'upperBodyLongSleeve', 'carryingLuggageCase', 'carryingMessengerBag', 'accessoryMuffler', 'accessoryNothing', 'carryingNothing', 'upperBodyNoSleeve', 'carryingPlasticBags', 'footwearSandals', 'footwearShoes', 'hairShort', 'lowerBodyShorts', 'upperBodyShortSleeve', 'lowerBodyShortSkirt', 'footwearSneakers', 'footwearStocking', 'upperBodySuit', 'carryingSuitcase', 'lowerBodySuits', 'accessorySunglasses', 'upperBodySweater', 'lowerBodyTrousers', 'upperBodyTshirt', 'upperBodyOther', 'upperBodyVNeck', 'personalLess15', 'personalLess30', 'personalLess45', 'personalLess60', 'personalLarger60', 'lowerBodyCapri', 'lowerBodyCasual', 'upperBodyCasual', 'personalFemale', 'lowerBodyFormal', 'upperBodyFormal', 'lowerBodyPlaid', 'personalMale', 'upperBodyPlaid']\n"
     ]
    }
   ],
   "source": [
    "import numpy as np\n",
    "\n",
    "low_level = [27, 32, 50, 56]#, 61, 62, 63, 64\n",
    "mid_level = [0, 6, 7, 8, 9, 11, 12, 13, 17, 20, 21, 22, 23, 24, 25, 26, 28, 29, 30, 33, 35, 36, 37, 38, 39, 41, 42, 43, 44, 45, 46, 47, 48, 49, 51, 52, 53, 54, 55, 57, 58, 59, 60]\n",
    "high_level = [1, 2, 3, 4, 5, 10, 14, 15, 16, 18, 19, 31, 34, 40]\n",
    "attributes_list_hiar = list(np.array(attributes_list)[list(np.hstack((low_level, mid_level, high_level)))])\n",
    "print(\"The total attributes labeled: \", len(attributes_list_hiar))\n",
    "print(attributes_list_hiar)\n",
    "data_dict = {\"attributes\": attributes_list_hiar}"
   ]
  },
  {
   "cell_type": "code",
   "execution_count": 5,
   "metadata": {},
   "outputs": [
    {
     "name": "stdout",
     "output_type": "stream",
     "text": [
      "The shape of the y_test is:  (19000, 61)\n",
      "The shape of the y_test is:  (19000, 61)\n"
     ]
    }
   ],
   "source": [
    "import pandas as pd\n",
    "\n",
    "filename = r\"../results/PETA.csv\"\n",
    "data = np.array(pd.read_csv(filename))[:, 1:]\n",
    "length = len(data)\n",
    "data_y = np.zeros((length, 61))\n",
    "for i in range(length):\n",
    "    #img = image.load_img(path + m)\n",
    "    #img = image.load_img(data[i, 0], target_size=(160, 75, 3))\n",
    "    #data_x[i] = image.img_to_array(img)\n",
    "    data_y[i] = np.array(data[i, 1:1+61], dtype=\"float32\")\n",
    "data_y_hiar = data_y[:, list(np.hstack((low_level, mid_level, high_level)))]\n",
    "y_test = data_y#[11400:]\n",
    "y_test_hiar = data_y_hiar#[11400:]\n",
    "print(\"The shape of the y_test is: \", y_test.shape)\n",
    "print(\"The shape of the y_test is: \", y_test_hiar.shape)"
   ]
  },
  {
   "cell_type": "code",
   "execution_count": 6,
   "metadata": {},
   "outputs": [],
   "source": [
    "reason = []\n",
    "guide = []\n",
    "for i in range(61):\n",
    "    tmp_reason = []\n",
    "    tmp_guide = []\n",
    "    for j in range(61):\n",
    "        N = sum(y_test_hiar[:, i])\n",
    "        M = sum(y_test_hiar[:, j])\n",
    "        L = sum(y_test_hiar[:, i] * y_test_hiar[:, j])\n",
    "        tmp_reason.append(L/N)\n",
    "        tmp_guide.append(L/M)\n",
    "    reason.append(tmp_reason)\n",
    "    guide.append(tmp_guide)"
   ]
  },
  {
   "cell_type": "code",
   "execution_count": 8,
   "metadata": {},
   "outputs": [
    {
     "name": "stdout",
     "output_type": "stream",
     "text": [
      "(61, 61)\n"
     ]
    }
   ],
   "source": [
    "print(np.shape(reason))"
   ]
  },
  {
   "cell_type": "code",
   "execution_count": 17,
   "metadata": {},
   "outputs": [
    {
     "data": {
      "image/png": "[encoded data removed]",
      "text/plain": [
       "<Figure size 432x288 with 2 Axes>"
      ]
     },
     "metadata": {},
     "output_type": "display_data"
    },
    {
     "name": "stdout",
     "output_type": "stream",
     "text": [
      "upperBodyLogo ---> lowerBodyCasual 0.9837837837837838\n",
      "upperBodyLogo ---> upperBodyCasual 0.9837837837837838\n",
      "lowerBodyThinStripes ---> upperBodyLongSleeve 1.0\n",
      "lowerBodyThinStripes ---> hairShort 1.0\n",
      "lowerBodyThinStripes ---> lowerBodyTrousers 1.0\n",
      "lowerBodyThinStripes ---> personalLess30 1.0\n",
      "lowerBodyThinStripes ---> lowerBodyCasual 1.0\n",
      "lowerBodyThinStripes ---> upperBodyCasual 1.0\n",
      "lowerBodyThinStripes ---> personalMale 1.0\n",
      "upperBodyThinStripes ---> lowerBodyCasual 1.0\n",
      "upperBodyThinStripes ---> upperBodyCasual 0.9823529411764705\n",
      "upperBodyThickStripes ---> lowerBodyCasual 0.9789473684210527\n",
      "upperBodyThickStripes ---> upperBodyCasual 0.968421052631579\n",
      "accessoryHeadphone ---> lowerBodyCasual 1.0\n",
      "carryingBackpack ---> lowerBodyCasual 0.9667330110889963\n",
      "carryingBackpack ---> upperBodyCasual 0.9673016775661075\n",
      "hairBald ---> personalMale 1.0\n",
      "footwearBoots ---> upperBodyLongSleeve 0.977924944812362\n",
      "footwearBoots ---> personalFemale 0.9933774834437086\n",
      "carryingUmbrella ---> accessoryNothing 1.0\n",
      "carryingUmbrella ---> hairShort 1.0\n",
      "carryingUmbrella ---> lowerBodyCasual 1.0\n",
      "carryingUmbrella ---> upperBodyCasual 1.0\n",
      "carryingUmbrella ---> personalFemale 0.9705882352941176\n",
      "accessoryHairBand ---> personalFemale 0.968671679197995\n",
      "accessoryHat ---> upperBodyCasual 0.9567372690401081\n",
      "lowerBodyHotPants ---> personalFemale 0.997093023255814\n",
      "upperBodyJacket ---> upperBodyLongSleeve 0.9879608728367193\n",
      "upperBodyJacket ---> lowerBodyCasual 0.9668924003009782\n",
      "upperBodyJacket ---> upperBodyCasual 0.9729119638826185\n",
      "lowerBodyJeans ---> lowerBodyCasual 0.9884364820846906\n",
      "lowerBodyJeans ---> upperBodyCasual 0.9747557003257329\n",
      "accessoryKerchief ---> upperBodyLongSleeve 0.9516129032258065\n",
      "accessoryKerchief ---> lowerBodyCasual 0.967741935483871\n",
      "accessoryKerchief ---> upperBodyCasual 0.967741935483871\n",
      "accessoryKerchief ---> personalFemale 1.0\n",
      "hairLong ---> personalFemale 0.9608205507299945\n",
      "lowerBodyLongSkirt ---> personalFemale 1.0\n",
      "carryingLuggageCase ---> upperBodyLongSleeve 0.9812206572769953\n",
      "accessoryMuffler ---> upperBodyLongSleeve 1.0\n",
      "upperBodyNoSleeve ---> lowerBodyCasual 1.0\n",
      "upperBodyNoSleeve ---> upperBodyCasual 1.0\n",
      "carryingPlasticBags ---> upperBodyLongSleeve 0.9509078681909886\n",
      "footwearSandals ---> lowerBodyCasual 0.9585152838427947\n",
      "footwearSandals ---> upperBodyCasual 1.0\n",
      "footwearShoes ---> lowerBodyCasual 0.9550907413103661\n",
      "footwearShoes ---> upperBodyCasual 0.9549369424792371\n",
      "lowerBodyShorts ---> upperBodyCasual 0.970108695652174\n",
      "upperBodyShortSleeve ---> upperBodyCasual 0.970334928229665\n",
      "lowerBodyShortSkirt ---> personalFemale 1.0\n",
      "footwearSneakers ---> lowerBodyCasual 0.9914149443561209\n",
      "footwearSneakers ---> upperBodyCasual 0.9825119236883942\n",
      "footwearStocking ---> upperBodyLongSleeve 0.9742710120068611\n",
      "footwearStocking ---> personalFemale 0.9554030874785592\n",
      "upperBodySuit ---> footwearLeatherShoes 0.9779338014042126\n",
      "upperBodySuit ---> upperBodyLongSleeve 0.9899699097291875\n",
      "upperBodySuit ---> upperBodyFormal 1.0\n",
      "carryingSuitcase ---> upperBodyLongSleeve 0.9786096256684492\n",
      "carryingSuitcase ---> hairShort 0.9866310160427807\n",
      "lowerBodySuits ---> footwearLeatherShoes 0.9618856569709128\n",
      "lowerBodySuits ---> upperBodyLongSleeve 0.9628886659979939\n",
      "lowerBodySuits ---> lowerBodyFormal 0.9879638916750251\n",
      "lowerBodySuits ---> upperBodyFormal 0.9658976930792377\n",
      "upperBodySweater ---> upperBodyLongSleeve 1.0\n",
      "upperBodyTshirt ---> upperBodyShortSleeve 0.9658762290341237\n",
      "upperBodyTshirt ---> lowerBodyCasual 0.9606709080393291\n",
      "upperBodyTshirt ---> upperBodyCasual 0.9884326200115674\n",
      "upperBodyOther ---> upperBodyLongSleeve 0.9894629817912931\n",
      "personalLess15 ---> lowerBodyCasual 1.0\n",
      "personalLess15 ---> upperBodyCasual 1.0\n",
      "personalLess30 ---> lowerBodyCasual 0.9665946724262059\n",
      "personalLess30 ---> upperBodyCasual 0.96414686825054\n",
      "personalLess60 ---> hairShort 0.9565619223659889\n",
      "personalLarger60 ---> upperBodyLongSleeve 0.979420731707317\n",
      "personalLarger60 ---> hairShort 0.9961890243902439\n",
      "lowerBodyCapri ---> lowerBodyCasual 1.0\n",
      "lowerBodyCapri ---> upperBodyCasual 1.0\n",
      "lowerBodyCasual ---> upperBodyCasual 0.9840496773408012\n",
      "upperBodyCasual ---> lowerBodyCasual 0.9914739618475127\n",
      "lowerBodyFormal ---> upperBodyLongSleeve 0.9610082709728239\n",
      "lowerBodyFormal ---> upperBodyFormal 0.9562820007877118\n",
      "upperBodyFormal ---> upperBodyLongSleeve 0.9753039513677811\n",
      "lowerBodyPlaid ---> lowerBodyCasual 1.0\n",
      "lowerBodyPlaid ---> upperBodyCasual 1.0\n",
      "personalMale ---> hairShort 0.9502125755202506\n",
      "upperBodyPlaid ---> lowerBodyCasual 0.9946524064171123\n"
     ]
    }
   ],
   "source": [
    "import matplotlib.pyplot as plt\n",
    "import seaborn as sns\n",
    "%matplotlib inline\n",
    "\n",
    "sns.heatmap(reason)\n",
    "plt.show()\n",
    "for i in range(61):\n",
    "    for j in range(61):\n",
    "        if reason[i][j] >= 0.95 and i!= j:\n",
    "            print(attributes_list_hiar[i], \"--->\", attributes_list_hiar[j], reason[i][j])"
   ]
  },
  {
   "cell_type": "code",
   "execution_count": 18,
   "metadata": {},
   "outputs": [
    {
     "data": {
      "image/png": "[encoded data removed]",
      "text/plain": [
       "<Figure size 432x288 with 2 Axes>"
      ]
     },
     "metadata": {},
     "output_type": "display_data"
    },
    {
     "name": "stdout",
     "output_type": "stream",
     "text": [
      "footwearLeatherShoes ---> upperBodySuit 0.9779338014042126\n",
      "footwearLeatherShoes ---> lowerBodySuits 0.9618856569709128\n",
      "upperBodyLongSleeve ---> lowerBodyThinStripes 1.0\n",
      "upperBodyLongSleeve ---> footwearBoots 0.977924944812362\n",
      "upperBodyLongSleeve ---> upperBodyJacket 0.9879608728367193\n",
      "upperBodyLongSleeve ---> accessoryKerchief 0.9516129032258065\n",
      "upperBodyLongSleeve ---> carryingLuggageCase 0.9812206572769953\n",
      "upperBodyLongSleeve ---> accessoryMuffler 1.0\n",
      "upperBodyLongSleeve ---> carryingPlasticBags 0.9509078681909886\n",
      "upperBodyLongSleeve ---> footwearStocking 0.9742710120068611\n",
      "upperBodyLongSleeve ---> upperBodySuit 0.9899699097291875\n",
      "upperBodyLongSleeve ---> carryingSuitcase 0.9786096256684492\n",
      "upperBodyLongSleeve ---> lowerBodySuits 0.9628886659979939\n",
      "upperBodyLongSleeve ---> upperBodySweater 1.0\n",
      "upperBodyLongSleeve ---> upperBodyOther 0.9894629817912931\n",
      "upperBodyLongSleeve ---> personalLarger60 0.979420731707317\n",
      "upperBodyLongSleeve ---> lowerBodyFormal 0.9610082709728239\n",
      "upperBodyLongSleeve ---> upperBodyFormal 0.9753039513677811\n",
      "accessoryNothing ---> carryingUmbrella 1.0\n",
      "hairShort ---> lowerBodyThinStripes 1.0\n",
      "hairShort ---> carryingUmbrella 1.0\n",
      "hairShort ---> carryingSuitcase 0.9866310160427807\n",
      "hairShort ---> personalLess60 0.9565619223659889\n",
      "hairShort ---> personalLarger60 0.9961890243902439\n",
      "hairShort ---> personalMale 0.9502125755202506\n",
      "upperBodyShortSleeve ---> upperBodyTshirt 0.9658762290341237\n",
      "lowerBodyTrousers ---> lowerBodyThinStripes 1.0\n",
      "personalLess30 ---> lowerBodyThinStripes 1.0\n",
      "lowerBodyCasual ---> upperBodyLogo 0.9837837837837838\n",
      "lowerBodyCasual ---> lowerBodyThinStripes 1.0\n",
      "lowerBodyCasual ---> upperBodyThinStripes 1.0\n",
      "lowerBodyCasual ---> upperBodyThickStripes 0.9789473684210527\n",
      "lowerBodyCasual ---> accessoryHeadphone 1.0\n",
      "lowerBodyCasual ---> carryingBackpack 0.9667330110889963\n",
      "lowerBodyCasual ---> carryingUmbrella 1.0\n",
      "lowerBodyCasual ---> upperBodyJacket 0.9668924003009782\n",
      "lowerBodyCasual ---> lowerBodyJeans 0.9884364820846906\n",
      "lowerBodyCasual ---> accessoryKerchief 0.967741935483871\n",
      "lowerBodyCasual ---> upperBodyNoSleeve 1.0\n",
      "lowerBodyCasual ---> footwearSandals 0.9585152838427947\n",
      "lowerBodyCasual ---> footwearShoes 0.9550907413103661\n",
      "lowerBodyCasual ---> footwearSneakers 0.9914149443561209\n",
      "lowerBodyCasual ---> upperBodyTshirt 0.9606709080393291\n",
      "lowerBodyCasual ---> personalLess15 1.0\n",
      "lowerBodyCasual ---> personalLess30 0.9665946724262059\n",
      "lowerBodyCasual ---> lowerBodyCapri 1.0\n",
      "lowerBodyCasual ---> upperBodyCasual 0.9914739618475127\n",
      "lowerBodyCasual ---> lowerBodyPlaid 1.0\n",
      "lowerBodyCasual ---> upperBodyPlaid 0.9946524064171123\n",
      "upperBodyCasual ---> upperBodyLogo 0.9837837837837838\n",
      "upperBodyCasual ---> lowerBodyThinStripes 1.0\n",
      "upperBodyCasual ---> upperBodyThinStripes 0.9823529411764705\n",
      "upperBodyCasual ---> upperBodyThickStripes 0.968421052631579\n",
      "upperBodyCasual ---> carryingBackpack 0.9673016775661075\n",
      "upperBodyCasual ---> carryingUmbrella 1.0\n",
      "upperBodyCasual ---> accessoryHat 0.9567372690401081\n",
      "upperBodyCasual ---> upperBodyJacket 0.9729119638826185\n",
      "upperBodyCasual ---> lowerBodyJeans 0.9747557003257329\n",
      "upperBodyCasual ---> accessoryKerchief 0.967741935483871\n",
      "upperBodyCasual ---> upperBodyNoSleeve 1.0\n",
      "upperBodyCasual ---> footwearSandals 1.0\n",
      "upperBodyCasual ---> footwearShoes 0.9549369424792371\n",
      "upperBodyCasual ---> lowerBodyShorts 0.970108695652174\n",
      "upperBodyCasual ---> upperBodyShortSleeve 0.970334928229665\n",
      "upperBodyCasual ---> footwearSneakers 0.9825119236883942\n",
      "upperBodyCasual ---> upperBodyTshirt 0.9884326200115674\n",
      "upperBodyCasual ---> personalLess15 1.0\n",
      "upperBodyCasual ---> personalLess30 0.96414686825054\n",
      "upperBodyCasual ---> lowerBodyCapri 1.0\n",
      "upperBodyCasual ---> lowerBodyCasual 0.9840496773408012\n",
      "upperBodyCasual ---> lowerBodyPlaid 1.0\n",
      "personalFemale ---> footwearBoots 0.9933774834437086\n",
      "personalFemale ---> carryingUmbrella 0.9705882352941176\n",
      "personalFemale ---> accessoryHairBand 0.968671679197995\n",
      "personalFemale ---> lowerBodyHotPants 0.997093023255814\n",
      "personalFemale ---> accessoryKerchief 1.0\n",
      "personalFemale ---> hairLong 0.9608205507299945\n",
      "personalFemale ---> lowerBodyLongSkirt 1.0\n",
      "personalFemale ---> lowerBodyShortSkirt 1.0\n",
      "personalFemale ---> footwearStocking 0.9554030874785592\n",
      "lowerBodyFormal ---> lowerBodySuits 0.9879638916750251\n",
      "upperBodyFormal ---> upperBodySuit 1.0\n",
      "upperBodyFormal ---> lowerBodySuits 0.9658976930792377\n",
      "upperBodyFormal ---> lowerBodyFormal 0.9562820007877118\n",
      "personalMale ---> lowerBodyThinStripes 1.0\n",
      "personalMale ---> hairBald 1.0\n"
     ]
    }
   ],
   "source": [
    "sns.heatmap(guide)\n",
    "plt.show()\n",
    "for i in range(61):\n",
    "    for j in range(61):\n",
    "        if guide[i][j] >= 0.95 and i!= j:\n",
    "            print(attributes_list_hiar[i], \"--->\", attributes_list_hiar[j], guide[i][j])"
   ]
  },
  {
   "cell_type": "code",
   "execution_count": null,
   "metadata": {},
   "outputs": [],
   "source": []
  }
 ],
 "metadata": {
  "kernelspec": {
   "display_name": "Python 3",
   "language": "python",
   "name": "python3"
  },
  "language_info": {
   "codemirror_mode": {
    "name": "ipython",
    "version": 3
   },
   "file_extension": ".py",
   "mimetype": "text/x-python",
   "name": "python",
   "nbconvert_exporter": "python",
   "pygments_lexer": "ipython3",
   "version": "3.6.5"
  }
 },
 "nbformat": 4,
 "nbformat_minor": 2
}

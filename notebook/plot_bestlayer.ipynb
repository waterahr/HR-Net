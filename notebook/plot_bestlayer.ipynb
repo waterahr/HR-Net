{
 "cells": [
  {
   "cell_type": "code",
   "execution_count": 1,
   "metadata": {},
   "outputs": [],
   "source": [
    "import sys\n",
    "#sys.append(\"..\")\n",
    "import os\n",
    "os.environ['CUDA_VISIBLE_DEVICES'] = \"\"\n",
    "import numpy as np\n",
    "\n",
    "def mA(y_pred, y_true):\n",
    "    M = len(y_pred)\n",
    "    L = len(y_pred[0])\n",
    "    res = 0\n",
    "    for i in range(L):\n",
    "        P = sum(y_true[:, i])\n",
    "        N = M - P\n",
    "        TP = sum(y_pred[:, i]*y_true[:, i])\n",
    "        TN = list(y_pred[:, i]+y_true[:, i] == 0).count(True)\n",
    "        #print(P,',', N,',', TP,',', TN)\n",
    "        if P != 0:\n",
    "            res += TP/P + TN/N\n",
    "        else:\n",
    "            res += TN/N\n",
    "    return res / (2*L)\n",
    "\n",
    "def acc(y_pred, y_true):\n",
    "    M = len(y_pred)\n",
    "    M_ = 0\n",
    "    res = 0\n",
    "    for i in range(M):\n",
    "        #print(np.shape(y_pred[i]*y_true[i]))\n",
    "        if sum(y_pred[i])+sum(y_true[i])-sum(y_pred[i]*y_true[i]) != 0:\n",
    "            res += sum(y_pred[i]*y_true[i]) / (sum(y_pred[i])+sum(y_true[i])-sum(y_pred[i]*y_true[i]))\n",
    "            M_ += 1\n",
    "    return res / M_\n",
    "\n",
    "def prec(y_pred, y_true):\n",
    "    M = len(y_pred)\n",
    "    M_ = 0\n",
    "    res = 0\n",
    "    for i in range(M):\n",
    "        if sum(y_pred[i]) != 0:\n",
    "            res += sum(y_pred[i]*y_true[i]) / sum(y_pred[i])\n",
    "            M_ += 1\n",
    "    if M_ == 0:\n",
    "        return 0\n",
    "    return res / M_\n",
    "\n",
    "def rec(y_pred, y_true):\n",
    "    M = len(y_pred)\n",
    "    M_ = 0\n",
    "    res = 0\n",
    "    for i in range(M):\n",
    "        if sum(y_true[i]) != 0:\n",
    "            res += sum(y_pred[i]*y_true[i]) / sum(y_true[i])\n",
    "            M_ += 1\n",
    "    if M_ == 0:\n",
    "        return 0\n",
    "    return res / M_"
   ]
  },
  {
   "cell_type": "code",
   "execution_count": 2,
   "metadata": {},
   "outputs": [
    {
     "name": "stderr",
     "output_type": "stream",
     "text": [
      "Using TensorFlow backend.\n"
     ]
    },
    {
     "name": "stdout",
     "output_type": "stream",
     "text": [
      "The total attributes labeled:  65\n",
      "['accessoryHeadphone', 'personalLess15', 'personalLess30', 'personalLess45', 'personalLess60', 'personalLarger60', 'carryingBabyBuggy', 'carryingBackpack', 'hairBald', 'footwearBoots', 'lowerBodyCapri', 'carryingOther', 'carryingShoppingTro', 'carryingUmbrella', 'lowerBodyCasual', 'upperBodyCasual', 'personalFemale', 'carryingFolder', 'lowerBodyFormal', 'upperBodyFormal', 'accessoryHairBand', 'accessoryHat', 'lowerBodyHotPants', 'upperBodyJacket', 'lowerBodyJeans', 'accessoryKerchief', 'footwearLeatherShoes', 'upperBodyLogo', 'hairLong', 'lowerBodyLongSkirt', 'upperBodyLongSleeve', 'lowerBodyPlaid', 'lowerBodyThinStripes', 'carryingLuggageCase', 'personalMale', 'carryingMessengerBag', 'accessoryMuffler', 'accessoryNothing', 'carryingNothing', 'upperBodyNoSleeve', 'upperBodyPlaid', 'carryingPlasticBags', 'footwearSandals', 'footwearShoes', 'hairShort', 'lowerBodyShorts', 'upperBodyShortSleeve', 'lowerBodyShortSkirt', 'footwearSneakers', 'footwearStocking', 'upperBodyThinStripes', 'upperBodySuit', 'carryingSuitcase', 'lowerBodySuits', 'accessorySunglasses', 'upperBodySweater', 'upperBodyThickStripes', 'lowerBodyTrousers', 'upperBodyTshirt', 'upperBodyOther', 'upperBodyVNeck', 'footwear', 'hair', 'lowerbody', 'upperbody']\n",
      "The shape of the X_test is:  (7600, 160, 75, 3)\n",
      "The shape of the y_test is:  (7600, 61)\n"
     ]
    }
   ],
   "source": [
    "import pandas as pd\n",
    "from keras.preprocessing import image\n",
    "\n",
    "labels_list_file = r\"/home/anhaoran/data/pedestrian_attributes_PETA/PETA/labels.txt\" \n",
    "labels_list_data = open(labels_list_file)\n",
    "lines = labels_list_data.readlines()\n",
    "attributes_list = []\n",
    "for line in lines:\n",
    "    data = line.split()\n",
    "    #print(attr)\n",
    "    attributes_list.append(data[1])\n",
    "print(\"The total attributes labeled: \", len(attributes_list))\n",
    "print(attributes_list)\n",
    "\n",
    "filename = r\"../results/PETA.csv\"\n",
    "data = np.array(pd.read_csv(filename))[:, 1:]\n",
    "length = len(data)\n",
    "data_x = np.zeros((length, 160, 75, 3))\n",
    "data_y = np.zeros((length, 61))\n",
    "for i in range(length):\n",
    "    #img = image.load_img(path + m)\n",
    "    img = image.load_img(data[i, 0], target_size=(160, 75, 3))\n",
    "    data_x[i] = image.img_to_array(img)\n",
    "    data_y[i] = np.array(data[i, 1:1+61], dtype=\"float32\")\n",
    "X_test = data_x[11400:]\n",
    "y_test = data_y[11400:]\n",
    "print(\"The shape of the X_test is: \", X_test.shape)\n",
    "print(\"The shape of the y_test is: \", y_test.shape)"
   ]
  },
  {
   "cell_type": "markdown",
   "metadata": {},
   "source": [
    "# ALL_selected"
   ]
  },
  {
   "cell_type": "code",
   "execution_count": 5,
   "metadata": {},
   "outputs": [
    {
     "name": "stdout",
     "output_type": "stream",
     "text": [
      "upperBodyLogo,lowerBodyThinStripes,upperBodyThinStripes,upperBodyThickStripes,carryingBackpack,carryingOther,accessoryHat,upperBodyJacket,lowerBodyJeans,footwearLeatherShoes,hairLong,lowerBodyLongSkirt,carryingMessengerBag,accessoryMuffler,accessoryNothing,carryingNothing,carryingPlasticBags,footwearSandals,footwearShoes,lowerBodyShorts,upperBodyShortSleeve,lowerBodyShortSkirt,footwearSneakers,accessorySunglasses,lowerBodyTrousers,upperBodyTshirt,upperBodyOther,upperBodyVNeck,personalLess30,personalLess45,personalLess60,personalLarger60,lowerBodyCasual,upperBodyCasual,lowerBodyFormal,upperBodyFormal,lowerBodyPlaid,personalMale,upperBodyPlaid,\n"
     ]
    }
   ],
   "source": [
    "selected = [27,32,50,56,7,11,21,23,24,26,28,29,35,36,37,38,41,42,43,45,46,47,48,54,57,58,59,60,2,3,4,5,14,15,18,19,31,34,40]\n",
    "for i in selected:\n",
    "    print(attributes_list[i], end=\",\")\n",
    "print()\n",
    "mA_val = []\n",
    "acc_val = []\n",
    "prec_val = []\n",
    "rec_val = []\n",
    "f1_val = []\n",
    "for i in range(1, 9):\n",
    "    ###GoogLeNet_depth1\n",
    "    predictions_prob = np.load(\"../results/predictions/GoogLeNet_depth\"+str(i)+\"_binary61_predictions50_imagenet_test7600.npy\")\n",
    "    predictions = np.array(predictions_prob >= 0.5, dtype=\"float64\")[:, selected]\n",
    "    label = y_test[:, selected]\n",
    "    \"\"\"\n",
    "    print(\"GoogLeNet_depth1\")\n",
    "    print(mA(predictions, label))\n",
    "    print(acc(predictions, label))\n",
    "    prec_value = prec(predictions, label)\n",
    "    print(prec_value)\n",
    "    rec_value = rec(predictions, label)\n",
    "    print(rec_value)\n",
    "    print(2*prec_value*rec_value/(prec_value+rec_value))\n",
    "    \"\"\"\n",
    "    mA_val.append(mA(predictions, label))\n",
    "    acc_val.append(acc(predictions, label))\n",
    "    prec_value = prec(predictions, label)\n",
    "    prec_val.append(prec_value)\n",
    "    rec_value = rec(predictions, label)\n",
    "    rec_val.append(rec_value)\n",
    "    f1_val.append(2*prec_value*rec_value/(prec_value+rec_value))\n",
    "predictions_prob = np.load(\"../results/predictions/GoogLeNet_binary61_predictions50_imagenet_test7600.npy\")\n",
    "predictions = np.array(predictions_prob >= 0.5, dtype=\"float64\")[:, selected]\n",
    "label = y_test[:, selected]\n",
    "mA_val.append(mA(predictions, label))\n",
    "acc_val.append(acc(predictions, label))\n",
    "prec_value = prec(predictions, label)\n",
    "prec_val.append(prec_value)\n",
    "rec_value = rec(predictions, label)\n",
    "rec_val.append(rec_value)\n",
    "f1_val.append(2*prec_value*rec_value/(prec_value+rec_value))"
   ]
  },
  {
   "cell_type": "code",
   "execution_count": 10,
   "metadata": {},
   "outputs": [
    {
     "name": "stdout",
     "output_type": "stream",
     "text": [
      "0.5727893673767459\n",
      "0.6441119908873184\n",
      "0.6732497872130678\n",
      "0.6991313715714588\n",
      "0.7248546205044677\n",
      "0.7612663590148997\n",
      "0.7953555858472662\n",
      "0.8220375123019488\n",
      "0.7966955022923461\n"
     ]
    }
   ],
   "source": [
    "for i in range(9):\n",
    "    print(mA_val[i])"
   ]
  },
  {
   "cell_type": "markdown",
   "metadata": {},
   "source": [
    "# Low_selected"
   ]
  },
  {
   "cell_type": "code",
   "execution_count": 11,
   "metadata": {},
   "outputs": [
    {
     "name": "stdout",
     "output_type": "stream",
     "text": [
      "upperBodyLogo,lowerBodyThinStripes,upperBodyThinStripes,upperBodyThickStripes,\n"
     ]
    }
   ],
   "source": [
    "selected = [27,32,50,56,7,11,21,23,24,26,28,29,35,36,37,38,41,42,43,45,46,47,48,54,57,58,59,60,2,3,4,5,14,15,18,19,31,34,40]\n",
    "for i in range(4):\n",
    "    print(attributes_list[selected[i]], end=\",\")\n",
    "print()\n",
    "mA_val = []\n",
    "acc_val = []\n",
    "prec_val = []\n",
    "rec_val = []\n",
    "f1_val = []\n",
    "for i in range(1, 9):\n",
    "    ###GoogLeNet_depth1\n",
    "    predictions_prob = np.load(\"../results/predictions/GoogLeNet_depth\"+str(i)+\"_binary61_predictions50_imagenet_test7600.npy\")\n",
    "    predictions = np.array(predictions_prob >= 0.5, dtype=\"float64\")[:, selected]\n",
    "    predictions = predictions[:, :4]\n",
    "    label = y_test[:, selected]\n",
    "    label = label[:, :4]\n",
    "    \"\"\"\n",
    "    print(\"GoogLeNet_depth1\")\n",
    "    print(mA(predictions, label))\n",
    "    print(acc(predictions, label))\n",
    "    prec_value = prec(predictions, label)\n",
    "    print(prec_value)\n",
    "    rec_value = rec(predictions, label)\n",
    "    print(rec_value)\n",
    "    print(2*prec_value*rec_value/(prec_value+rec_value))\n",
    "    \"\"\"\n",
    "    mA_val.append(mA(predictions, label))\n",
    "    acc_val.append(acc(predictions, label))\n",
    "    prec_value = prec(predictions, label)\n",
    "    prec_val.append(prec_value)\n",
    "    rec_value = rec(predictions, label)\n",
    "    rec_val.append(rec_value)\n",
    "    f1_val.append(2*prec_value*rec_value/(prec_value+rec_value))\n",
    "predictions_prob = np.load(\"../results/predictions/GoogLeNet_binary61_predictions50_imagenet_test7600.npy\")\n",
    "predictions = np.array(predictions_prob >= 0.5, dtype=\"float64\")[:, selected]\n",
    "predictions = predictions[:, :4]\n",
    "label = y_test[:, selected]\n",
    "label = label[:, :4]\n",
    "mA_val.append(mA(predictions, label))\n",
    "acc_val.append(acc(predictions, label))\n",
    "prec_value = prec(predictions, label)\n",
    "prec_val.append(prec_value)\n",
    "rec_value = rec(predictions, label)\n",
    "rec_val.append(rec_value)\n",
    "f1_val.append(2*prec_value*rec_value/(prec_value+rec_value))"
   ]
  },
  {
   "cell_type": "code",
   "execution_count": 16,
   "metadata": {},
   "outputs": [
    {
     "name": "stdout",
     "output_type": "stream",
     "text": [
      "0.5032894736842105\n",
      "0.585293887995433\n",
      "0.569088563120074\n",
      "0.5934447870369368\n",
      "0.5925341831624173\n",
      "0.6167058040124369\n",
      "0.658434688723863\n",
      "0.6791903953755694\n",
      "0.6325996044922395\n"
     ]
    }
   ],
   "source": [
    "for i in range(9):\n",
    "    print(mA_val[i])"
   ]
  },
  {
   "cell_type": "markdown",
   "metadata": {},
   "source": [
    "# Mid_selected"
   ]
  },
  {
   "cell_type": "code",
   "execution_count": 17,
   "metadata": {},
   "outputs": [
    {
     "name": "stdout",
     "output_type": "stream",
     "text": [
      "carryingBackpack,carryingOther,accessoryHat,upperBodyJacket,lowerBodyJeans,footwearLeatherShoes,hairLong,lowerBodyLongSkirt,carryingMessengerBag,accessoryMuffler,accessoryNothing,carryingNothing,carryingPlasticBags,footwearSandals,footwearShoes,lowerBodyShorts,upperBodyShortSleeve,lowerBodyShortSkirt,footwearSneakers,accessorySunglasses,lowerBodyTrousers,upperBodyTshirt,upperBodyOther,upperBodyVNeck,\n"
     ]
    }
   ],
   "source": [
    "selected = [27,32,50,56,7,11,21,23,24,26,28,29,35,36,37,38,41,42,43,45,46,47,48,54,57,58,59,60,2,3,4,5,14,15,18,19,31,34,40]\n",
    "for i in range(4, 28):\n",
    "    print(attributes_list[selected[i]], end=\",\")\n",
    "print()\n",
    "mA_val = []\n",
    "acc_val = []\n",
    "prec_val = []\n",
    "rec_val = []\n",
    "f1_val = []\n",
    "for i in range(1, 9):\n",
    "    ###GoogLeNet_depth1\n",
    "    predictions_prob = np.load(\"../results/predictions/GoogLeNet_depth\"+str(i)+\"_binary61_predictions50_imagenet_test7600.npy\")\n",
    "    predictions = np.array(predictions_prob >= 0.5, dtype=\"float64\")[:, selected]\n",
    "    predictions = predictions[:, 4:28]\n",
    "    label = y_test[:, selected]\n",
    "    label = label[:, 4:28]\n",
    "    \"\"\"\n",
    "    print(\"GoogLeNet_depth1\")\n",
    "    print(mA(predictions, label))\n",
    "    print(acc(predictions, label))\n",
    "    prec_value = prec(predictions, label)\n",
    "    print(prec_value)\n",
    "    rec_value = rec(predictions, label)\n",
    "    print(rec_value)\n",
    "    print(2*prec_value*rec_value/(prec_value+rec_value))\n",
    "    \"\"\"\n",
    "    mA_val.append(mA(predictions, label))\n",
    "    acc_val.append(acc(predictions, label))\n",
    "    prec_value = prec(predictions, label)\n",
    "    prec_val.append(prec_value)\n",
    "    rec_value = rec(predictions, label)\n",
    "    rec_val.append(rec_value)\n",
    "    f1_val.append(2*prec_value*rec_value/(prec_value+rec_value))\n",
    "predictions_prob = np.load(\"../results/predictions/GoogLeNet_binary61_predictions50_imagenet_test7600.npy\")\n",
    "predictions = np.array(predictions_prob >= 0.5, dtype=\"float64\")[:, selected]\n",
    "predictions = predictions[:, 4:28]\n",
    "label = y_test[:, selected]\n",
    "label = label[:, 4:28]\n",
    "mA_val.append(mA(predictions, label))\n",
    "acc_val.append(acc(predictions, label))\n",
    "prec_value = prec(predictions, label)\n",
    "prec_val.append(prec_value)\n",
    "rec_value = rec(predictions, label)\n",
    "rec_val.append(rec_value)\n",
    "f1_val.append(2*prec_value*rec_value/(prec_value+rec_value))"
   ]
  },
  {
   "cell_type": "code",
   "execution_count": 22,
   "metadata": {},
   "outputs": [
    {
     "name": "stdout",
     "output_type": "stream",
     "text": [
      "0.5836008028623726\n",
      "0.6520495570813896\n",
      "0.6925999839252683\n",
      "0.721578672496905\n",
      "0.739422457375012\n",
      "0.7850898341579856\n",
      "0.8115070872882207\n",
      "0.8361444806008723\n",
      "0.8173555192517554\n"
     ]
    }
   ],
   "source": [
    "for i in range(9):\n",
    "    print(mA_val[i])"
   ]
  },
  {
   "cell_type": "markdown",
   "metadata": {},
   "source": [
    "# High_selected"
   ]
  },
  {
   "cell_type": "code",
   "execution_count": 23,
   "metadata": {},
   "outputs": [
    {
     "name": "stdout",
     "output_type": "stream",
     "text": [
      "personalLess30,personalLess45,personalLess60,personalLarger60,lowerBodyCasual,upperBodyCasual,lowerBodyFormal,upperBodyFormal,lowerBodyPlaid,personalMale,upperBodyPlaid,\n"
     ]
    }
   ],
   "source": [
    "selected = [27,32,50,56,7,11,21,23,24,26,28,29,35,36,37,38,41,42,43,45,46,47,48,54,57,58,59,60,2,3,4,5,14,15,18,19,31,34,40]\n",
    "for i in range(28, len(selected)):\n",
    "    print(attributes_list[selected[i]], end=\",\")\n",
    "print()\n",
    "mA_val = []\n",
    "acc_val = []\n",
    "prec_val = []\n",
    "rec_val = []\n",
    "f1_val = []\n",
    "for i in range(1, 9):\n",
    "    ###GoogLeNet_depth1\n",
    "    predictions_prob = np.load(\"../results/predictions/GoogLeNet_depth\"+str(i)+\"_binary61_predictions50_imagenet_test7600.npy\")\n",
    "    predictions = np.array(predictions_prob >= 0.5, dtype=\"float64\")[:, selected]\n",
    "    predictions = predictions[:, 28:]\n",
    "    label = y_test[:, selected]\n",
    "    label = label[:, 28:]\n",
    "    \"\"\"\n",
    "    print(\"GoogLeNet_depth1\")\n",
    "    print(mA(predictions, label))\n",
    "    print(acc(predictions, label))\n",
    "    prec_value = prec(predictions, label)\n",
    "    print(prec_value)\n",
    "    rec_value = rec(predictions, label)\n",
    "    print(rec_value)\n",
    "    print(2*prec_value*rec_value/(prec_value+rec_value))\n",
    "    \"\"\"\n",
    "    mA_val.append(mA(predictions, label))\n",
    "    acc_val.append(acc(predictions, label))\n",
    "    prec_value = prec(predictions, label)\n",
    "    prec_val.append(prec_value)\n",
    "    rec_value = rec(predictions, label)\n",
    "    rec_val.append(rec_value)\n",
    "    f1_val.append(2*prec_value*rec_value/(prec_value+rec_value))\n",
    "predictions_prob = np.load(\"../results/predictions/GoogLeNet_binary61_predictions50_imagenet_test7600.npy\")\n",
    "predictions = np.array(predictions_prob >= 0.5, dtype=\"float64\")[:, selected]\n",
    "predictions = predictions[:, 28:]\n",
    "label = y_test[:, selected]\n",
    "label = label[:, 28:]\n",
    "mA_val.append(mA(predictions, label))\n",
    "acc_val.append(acc(predictions, label))\n",
    "prec_value = prec(predictions, label)\n",
    "prec_val.append(prec_value)\n",
    "rec_value = rec(predictions, label)\n",
    "rec_val.append(rec_value)\n",
    "f1_val.append(2*prec_value*rec_value/(prec_value+rec_value))"
   ]
  },
  {
   "cell_type": "code",
   "execution_count": 28,
   "metadata": {},
   "outputs": [
    {
     "name": "stdout",
     "output_type": "stream",
     "text": [
      "0.574473469478119\n",
      "0.6481820656973037\n",
      "0.6689079849657188\n",
      "0.6885869275648567\n",
      "0.7411867718203883\n",
      "0.7618553423399714\n",
      "0.8099053634755122\n",
      "0.8432030785320715\n",
      "0.8112903372173093\n"
     ]
    }
   ],
   "source": [
    "for i in range(9):\n",
    "    print(mA_val[i])"
   ]
  },
  {
   "cell_type": "code",
   "execution_count": null,
   "metadata": {},
   "outputs": [],
   "source": []
  }
 ],
 "metadata": {
  "kernelspec": {
   "display_name": "Python 3",
   "language": "python",
   "name": "python3"
  },
  "language_info": {
   "codemirror_mode": {
    "name": "ipython",
    "version": 3
   },
   "file_extension": ".py",
   "mimetype": "text/x-python",
   "name": "python",
   "nbconvert_exporter": "python",
   "pygments_lexer": "ipython3",
   "version": "3.6.5"
  }
 },
 "nbformat": 4,
 "nbformat_minor": 2
}

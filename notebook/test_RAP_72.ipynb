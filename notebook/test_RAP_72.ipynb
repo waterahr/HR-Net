{
 "cells": [
  {
   "cell_type": "markdown",
   "metadata": {},
   "source": [
    "# Preparing attributes_list & labels"
   ]
  },
  {
   "cell_type": "code",
   "execution_count": 1,
   "metadata": {},
   "outputs": [
    {
     "name": "stdout",
     "output_type": "stream",
     "text": [
      "1.jpg\r\n",
      "acc_features_for_all_attributes.npy\r\n",
      "berk.csv\r\n",
      "berk-test.csv\r\n",
      "GoogleLenetv2.png\r\n",
      "GoogLeNet_binary61_feature_imagenet_all.npy\r\n",
      "GoogLeNet_binary61_feature_imagenet_test7600.npy\r\n",
      "googlenet_weights.npy\r\n",
      "logs\r\n",
      "metrics\r\n",
      "models\r\n",
      "myRAP_labels_pd.csv\r\n",
      "OEDCWPAL_PETA_features_all.pickle\r\n",
      "orig_feature_maps_dataset_weighted_by_label.npy\r\n",
      "orig_feature_maps_dataset_weighted_by_predprob.npy\r\n",
      "orig_feature_maps_trainset_weighted_by_label.npy\r\n",
      "orig_feature_maps_trainset_weighted_by_predprob.npy\r\n",
      "PA-100K_labels_pd.csv\r\n",
      "partGoogleLenet.png\r\n",
      "PETA_coarse_to_fine_labels_pd.csv\r\n",
      "PETA.csv\r\n",
      "PETA_labels_pd.csv\r\n",
      "PETA_lowerBody_labels_pd.csv\r\n",
      "PETA_ratio_positive_samples_for_attributes.json\r\n",
      "predictions\r\n",
      "RAP_labels_pd.csv\r\n",
      "RAP_partion.npy\r\n",
      "RAP_partion.txt\r\n",
      "README.md\r\n",
      "relation_array.npy\r\n",
      "resize_feature_maps_dataset_weighted_by_label.npy\r\n",
      "resize_feature_maps_dataset_weighted_by_predprob.npy\r\n",
      "resize_feature_maps_trainset_weighted_by_label.npy\r\n",
      "resize_feature_maps_trainset_weighted_by_predprob.npy\r\n",
      "samples\r\n",
      "state_transition_matrix.npy\r\n",
      "test_predictions.csv\r\n",
      "title.csv\r\n",
      "weighted_acc_features_for_all_attributes.npy\r\n"
     ]
    }
   ],
   "source": [
    "import numpy as np\n",
    "import pandas as pd\n",
    "from sklearn.metrics import accuracy_score, roc_curve, recall_score, auc, roc_auc_score\n",
    "\n",
    "!ls ../results"
   ]
  },
  {
   "cell_type": "code",
   "execution_count": 2,
   "metadata": {},
   "outputs": [
    {
     "name": "stdout",
     "output_type": "stream",
     "text": [
      "['Female', 'AgeLess16', 'Age17-30', 'Age31-45', 'BodyFat', 'BodyNormal', 'BodyThin', 'Customer', 'Clerk', 'hs-BaldHead', 'hs-LongHair', 'hs-BlackHair', 'hs-Hat', 'hs-Glasses', 'hs-Muffler', 'ub-Shirt', 'ub-Sweater', 'ub-Vest', 'ub-TShirt', 'ub-Cotton', 'ub-Jacket', 'ub-SuitUp', 'ub-Tight', 'ub-ShortSleeve', 'lb-LongTrousers', 'lb-Skirt', 'lb-ShortSkirt', 'lb-Dress', 'lb-Jeans', 'lb-TightTrousers', 'shoes-Leather', 'shoes-Sport', 'shoes-Boots', 'shoes-Cloth', 'shoes-Casual', 'attach-Backpack', 'attach-SingleShoulderBag', 'attach-HandBag', 'attach-Box', 'attach-PlasticBag', 'attach-PaperBag', 'attach-HandTrunk', 'attach-Other', 'action-Calling', 'action-Talking', 'action-Gathering', 'action-Holding', 'action-Pusing', 'action-Pulling', 'action-CarrybyArm', 'action-CarrybyHand', 'faceFront', 'faceBack', 'faceLeft', 'faceRight', 'occlusionLeft', 'occlusionRight', 'occlusionUp', 'occlusionDown', 'occlusion-Environment', 'occlusion-Attachment', 'occlusion-Person', 'occlusion-Other', 'up-Black', 'up-White', 'up-Gray', 'up-Red', 'up-Green', 'up-Blue', 'up-Yellow', 'up-Brown', 'up-Purple', 'up-Pink', 'up-Orange', 'up-Mixture', 'low-Black', 'low-White', 'low-Gray', 'low-Red', 'low-Green', 'low-Blue', 'low-Yellow', 'low-Mixture', 'shoes-Black', 'shoes-White', 'shoes-Gray', 'shoes-Red', 'shoes-Green', 'shoes-Blue', 'shoes-Yellow', 'shoes-Brown', 'shoes-Mixture']\n",
      "['性别', '年龄16', '年龄30', '年龄45', '体型微胖', '体型标准', '体型偏瘦', '角色顾客', '角色制服', '发型光头', '发型长发', '头肩黑色头发', '头肩戴帽', '头肩眼镜', '头肩围巾', '上衣衬衣', '上衣毛衣', '上衣马甲', '上衣T恤', '上衣棉服', '上衣夹克', '上衣西服', '上衣卫衣', '上衣短袖', '下衣长裤', '下衣裙子', '下衣短裙', '下衣连衣裙', '下衣牛仔裤', '下衣包腿裤', '鞋子类型皮鞋', '鞋子类型运动鞋', '鞋子类型靴子', '鞋子类型布鞋', '鞋子类型休闲鞋', '附属物双肩包', '附属物单肩包', '附属物手提包', '附属物箱子', '附属物塑料袋', '附属物纸袋', '附属物车', '附属物其他', '行为打手机', '行为交谈', '行为聚集', '行为抱东西', '行为推东西', '行为拉拽东西', '行为夹带东西', '行为拎东西', '正面', '背面', '面向左侧', '面向右侧', '左侧遮挡', '右侧遮挡', '上部遮挡', '下部遮挡', '遮挡类型环境物', '遮挡类型附属物', '遮挡类型目标', '遮挡类型其他', '上衣颜色黑', '上衣颜色白', '上衣颜色灰', '上衣颜色红', '上衣颜色绿', '上衣颜色蓝', '上衣颜色黄', '上衣颜色棕', '上衣颜色紫', '上衣颜色粉', '上衣颜色橙', '上衣颜色混色', '下衣颜色黑', '下衣颜色白', '下衣颜色灰', '下衣颜色红', '下衣颜色绿', '下衣颜色蓝', '下衣颜色黄', '下衣颜色混色', '鞋子颜色黑', '鞋子颜色白', '鞋子颜色灰', '鞋子颜色红', '鞋子颜色绿', '鞋子颜色蓝', '鞋子颜色黄', '鞋子颜色棕', '鞋子颜色混色']\n"
     ]
    }
   ],
   "source": [
    "import scipy.io as sio\n",
    "\n",
    "data = sio.loadmat('/home/anhaoran/data/pedestrian_attributes_RAP/RAP_annotation/RAP_annotation.mat')['RAP_annotation']\n",
    "attributes_list = []\n",
    "for i in range(data['attribute_eng'][0][0].shape[0]):\n",
    "    attributes_list.append(data['attribute_eng'][0][0][i][0][0])\n",
    "print(attributes_list)\n",
    "attributes_list_chinese = []\n",
    "for i in range(data['attribute_chinese'][0][0].shape[0]):\n",
    "    attributes_list_chinese.append(data['attribute_chinese'][0][0][i][0][0])\n",
    "print(attributes_list_chinese)"
   ]
  },
  {
   "cell_type": "code",
   "execution_count": 3,
   "metadata": {},
   "outputs": [
    {
     "name": "stdout",
     "output_type": "stream",
     "text": [
      "The total attributes labeled:  92\n",
      "['hs-BlackHair', 'up-Black', 'up-White', 'up-Gray', 'up-Red', 'up-Green', 'up-Blue', 'up-Yellow', 'up-Brown', 'up-Purple', 'up-Pink', 'up-Orange', 'up-Mixture', 'low-Black', 'low-White', 'low-Gray', 'low-Red', 'low-Green', 'low-Blue', 'low-Yellow', 'low-Mixture', 'shoes-Black', 'shoes-White', 'shoes-Gray', 'shoes-Red', 'shoes-Green', 'shoes-Blue', 'shoes-Yellow', 'shoes-Brown', 'shoes-Mixture', 'hs-BaldHead', 'hs-LongHair', 'hs-Hat', 'hs-Glasses', 'hs-Muffler', 'ub-Shirt', 'ub-Sweater', 'ub-Vest', 'ub-TShirt', 'ub-Cotton', 'ub-Jacket', 'ub-SuitUp', 'ub-Tight', 'ub-ShortSleeve', 'lb-LongTrousers', 'lb-Skirt', 'lb-ShortSkirt', 'lb-Dress', 'lb-Jeans', 'lb-TightTrousers', 'shoes-Leather', 'shoes-Sport', 'shoes-Boots', 'shoes-Cloth', 'shoes-Casual', 'attach-Backpack', 'attach-SingleShoulderBag', 'attach-HandBag', 'attach-Box', 'attach-PlasticBag', 'attach-PaperBag', 'attach-HandTrunk', 'attach-Other', 'Female', 'AgeLess16', 'Age17-30', 'Age31-45', 'BodyFat', 'BodyNormal', 'BodyThin', 'Customer', 'Clerk', 'action-Calling', 'action-Talking', 'action-Gathering', 'action-Holding', 'action-Pusing', 'action-Pulling', 'action-CarrybyArm', 'action-CarrybyHand', 'faceFront', 'faceBack', 'faceLeft', 'faceRight', 'occlusionLeft', 'occlusionRight', 'occlusionUp', 'occlusionDown', 'occlusion-Environment', 'occlusion-Attachment', 'occlusion-Person', 'occlusion-Other']\n"
     ]
    }
   ],
   "source": [
    "low_level = [11,63,64,65,66,67,68,69,70,71,72,73,74,75,76,77,78,79,80,81,82,83,84,85,86,87,88,89,90,91]\n",
    "#,63,64,65,66,67,68,69,70,71,72,73,74,75,76,77,78,79,80,81,82,83,84,85,86,87,88,89,90,91\n",
    "mid_level = [9,10,12,13,14,15,16,17,18,19,20,21,22,23,24,25,26,27,28,29,30,31,32,33,34,35,36,37,38,39,40,41,42]\n",
    "high_level = [0,1,2,3,4,5,6,7,8,43,44,45,46,47,48,49,50,51,52,53,54,55,56,57,58,59,60,61,62]\n",
    "#,1,51,52,53,54,55,56,57,58,59,60,61,62\n",
    "attributes_list_hiar = list(np.array(attributes_list)[list(np.hstack((low_level, mid_level, high_level)))])\n",
    "print(\"The total attributes labeled: \", len(attributes_list_hiar))\n",
    "print(attributes_list_hiar)"
   ]
  },
  {
   "cell_type": "code",
   "execution_count": 4,
   "metadata": {},
   "outputs": [
    {
     "name": "stdout",
     "output_type": "stream",
     "text": [
      "The shape of the y_test is:  (8317, 92)\n",
      "The shape of the y_test is:  (8317, 92)\n"
     ]
    }
   ],
   "source": [
    "filename = r\"../results/RAP_labels_pd.csv\"\n",
    "data = np.array(pd.read_csv(filename))[:, 1:]\n",
    "length = len(data)\n",
    "data_y = np.zeros((length, 92))\n",
    "for i in range(length):\n",
    "    data_y[i] = np.array(data[i, 1:93], dtype=\"float32\")\n",
    "data_y_hiar = data_y[:, list(np.hstack((low_level, mid_level, high_level)))]\n",
    "split = np.load('../results/RAP_partion.npy').item()\n",
    "y_test = data_y[list(split['test'][0])]\n",
    "y_test_hiar = data_y_hiar[list(split['test'][0])]\n",
    "print(\"The shape of the y_test is: \", y_test.shape)\n",
    "print(\"The shape of the y_test is: \", y_test_hiar.shape)"
   ]
  },
  {
   "cell_type": "markdown",
   "metadata": {},
   "source": [
    "# Defining the function"
   ]
  },
  {
   "cell_type": "code",
   "execution_count": 5,
   "metadata": {},
   "outputs": [],
   "source": [
    "def mA(y_pred, y_true):\n",
    "    M = len(y_pred)\n",
    "    L = len(y_pred[0])\n",
    "    res = 0\n",
    "    for i in range(L):\n",
    "        P = sum(y_true[:, i])\n",
    "        N = M - P\n",
    "        TP = sum(y_pred[:, i]*y_true[:, i])\n",
    "        TN = list(y_pred[:, i]+y_true[:, i] == 0).count(True)\n",
    "        #print(P,',', N,',', TP,',', TN)\n",
    "        if P != 0:\n",
    "            res += TP/P + TN/N\n",
    "        else:\n",
    "            res += TN/N\n",
    "    return res / (2*L)\n",
    "\n",
    "def acc(y_pred, y_true):\n",
    "    M = len(y_pred)\n",
    "    M_ = 0\n",
    "    res = 0\n",
    "    for i in range(M):\n",
    "        #print(np.shape(y_pred[i]*y_true[i]))\n",
    "        if sum(y_pred[i])+sum(y_true[i])-sum(y_pred[i]*y_true[i]) != 0:\n",
    "            res += sum(y_pred[i]*y_true[i]) / (sum(y_pred[i])+sum(y_true[i])-sum(y_pred[i]*y_true[i]))\n",
    "            M_ += 1\n",
    "    return res / M_\n",
    "\n",
    "def prec(y_pred, y_true):\n",
    "    M = len(y_pred)\n",
    "    M_ = 0\n",
    "    res = 0\n",
    "    for i in range(M):\n",
    "        if sum(y_pred[i]) != 0:\n",
    "            res += sum(y_pred[i]*y_true[i]) / sum(y_pred[i])\n",
    "            M_ += 1\n",
    "    if M_ == 0:\n",
    "        return 0\n",
    "    return res / M_\n",
    "\n",
    "def rec(y_pred, y_true):\n",
    "    M = len(y_pred)\n",
    "    M_ = 0\n",
    "    res = 0\n",
    "    for i in range(M):\n",
    "        if sum(y_true[i]) != 0:\n",
    "            res += sum(y_pred[i]*y_true[i]) / sum(y_true[i])\n",
    "            M_ += 1\n",
    "    if M_ == 0:\n",
    "        return 0\n",
    "    return res / M_"
   ]
  },
  {
   "cell_type": "markdown",
   "metadata": {},
   "source": [
    "# Ratio>0.01"
   ]
  },
  {
   "cell_type": "code",
   "execution_count": 8,
   "metadata": {},
   "outputs": [
    {
     "name": "stdout",
     "output_type": "stream",
     "text": [
      "['hs-BlackHair' 'hs-BaldHead' 'hs-LongHair' 'hs-Hat' 'hs-Glasses'\n",
      " 'hs-Muffler' 'ub-Shirt' 'ub-Sweater' 'ub-Vest' 'ub-TShirt' 'ub-Cotton'\n",
      " 'ub-Jacket' 'ub-SuitUp' 'ub-Tight' 'ub-ShortSleeve' 'lb-LongTrousers'\n",
      " 'lb-Skirt' 'lb-ShortSkirt' 'lb-Dress' 'lb-Jeans' 'lb-TightTrousers'\n",
      " 'shoes-Leather' 'shoes-Sport' 'shoes-Boots' 'shoes-Cloth' 'shoes-Casual'\n",
      " 'attach-Backpack' 'attach-SingleShoulderBag' 'attach-HandBag'\n",
      " 'attach-Box' 'attach-PlasticBag' 'attach-PaperBag' 'attach-HandTrunk'\n",
      " 'attach-Other' 'Female' 'AgeLess16' 'Age17-30' 'Age31-45' 'BodyFat'\n",
      " 'BodyNormal' 'BodyThin' 'Customer' 'Clerk' 'action-Calling'\n",
      " 'action-Talking' 'action-Gathering' 'action-Holding' 'action-Pusing'\n",
      " 'action-Pulling' 'action-CarrybyArm' 'action-CarrybyHand']\n",
      "['hs-BlackHair' 'hs-BaldHead' 'hs-LongHair' 'hs-Hat' 'hs-Glasses'\n",
      " 'hs-Muffler' 'ub-Shirt' 'ub-Sweater' 'ub-Vest' 'ub-TShirt' 'ub-Cotton'\n",
      " 'ub-Jacket' 'ub-SuitUp' 'ub-Tight' 'ub-ShortSleeve' 'lb-LongTrousers'\n",
      " 'lb-Skirt' 'lb-ShortSkirt' 'lb-Dress' 'lb-Jeans' 'lb-TightTrousers'\n",
      " 'shoes-Leather' 'shoes-Sport' 'shoes-Boots' 'shoes-Cloth' 'shoes-Casual'\n",
      " 'attach-Backpack' 'attach-SingleShoulderBag' 'attach-HandBag'\n",
      " 'attach-Box' 'attach-PlasticBag' 'attach-PaperBag' 'attach-HandTrunk'\n",
      " 'attach-Other' 'Female' 'AgeLess16' 'Age17-30' 'Age31-45' 'BodyFat'\n",
      " 'BodyNormal' 'BodyThin' 'Customer' 'Clerk' 'action-Calling'\n",
      " 'action-Talking' 'action-Gathering' 'action-Holding' 'action-Pusing'\n",
      " 'action-Pulling' 'action-CarrybyArm' 'action-CarrybyHand']\n"
     ]
    }
   ],
   "source": [
    "selected_attr = ['hs-BlackHair', 'hs-BaldHead', 'hs-LongHair', 'hs-Hat', 'hs-Glasses', 'hs-Muffler', 'ub-Shirt', 'ub-Sweater', 'ub-Vest', 'ub-TShirt', 'ub-Cotton', 'ub-Jacket', 'ub-SuitUp', 'ub-Tight', 'ub-ShortSleeve', 'lb-LongTrousers', 'lb-Skirt', 'lb-ShortSkirt', 'lb-Dress', 'lb-Jeans', 'lb-TightTrousers', 'shoes-Leather', 'shoes-Sport', 'shoes-Boots', 'shoes-Cloth', 'shoes-Casual', 'attach-Backpack', 'attach-SingleShoulderBag', 'attach-HandBag', 'attach-Box', 'attach-PlasticBag', 'attach-PaperBag', 'attach-HandTrunk', 'attach-Other', 'Female', 'AgeLess16', 'Age17-30', 'Age31-45', 'BodyFat', 'BodyNormal', 'BodyThin', 'Customer', 'Clerk', 'action-Calling', 'action-Talking', 'action-Gathering', 'action-Holding', 'action-Pusing', 'action-Pulling', 'action-CarrybyArm', 'action-CarrybyHand']\n",
    "selected_orig = []\n",
    "selected_hier = []\n",
    "\n",
    "\"\"\"\n",
    "total = len(data_y)\n",
    "#print(attributes_list[9], attributes_list_hiar[30])\n",
    "print(total)\n",
    "print(attributes_list[9])\n",
    "for i in range(len(attributes_list)):\n",
    "    if (sum(data_y[:, i])*1.0/total>0.01 or i==9):\n",
    "        selected_orig.append(i)\n",
    "    #else:\n",
    "        #print(attributes_list[i])\n",
    "print(selected_orig)\n",
    "print(len(selected_orig))\n",
    "\n",
    "for i in range(len(attributes_list_hiar)):\n",
    "    if sum(data_y_hiar[:, i])*1.0/total>0.01 or i==30:\n",
    "        selected.append(i)\n",
    "    else:\n",
    "        print(attributes_list_hiar[i])\n",
    "\n",
    "for i in selected_orig:\n",
    "    selected_hier.append(attributes_list_hiar.index(attributes_list[i]))\n",
    "print(selected_hier)\n",
    "print(len(selected_hier))\n",
    "\"\"\"\n",
    "for att in selected_attr:\n",
    "    selected_orig.append(attributes_list.index(att))\n",
    "    selected_hier.append(attributes_list_hiar.index(att))\n",
    "print(np.array(attributes_list)[selected_orig])\n",
    "print(np.array(attributes_list_hiar)[selected_hier])"
   ]
  },
  {
   "cell_type": "markdown",
   "metadata": {},
   "source": [
    "# Testing"
   ]
  },
  {
   "cell_type": "code",
   "execution_count": 21,
   "metadata": {},
   "outputs": [
    {
     "name": "stdout",
     "output_type": "stream",
     "text": [
      "hiarBayesGoogLeNet Split 0 hiarBayesGoogLeNet_binary92_oldhiar_newlossnoexp_split075x160binary92_oldhiar_newlossnoexp_split0_epoch25_valloss0.56.hdf5_predictions_imagenet_test_RAP.npy\n",
      "0.7115607102445356\t0.3029411662082965\t0.3336190821018109\t0.7525112183582671\t0.46228726301744155\n",
      "hiarBayesGoogLeNet Split 0 hiarBayesGoogLeNet_binary92_oldhiar_newlossnoexp_split0227x227binary92_oldhiar_newlossnoexp_split0_epoch25_valloss0.89.hdf5_predictions_imagenet_test_RAP.npy\n",
      "0.735907213227523\t0.4917927757888701\t0.5828669721317019\t0.7387794424391069\t0.6516268374661546\n",
      "hiarBayesGoogLeNet Split 0 hiarBayesGoogLeNet_binary92_oldhiar_newlossnoexp_split075x160binary92_oldhiar_newlossnoexp_split0_final200iter_model.h5_predictions_imagenet_test_RAP.npy\n",
      "0.7663808775550071\t0.46735147339932037\t0.5295107018065318\t0.7835564564688549\t0.6319578196058211\n",
      "hiarBayesGoogLeNet Split 0 hiarBayesGoogLeNet_binary92_oldhiar_newlossnoexp_split075x160binary92_oldhiar_newlossnoexp_split0_epoch50_valloss0.49.hdf5_predictions_imagenet_test_RAP.npy\n",
      "0.7674906126057659\t0.37757114324854846\t0.4169984200794634\t0.7828223776477239\t0.5441407505192691\n",
      "hiarBayesGoogLeNet Split 0 hiarBayesGoogLeNet_binary92_oldhiar_newlossnoexp_split0227x227binary92_oldhiar_newlossnoexp_split0_final200iter_model.h5_predictions_imagenet_test_RAP.npy\n",
      "0.7246455344702758\t0.5622476500504233\t0.6838498759371809\t0.7385056659103703\t0.7101276623926437\n"
     ]
    }
   ],
   "source": [
    "import os\n",
    "import re\n",
    "\n",
    "for i in range(5):\n",
    "    files = [s for s in os.listdir(\"../results/predictions/\") \n",
    "          if re.match(\"hiarBayesGoogLeNet_binary92_oldhiar_newlossnoexp_split\"+str(i)+\"_*\", s)]\n",
    "    for file in files:\n",
    "        predictions_prob = np.load(\"../results/predictions/\" + file)\n",
    "        predictions = np.array(predictions_prob >= 0.5, dtype=\"float64\")[:, selected_hier]\n",
    "        y_test_hiar_new = data_y_hiar[list(split['test'][i])]\n",
    "        label = y_test_hiar_new[:, selected_hier]\n",
    "        print(\"hiarBayesGoogLeNet Split\", str(i), file)\n",
    "        print(mA(predictions, label), end=\"\\t\")\n",
    "        print(acc(predictions, label), end=\"\\t\")\n",
    "        prec_value = prec(predictions, label)\n",
    "        print(prec_value, end=\"\\t\")\n",
    "        rec_value = rec(predictions, label)\n",
    "        print(rec_value, end=\"\\t\")\n",
    "        print(2*prec_value*rec_value/(prec_value+rec_value))"
   ]
  },
  {
   "cell_type": "code",
   "execution_count": 12,
   "metadata": {},
   "outputs": [
    {
     "name": "stdout",
     "output_type": "stream",
     "text": [
      "hiarBayesGoogLeNet\n",
      "0.5022308936648596\n",
      "0.06812301511833743\n",
      "0.1430276311934352\n",
      "0.1075963523871406\n",
      "0.12280749182202015\n",
      "hiarGoogLeNet\n",
      "0.5013445246209659\n",
      "0.06688448754127232\n",
      "0.14105826707726346\n",
      "0.10532039233794512\n",
      "0.1205973931861647\n"
     ]
    },
    {
     "ename": "FileNotFoundError",
     "evalue": "[Errno 2] No such file or directory: '../results/predictions/GoogLeNet_binary92_predictions_imagenet_test_RAP.npy'",
     "output_type": "error",
     "traceback": [
      "\u001b[0;31m---------------------------------------------------------------------------\u001b[0m",
      "\u001b[0;31mFileNotFoundError\u001b[0m                         Traceback (most recent call last)",
      "\u001b[0;32m<ipython-input-12-044b713dae54>\u001b[0m in \u001b[0;36m<module>\u001b[0;34m()\u001b[0m\n\u001b[1;32m     28\u001b[0m \u001b[0;34m\u001b[0m\u001b[0m\n\u001b[1;32m     29\u001b[0m \u001b[0;31m###GoogLeNet\u001b[0m\u001b[0;34m\u001b[0m\u001b[0;34m\u001b[0m\u001b[0m\n\u001b[0;32m---> 30\u001b[0;31m \u001b[0mpredictions_prob\u001b[0m \u001b[0;34m=\u001b[0m \u001b[0mnp\u001b[0m\u001b[0;34m.\u001b[0m\u001b[0mload\u001b[0m\u001b[0;34m(\u001b[0m\u001b[0;34m\"../results/predictions/GoogLeNet_binary92_predictions_imagenet_test_RAP.npy\"\u001b[0m\u001b[0;34m)\u001b[0m\u001b[0;34m\u001b[0m\u001b[0m\n\u001b[0m\u001b[1;32m     31\u001b[0m \u001b[0mpredictions\u001b[0m \u001b[0;34m=\u001b[0m \u001b[0mnp\u001b[0m\u001b[0;34m.\u001b[0m\u001b[0marray\u001b[0m\u001b[0;34m(\u001b[0m\u001b[0mpredictions_prob\u001b[0m \u001b[0;34m>=\u001b[0m \u001b[0;36m0.5\u001b[0m\u001b[0;34m,\u001b[0m \u001b[0mdtype\u001b[0m\u001b[0;34m=\u001b[0m\u001b[0;34m\"float64\"\u001b[0m\u001b[0;34m)\u001b[0m\u001b[0;34m[\u001b[0m\u001b[0;34m:\u001b[0m\u001b[0;34m,\u001b[0m \u001b[0mselected_\u001b[0m\u001b[0;34m]\u001b[0m\u001b[0;34m\u001b[0m\u001b[0m\n\u001b[1;32m     32\u001b[0m \u001b[0mlabel\u001b[0m \u001b[0;34m=\u001b[0m \u001b[0my_test\u001b[0m\u001b[0;34m[\u001b[0m\u001b[0;34m:\u001b[0m\u001b[0;34m,\u001b[0m \u001b[0mselected_\u001b[0m\u001b[0;34m]\u001b[0m\u001b[0;34m\u001b[0m\u001b[0m\n",
      "\u001b[0;32m~/anaconda3/lib/python3.6/site-packages/numpy/lib/npyio.py\u001b[0m in \u001b[0;36mload\u001b[0;34m(file, mmap_mode, allow_pickle, fix_imports, encoding)\u001b[0m\n\u001b[1;32m    370\u001b[0m     \u001b[0mown_fid\u001b[0m \u001b[0;34m=\u001b[0m \u001b[0;32mFalse\u001b[0m\u001b[0;34m\u001b[0m\u001b[0m\n\u001b[1;32m    371\u001b[0m     \u001b[0;32mif\u001b[0m \u001b[0misinstance\u001b[0m\u001b[0;34m(\u001b[0m\u001b[0mfile\u001b[0m\u001b[0;34m,\u001b[0m \u001b[0mbasestring\u001b[0m\u001b[0;34m)\u001b[0m\u001b[0;34m:\u001b[0m\u001b[0;34m\u001b[0m\u001b[0m\n\u001b[0;32m--> 372\u001b[0;31m         \u001b[0mfid\u001b[0m \u001b[0;34m=\u001b[0m \u001b[0mopen\u001b[0m\u001b[0;34m(\u001b[0m\u001b[0mfile\u001b[0m\u001b[0;34m,\u001b[0m \u001b[0;34m\"rb\"\u001b[0m\u001b[0;34m)\u001b[0m\u001b[0;34m\u001b[0m\u001b[0m\n\u001b[0m\u001b[1;32m    373\u001b[0m         \u001b[0mown_fid\u001b[0m \u001b[0;34m=\u001b[0m \u001b[0;32mTrue\u001b[0m\u001b[0;34m\u001b[0m\u001b[0m\n\u001b[1;32m    374\u001b[0m     \u001b[0;32melif\u001b[0m \u001b[0mis_pathlib_path\u001b[0m\u001b[0;34m(\u001b[0m\u001b[0mfile\u001b[0m\u001b[0;34m)\u001b[0m\u001b[0;34m:\u001b[0m\u001b[0;34m\u001b[0m\u001b[0m\n",
      "\u001b[0;31mFileNotFoundError\u001b[0m: [Errno 2] No such file or directory: '../results/predictions/GoogLeNet_binary92_predictions_imagenet_test_RAP.npy'"
     ]
    }
   ],
   "source": [
    "###hiarBayesGoogLeNet\n",
    "predictions_prob = np.load(\"../results/predictions/hiarBayesGoogLeNet_binary92_binary92_final_model_predictions_imagenet_test_RAP.npy\")\n",
    "predictions = np.array(predictions_prob >= 0.5, dtype=\"float64\")#[:, selected_hier]\n",
    "label = y_test_hiar#[:, selected_hier]\n",
    "print(\"hiarBayesGoogLeNet\")\n",
    "print(mA(predictions, label))\n",
    "print(acc(predictions, label))\n",
    "prec_value = prec(predictions, label)\n",
    "print(prec_value)\n",
    "rec_value = rec(predictions, label)\n",
    "print(rec_value)\n",
    "print(2*prec_value*rec_value/(prec_value+rec_value))\n",
    "\n",
    "\n",
    "###hiarGoogLeNet\n",
    "predictions_prob = np.load(\"../results/predictions/hiarGoogLeNet_binary92_binary92_final_model_predictions_imagenet_test_RAP.npy\")\n",
    "predictions = np.array(predictions_prob >= 0.5, dtype=\"float64\")#[:, selected_hier]\n",
    "label = y_test_hiar#[:, selected_hier]\n",
    "print(\"hiarGoogLeNet\")\n",
    "print(mA(predictions, label))\n",
    "print(acc(predictions, label))\n",
    "prec_value = prec(predictions, label)\n",
    "print(prec_value)\n",
    "rec_value = rec(predictions, label)\n",
    "print(rec_value)\n",
    "print(2*prec_value*rec_value/(prec_value+rec_value))\n",
    "\n",
    "\n",
    "###GoogLeNet\n",
    "predictions_prob = np.load(\"../results/predictions/GoogLeNet_binary92_predictions_imagenet_test_RAP.npy\")\n",
    "predictions = np.array(predictions_prob >= 0.5, dtype=\"float64\")#[:, selected_orig]\n",
    "label = y_test#[:, selected_orig]\n",
    "print(\"GoogLeNet\")\n",
    "print(mA(predictions, label))\n",
    "print(acc(predictions, label))\n",
    "prec_value = prec(predictions, label)\n",
    "print(prec_value)\n",
    "rec_value = rec(predictions, label)\n",
    "print(rec_value)\n",
    "print(2*prec_value*rec_value/(prec_value+rec_value))"
   ]
  },
  {
   "cell_type": "code",
   "execution_count": null,
   "metadata": {},
   "outputs": [],
   "source": []
  },
  {
   "cell_type": "code",
   "execution_count": null,
   "metadata": {},
   "outputs": [],
   "source": []
  }
 ],
 "metadata": {
  "kernelspec": {
   "display_name": "Python 3",
   "language": "python",
   "name": "python3"
  },
  "language_info": {
   "codemirror_mode": {
    "name": "ipython",
    "version": 3
   },
   "file_extension": ".py",
   "mimetype": "text/x-python",
   "name": "python",
   "nbconvert_exporter": "python",
   "pygments_lexer": "ipython3",
   "version": "3.6.5"
  }
 },
 "nbformat": 4,
 "nbformat_minor": 2
}

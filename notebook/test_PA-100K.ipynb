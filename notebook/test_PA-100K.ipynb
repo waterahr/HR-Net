{
 "cells": [
  {
   "cell_type": "code",
   "execution_count": 1,
   "metadata": {},
   "outputs": [
    {
     "name": "stdout",
     "output_type": "stream",
     "text": [
      "1.jpg\r\n",
      "berk.csv\r\n",
      "berk-test.csv\r\n",
      "GoogLeNet_binary61_feature_imagenet_all.npy\r\n",
      "GoogLeNet_binary61_feature_imagenet_test7600.npy\r\n",
      "googlenet_weights.npy\r\n",
      "logs\r\n",
      "metrics\r\n",
      "models\r\n",
      "myRAP_labels_pd.csv\r\n",
      "OEDCWPAL_PETA_features_all.pickle\r\n",
      "PA-100K_labels_pd.csv\r\n",
      "partGoogleLenet.png\r\n",
      "PETA_coarse_to_fine_labels_pd.csv\r\n",
      "PETA.csv\r\n",
      "PETA_labels_pd.csv\r\n",
      "PETA_lowerBody_labels_pd.csv\r\n",
      "PETA_ratio_positive_samples_for_attributes.json\r\n",
      "predictions\r\n",
      "RAP_labels_pd.csv\r\n",
      "RAP_partion.npy\r\n",
      "RAP_partion.txt\r\n",
      "README.md\r\n",
      "relation_array.npy\r\n",
      "samples\r\n",
      "state_transition_matrix.npy\r\n",
      "test_predictions.csv\r\n",
      "title.csv\r\n"
     ]
    }
   ],
   "source": [
    "import numpy as np\n",
    "import pandas as pd\n",
    "from sklearn.metrics import accuracy_score, roc_curve, recall_score, auc, roc_auc_score\n",
    "\n",
    "!ls ../results"
   ]
  },
  {
   "cell_type": "code",
   "execution_count": 3,
   "metadata": {},
   "outputs": [
    {
     "name": "stdout",
     "output_type": "stream",
     "text": [
      "['Female', 'AgeOver60', 'Age18-60', 'AgeLess18', 'Front', 'Side', 'Back', 'Hat', 'Glasses', 'HandBag', 'ShoulderBag', 'Backpack', 'HoldObjectsInFront', 'ShortSleeve', 'LongSleeve', 'UpperStride', 'UpperLogo', 'UpperPlaid', 'UpperSplice', 'LowerStripe', 'LowerPattern', 'LongCoat', 'Trousers', 'Shorts', 'Skirt&Dress', 'boots']\n"
     ]
    }
   ],
   "source": [
    "import scipy.io as sio\n",
    "\n",
    "data = sio.loadmat('/home/anhaoran/data/pedestrian_attributes_PA-100K/annotation/annotation.mat')\n",
    "attributes_list = []\n",
    "for i in range(data['attributes'].shape[0]):\n",
    "    attributes_list.append(data['attributes'][i][0][0])\n",
    "print(attributes_list)"
   ]
  },
  {
   "cell_type": "code",
   "execution_count": 4,
   "metadata": {},
   "outputs": [
    {
     "name": "stdout",
     "output_type": "stream",
     "text": [
      "The total attributes labeled:  26\n",
      "['UpperStride', 'UpperLogo', 'UpperPlaid', 'UpperSplice', 'LowerStripe', 'LowerPattern', 'Hat', 'Glasses', 'HandBag', 'ShoulderBag', 'Backpack', 'HoldObjectsInFront', 'ShortSleeve', 'LongSleeve', 'LongCoat', 'Trousers', 'Shorts', 'Skirt&Dress', 'boots', 'Female', 'AgeOver60', 'Age18-60', 'AgeLess18', 'Front', 'Side', 'Back']\n"
     ]
    }
   ],
   "source": [
    "low_level = [15,16,17,18,19,20]\n",
    "mid_level = [7,8,9,10,11,12,13,14,21,22,23,24,25]\n",
    "high_level = [0,1,2,3,4,5,6]\n",
    "attributes_list_hiar = list(np.array(attributes_list)[list(np.hstack((low_level, mid_level, high_level)))])\n",
    "print(\"The total attributes labeled: \", len(attributes_list_hiar))\n",
    "print(attributes_list_hiar)"
   ]
  },
  {
   "cell_type": "code",
   "execution_count": 5,
   "metadata": {},
   "outputs": [
    {
     "name": "stdout",
     "output_type": "stream",
     "text": [
      "The shape of the y_test is:  (10000, 26)\n",
      "The shape of the y_test is:  (10000, 26)\n"
     ]
    }
   ],
   "source": [
    "filename = r\"../results/PA-100K_labels_pd.csv\"\n",
    "data = np.array(pd.read_csv(filename))[:, 1:]\n",
    "length = len(data)\n",
    "data_y = np.zeros((length, 26))\n",
    "for i in range(length):\n",
    "    data_y[i] = np.array(data[i, 1:27], dtype=\"float32\")\n",
    "data_y_hiar = data_y[:, list(np.hstack((low_level, mid_level, high_level)))]\n",
    "y_test = data_y[90000:]\n",
    "y_test_hiar = data_y_hiar[90000:]\n",
    "print(\"The shape of the y_test is: \", y_test.shape)\n",
    "print(\"The shape of the y_test is: \", y_test_hiar.shape)"
   ]
  },
  {
   "cell_type": "markdown",
   "metadata": {},
   "source": [
    "# Defining the function"
   ]
  },
  {
   "cell_type": "code",
   "execution_count": 6,
   "metadata": {},
   "outputs": [],
   "source": [
    "def mA(y_pred, y_true):\n",
    "    M = len(y_pred)\n",
    "    L = len(y_pred[0])\n",
    "    res = 0\n",
    "    for i in range(L):\n",
    "        P = sum(y_true[:, i])\n",
    "        N = M - P\n",
    "        TP = sum(y_pred[:, i]*y_true[:, i])\n",
    "        TN = list(y_pred[:, i]+y_true[:, i] == 0).count(True)\n",
    "        #print(P,',', N,',', TP,',', TN)\n",
    "        if P != 0:\n",
    "            res += TP/P + TN/N\n",
    "        else:\n",
    "            res += TN/N\n",
    "    return res / (2*L)\n",
    "\n",
    "def acc(y_pred, y_true):\n",
    "    M = len(y_pred)\n",
    "    M_ = 0\n",
    "    res = 0\n",
    "    for i in range(M):\n",
    "        #print(np.shape(y_pred[i]*y_true[i]))\n",
    "        if sum(y_pred[i])+sum(y_true[i])-sum(y_pred[i]*y_true[i]) != 0:\n",
    "            res += sum(y_pred[i]*y_true[i]) / (sum(y_pred[i])+sum(y_true[i])-sum(y_pred[i]*y_true[i]))\n",
    "            M_ += 1\n",
    "    return res / M_\n",
    "\n",
    "def prec(y_pred, y_true):\n",
    "    M = len(y_pred)\n",
    "    M_ = 0\n",
    "    res = 0\n",
    "    for i in range(M):\n",
    "        if sum(y_pred[i]) != 0:\n",
    "            res += sum(y_pred[i]*y_true[i]) / sum(y_pred[i])\n",
    "            M_ += 1\n",
    "    if M_ == 0:\n",
    "        return 0\n",
    "    return res / M_\n",
    "\n",
    "def rec(y_pred, y_true):\n",
    "    M = len(y_pred)\n",
    "    M_ = 0\n",
    "    res = 0\n",
    "    for i in range(M):\n",
    "        if sum(y_true[i]) != 0:\n",
    "            res += sum(y_pred[i]*y_true[i]) / sum(y_true[i])\n",
    "            M_ += 1\n",
    "    if M_ == 0:\n",
    "        return 0\n",
    "    return res / M_"
   ]
  },
  {
   "cell_type": "markdown",
   "metadata": {},
   "source": [
    "# Metrics"
   ]
  },
  {
   "cell_type": "code",
   "execution_count": 10,
   "metadata": {},
   "outputs": [
    {
     "name": "stdout",
     "output_type": "stream",
     "text": [
      "hiarBayesGoogLeNet\n",
      "0.647131606568794\n",
      "0.6260379964480025\n",
      "0.7895253174603469\n",
      "0.7246015079365342\n",
      "0.755671488002179\n",
      "GoogLeNet\n",
      "0.6567051470450717\n",
      "0.6357400238650315\n",
      "0.7985230158730449\n",
      "0.7292011904762148\n",
      "0.7622893338696806\n"
     ]
    }
   ],
   "source": [
    "###hiarBayesGoogLeNet\n",
    "predictions_prob = np.load(\"../results/predictions/hiarBayesGoogLeNet_binary26_binary26_final50iter_model_predictions_imagenet_test_PA-100K.npy\")\n",
    "predictions = np.array(predictions_prob >= 0.5, dtype=\"float64\")\n",
    "label = y_test_hiar\n",
    "print(\"hiarBayesGoogLeNet\")\n",
    "print(mA(predictions, label))\n",
    "print(acc(predictions, label))\n",
    "prec_value = prec(predictions, label)\n",
    "print(prec_value)\n",
    "rec_value = rec(predictions, label)\n",
    "print(rec_value)\n",
    "print(2*prec_value*rec_value/(prec_value+rec_value))\n",
    "\n",
    "\n",
    "###GoogLeNet\n",
    "predictions_prob = np.load(\"../results/predictions/GoogLeNet_binary26_binary26_trainable__final50iter_model_predictions_imagenet_test_PA-100K.npy\")\n",
    "predictions = np.array(predictions_prob >= 0.5, dtype=\"float64\")\n",
    "label = y_test\n",
    "print(\"GoogLeNet\")\n",
    "print(mA(predictions, label))\n",
    "print(acc(predictions, label))\n",
    "prec_value = prec(predictions, label)\n",
    "print(prec_value)\n",
    "rec_value = rec(predictions, label)\n",
    "print(rec_value)\n",
    "print(2*prec_value*rec_value/(prec_value+rec_value))"
   ]
  },
  {
   "cell_type": "code",
   "execution_count": null,
   "metadata": {},
   "outputs": [],
   "source": []
  }
 ],
 "metadata": {
  "kernelspec": {
   "display_name": "Python 3",
   "language": "python",
   "name": "python3"
  },
  "language_info": {
   "codemirror_mode": {
    "name": "ipython",
    "version": 3
   },
   "file_extension": ".py",
   "mimetype": "text/x-python",
   "name": "python",
   "nbconvert_exporter": "python",
   "pygments_lexer": "ipython3",
   "version": "3.6.5"
  }
 },
 "nbformat": 4,
 "nbformat_minor": 2
}
